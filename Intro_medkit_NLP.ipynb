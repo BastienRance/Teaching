{
  "cells": [
    {
      "cell_type": "markdown",
      "id": "8ab15e4b-c25c-4391-bacf-d692f13f4b4e",
      "metadata": {
        "id": "8ab15e4b-c25c-4391-bacf-d692f13f4b4e"
      },
      "source": [
        "# Natural Language Processing with python and medkit"
      ]
    },
    {
      "cell_type": "markdown",
      "id": "71c08a6b-7d5f-49a2-a4cb-e75738d47bbc",
      "metadata": {
        "id": "71c08a6b-7d5f-49a2-a4cb-e75738d47bbc"
      },
      "source": [
        "medkit (github: https://github.com/TeamHeka/medkit, documentation: https://medkit.readthedocs.io/en/stable/) is library dedicated to the treatment of clinical data.\n",
        "\n",
        "For the moment, mekdit is mainly dedicated to two types of data: text and audio data. For texts, resources provided are mostly developed in French, but the library could be used in other languages."
      ]
    },
    {
      "cell_type": "markdown",
      "id": "0e1580ba-0b24-4fc9-94ad-a3b50ae999ab",
      "metadata": {
        "id": "0e1580ba-0b24-4fc9-94ad-a3b50ae999ab"
      },
      "source": [
        "## Installing medkit"
      ]
    },
    {
      "cell_type": "code",
      "execution_count": null,
      "id": "30359e39-9717-41e2-a557-d8fa1c198b09",
      "metadata": {
        "colab": {
          "base_uri": "https://localhost:8080/",
          "height": 1000
        },
        "id": "30359e39-9717-41e2-a557-d8fa1c198b09",
        "outputId": "581f2929-5a5d-4ec5-e880-28098617a036"
      },
      "outputs": [
        {
          "output_type": "stream",
          "name": "stdout",
          "text": [
            "Collecting medkit-lib[optional]\n",
            "  Downloading medkit_lib-0.12.0-py3-none-any.whl (279 kB)\n",
            "\u001b[2K     \u001b[90m━━━━━━━━━━━━━━━━━━━━━━━━━━━━━━━━━━━━━━━━\u001b[0m \u001b[32m279.9/279.9 kB\u001b[0m \u001b[31m3.1 MB/s\u001b[0m eta \u001b[36m0:00:00\u001b[0m\n",
            "\u001b[?25hCollecting Unidecode (from medkit-lib[optional])\n",
            "  Downloading Unidecode-1.3.7-py3-none-any.whl (235 kB)\n",
            "\u001b[2K     \u001b[90m━━━━━━━━━━━━━━━━━━━━━━━━━━━━━━━━━━━━━━━━\u001b[0m \u001b[32m235.5/235.5 kB\u001b[0m \u001b[31m24.7 MB/s\u001b[0m eta \u001b[36m0:00:00\u001b[0m\n",
            "\u001b[?25hCollecting duptextfinder (from medkit-lib[optional])\n",
            "  Downloading duptextfinder-0.3.0-py3-none-any.whl (17 kB)\n",
            "Collecting flashtext<3.0,>=2.7 (from medkit-lib[optional])\n",
            "  Downloading flashtext-2.7.tar.gz (14 kB)\n",
            "  Preparing metadata (setup.py) ... \u001b[?25l\u001b[?25hdone\n",
            "Collecting iamsystem>=0.3 (from medkit-lib[optional])\n",
            "  Downloading iamsystem-0.6.0-py3-none-any.whl (56 kB)\n",
            "\u001b[2K     \u001b[90m━━━━━━━━━━━━━━━━━━━━━━━━━━━━━━━━━━━━━━━━\u001b[0m \u001b[32m56.1/56.1 kB\u001b[0m \u001b[31m3.9 MB/s\u001b[0m eta \u001b[36m0:00:00\u001b[0m\n",
            "\u001b[?25hCollecting intervaltree (from medkit-lib[optional])\n",
            "  Downloading intervaltree-3.1.0.tar.gz (32 kB)\n",
            "  Preparing metadata (setup.py) ... \u001b[?25l\u001b[?25hdone\n",
            "Requirement already satisfied: numpy in /usr/local/lib/python3.10/dist-packages (from medkit-lib[optional]) (1.23.5)\n",
            "Collecting pyaml (from medkit-lib[optional])\n",
            "  Downloading pyaml-23.12.0-py3-none-any.whl (23 kB)\n",
            "Collecting pysrt<2.0.0,>=1.1.2 (from medkit-lib[optional])\n",
            "  Downloading pysrt-1.1.2.tar.gz (104 kB)\n",
            "\u001b[2K     \u001b[90m━━━━━━━━━━━━━━━━━━━━━━━━━━━━━━━━━━━━━━━━\u001b[0m \u001b[32m104.4/104.4 kB\u001b[0m \u001b[31m8.3 MB/s\u001b[0m eta \u001b[36m0:00:00\u001b[0m\n",
            "\u001b[?25h  Preparing metadata (setup.py) ... \u001b[?25l\u001b[?25hdone\n",
            "Requirement already satisfied: requests in /usr/local/lib/python3.10/dist-packages (from medkit-lib[optional]) (2.31.0)\n",
            "Requirement already satisfied: smart-open in /usr/local/lib/python3.10/dist-packages (from medkit-lib[optional]) (6.4.0)\n",
            "Requirement already satisfied: soundfile in /usr/local/lib/python3.10/dist-packages (from medkit-lib[optional]) (0.12.1)\n",
            "Requirement already satisfied: tqdm in /usr/local/lib/python3.10/dist-packages (from medkit-lib[optional]) (4.66.1)\n",
            "Requirement already satisfied: typing-extensions in /usr/local/lib/python3.10/dist-packages (from medkit-lib[optional]) (4.5.0)\n",
            "Requirement already satisfied: wheel in /usr/local/lib/python3.10/dist-packages (from medkit-lib[optional]) (0.42.0)\n",
            "Collecting PyRuSH<2.0,>=1.0 (from medkit-lib[optional])\n",
            "  Downloading PyRuSH-1.0.8-cp310-cp310-manylinux_2_5_x86_64.manylinux1_x86_64.manylinux_2_17_x86_64.manylinux2014_x86_64.whl (67 kB)\n",
            "\u001b[2K     \u001b[90m━━━━━━━━━━━━━━━━━━━━━━━━━━━━━━━━━━━━━━━━\u001b[0m \u001b[32m67.4/67.4 kB\u001b[0m \u001b[31m3.0 MB/s\u001b[0m eta \u001b[36m0:00:00\u001b[0m\n",
            "\u001b[?25hCollecting feather-format<0.5,>=0.4 (from medkit-lib[optional])\n",
            "  Downloading feather-format-0.4.1.tar.gz (3.2 kB)\n",
            "  Preparing metadata (setup.py) ... \u001b[?25l\u001b[?25hdone\n",
            "Requirement already satisfied: packaging in /usr/local/lib/python3.10/dist-packages (from medkit-lib[optional]) (23.2)\n",
            "Requirement already satisfied: pandas<2.0,>=1.4 in /usr/local/lib/python3.10/dist-packages (from medkit-lib[optional]) (1.5.3)\n",
            "Collecting pyannote-audio<4.0,>=3.1 (from medkit-lib[optional])\n",
            "  Downloading pyannote.audio-3.1.1-py2.py3-none-any.whl (208 kB)\n",
            "\u001b[2K     \u001b[90m━━━━━━━━━━━━━━━━━━━━━━━━━━━━━━━━━━━━━━━━\u001b[0m \u001b[32m208.7/208.7 kB\u001b[0m \u001b[31m17.7 MB/s\u001b[0m eta \u001b[36m0:00:00\u001b[0m\n",
            "\u001b[?25hCollecting quickumls<2.0,>=1.4 (from medkit-lib[optional])\n",
            "  Downloading quickumls-1.4.2-py3-none-any.whl (27 kB)\n",
            "Collecting resampy<0.5,>=0.4 (from medkit-lib[optional])\n",
            "  Downloading resampy-0.4.2-py3-none-any.whl (3.1 MB)\n",
            "\u001b[2K     \u001b[90m━━━━━━━━━━━━━━━━━━━━━━━━━━━━━━━━━━━━━━━━\u001b[0m \u001b[32m3.1/3.1 MB\u001b[0m \u001b[31m52.7 MB/s\u001b[0m eta \u001b[36m0:00:00\u001b[0m\n",
            "\u001b[?25hCollecting sacremoses (from medkit-lib[optional])\n",
            "  Downloading sacremoses-0.1.1-py3-none-any.whl (897 kB)\n",
            "\u001b[2K     \u001b[90m━━━━━━━━━━━━━━━━━━━━━━━━━━━━━━━━━━━━━━━━\u001b[0m \u001b[32m897.5/897.5 kB\u001b[0m \u001b[31m51.6 MB/s\u001b[0m eta \u001b[36m0:00:00\u001b[0m\n",
            "\u001b[?25hCollecting sentencepiece (from medkit-lib[optional])\n",
            "  Downloading sentencepiece-0.1.99-cp310-cp310-manylinux_2_17_x86_64.manylinux2014_x86_64.whl (1.3 MB)\n",
            "\u001b[2K     \u001b[90m━━━━━━━━━━━━━━━━━━━━━━━━━━━━━━━━━━━━━━━━\u001b[0m \u001b[32m1.3/1.3 MB\u001b[0m \u001b[31m48.1 MB/s\u001b[0m eta \u001b[36m0:00:00\u001b[0m\n",
            "\u001b[?25hCollecting seqeval<2.0.0,>=1.2.2 (from medkit-lib[optional])\n",
            "  Downloading seqeval-1.2.2.tar.gz (43 kB)\n",
            "\u001b[2K     \u001b[90m━━━━━━━━━━━━━━━━━━━━━━━━━━━━━━━━━━━━━━━━\u001b[0m \u001b[32m43.6/43.6 kB\u001b[0m \u001b[31m5.4 MB/s\u001b[0m eta \u001b[36m0:00:00\u001b[0m\n",
            "\u001b[?25h  Preparing metadata (setup.py) ... \u001b[?25l\u001b[?25hdone\n",
            "Requirement already satisfied: spacy<4.0,>=3.4 in /usr/local/lib/python3.10/dist-packages (from medkit-lib[optional]) (3.6.1)\n",
            "Collecting speechbrain<0.6,>=0.5 (from medkit-lib[optional])\n",
            "  Downloading speechbrain-0.5.16-py3-none-any.whl (630 kB)\n",
            "\u001b[2K     \u001b[90m━━━━━━━━━━━━━━━━━━━━━━━━━━━━━━━━━━━━━━━━\u001b[0m \u001b[32m630.6/630.6 kB\u001b[0m \u001b[31m32.5 MB/s\u001b[0m eta \u001b[36m0:00:00\u001b[0m\n",
            "\u001b[?25hCollecting torch<3.0.0,>=2.1.1 (from medkit-lib[optional])\n",
            "  Downloading torch-2.1.2-cp310-cp310-manylinux1_x86_64.whl (670.2 MB)\n",
            "\u001b[2K     \u001b[90m━━━━━━━━━━━━━━━━━━━━━━━━━━━━━━━━━━━━━━━━\u001b[0m \u001b[32m670.2/670.2 MB\u001b[0m \u001b[31m2.4 MB/s\u001b[0m eta \u001b[36m0:00:00\u001b[0m\n",
            "\u001b[?25hCollecting torchaudio<3.0.0,>=2.1.1 (from medkit-lib[optional])\n",
            "  Downloading torchaudio-2.1.2-cp310-cp310-manylinux1_x86_64.whl (3.3 MB)\n",
            "\u001b[2K     \u001b[90m━━━━━━━━━━━━━━━━━━━━━━━━━━━━━━━━━━━━━━━━\u001b[0m \u001b[32m3.3/3.3 MB\u001b[0m \u001b[31m93.2 MB/s\u001b[0m eta \u001b[36m0:00:00\u001b[0m\n",
            "\u001b[?25hRequirement already satisfied: transformers<5.0,>=4.21 in /usr/local/lib/python3.10/dist-packages (from medkit-lib[optional]) (4.35.2)\n",
            "Collecting unqlite<0.10.0,>=0.9.6 (from medkit-lib[optional])\n",
            "  Downloading unqlite-0.9.6.tar.gz (580 kB)\n",
            "\u001b[2K     \u001b[90m━━━━━━━━━━━━━━━━━━━━━━━━━━━━━━━━━━━━━━━━\u001b[0m \u001b[32m580.0/580.0 kB\u001b[0m \u001b[31m49.0 MB/s\u001b[0m eta \u001b[36m0:00:00\u001b[0m\n",
            "\u001b[?25h  Preparing metadata (setup.py) ... \u001b[?25l\u001b[?25hdone\n",
            "Collecting webrtcvad<3.0,>=2.0 (from medkit-lib[optional])\n",
            "  Downloading webrtcvad-2.0.10.tar.gz (66 kB)\n",
            "\u001b[2K     \u001b[90m━━━━━━━━━━━━━━━━━━━━━━━━━━━━━━━━━━━━━━━━\u001b[0m \u001b[32m66.2/66.2 kB\u001b[0m \u001b[31m9.9 MB/s\u001b[0m eta \u001b[36m0:00:00\u001b[0m\n",
            "\u001b[?25h  Preparing metadata (setup.py) ... \u001b[?25l\u001b[?25hdone\n",
            "Requirement already satisfied: pyarrow>=0.4.0 in /usr/local/lib/python3.10/dist-packages (from feather-format<0.5,>=0.4->medkit-lib[optional]) (10.0.1)\n",
            "Collecting anyascii>=0.3.2 (from iamsystem>=0.3->medkit-lib[optional])\n",
            "  Downloading anyascii-0.3.2-py3-none-any.whl (289 kB)\n",
            "\u001b[2K     \u001b[90m━━━━━━━━━━━━━━━━━━━━━━━━━━━━━━━━━━━━━━━━\u001b[0m \u001b[32m289.9/289.9 kB\u001b[0m \u001b[31m30.9 MB/s\u001b[0m eta \u001b[36m0:00:00\u001b[0m\n",
            "\u001b[?25hCollecting spellwise>=0.8.0 (from iamsystem>=0.3->medkit-lib[optional])\n",
            "  Downloading spellwise-0.8.1-py3-none-any.whl (20 kB)\n",
            "Collecting pysimstring~=1.2.1 (from iamsystem>=0.3->medkit-lib[optional])\n",
            "  Downloading pysimstring-1.2.1-cp310-cp310-manylinux_2_17_x86_64.manylinux2014_x86_64.whl (1.5 MB)\n",
            "\u001b[2K     \u001b[90m━━━━━━━━━━━━━━━━━━━━━━━━━━━━━━━━━━━━━━━━\u001b[0m \u001b[32m1.5/1.5 MB\u001b[0m \u001b[31m79.9 MB/s\u001b[0m eta \u001b[36m0:00:00\u001b[0m\n",
            "\u001b[?25hCollecting typing-extensions (from medkit-lib[optional])\n",
            "  Downloading typing_extensions-4.4.0-py3-none-any.whl (26 kB)\n",
            "Requirement already satisfied: python-dateutil>=2.8.1 in /usr/local/lib/python3.10/dist-packages (from pandas<2.0,>=1.4->medkit-lib[optional]) (2.8.2)\n",
            "Requirement already satisfied: pytz>=2020.1 in /usr/local/lib/python3.10/dist-packages (from pandas<2.0,>=1.4->medkit-lib[optional]) (2023.3.post1)\n",
            "Collecting asteroid-filterbanks>=0.4 (from pyannote-audio<4.0,>=3.1->medkit-lib[optional])\n",
            "  Downloading asteroid_filterbanks-0.4.0-py3-none-any.whl (29 kB)\n",
            "Collecting einops>=0.6.0 (from pyannote-audio<4.0,>=3.1->medkit-lib[optional])\n",
            "  Downloading einops-0.7.0-py3-none-any.whl (44 kB)\n",
            "\u001b[2K     \u001b[90m━━━━━━━━━━━━━━━━━━━━━━━━━━━━━━━━━━━━━━━━\u001b[0m \u001b[32m44.6/44.6 kB\u001b[0m \u001b[31m6.3 MB/s\u001b[0m eta \u001b[36m0:00:00\u001b[0m\n",
            "\u001b[?25hRequirement already satisfied: huggingface-hub>=0.13.0 in /usr/local/lib/python3.10/dist-packages (from pyannote-audio<4.0,>=3.1->medkit-lib[optional]) (0.20.1)\n",
            "Collecting lightning>=2.0.1 (from pyannote-audio<4.0,>=3.1->medkit-lib[optional])\n",
            "  Downloading lightning-2.1.3-py3-none-any.whl (2.0 MB)\n",
            "\u001b[2K     \u001b[90m━━━━━━━━━━━━━━━━━━━━━━━━━━━━━━━━━━━━━━━━\u001b[0m \u001b[32m2.0/2.0 MB\u001b[0m \u001b[31m95.4 MB/s\u001b[0m eta \u001b[36m0:00:00\u001b[0m\n",
            "\u001b[?25hCollecting omegaconf<3.0,>=2.1 (from pyannote-audio<4.0,>=3.1->medkit-lib[optional])\n",
            "  Downloading omegaconf-2.3.0-py3-none-any.whl (79 kB)\n",
            "\u001b[2K     \u001b[90m━━━━━━━━━━━━━━━━━━━━━━━━━━━━━━━━━━━━━━━━\u001b[0m \u001b[32m79.5/79.5 kB\u001b[0m \u001b[31m11.3 MB/s\u001b[0m eta \u001b[36m0:00:00\u001b[0m\n",
            "\u001b[?25hCollecting pyannote.core>=5.0.0 (from pyannote-audio<4.0,>=3.1->medkit-lib[optional])\n",
            "  Downloading pyannote.core-5.0.0-py3-none-any.whl (58 kB)\n",
            "\u001b[2K     \u001b[90m━━━━━━━━━━━━━━━━━━━━━━━━━━━━━━━━━━━━━━━━\u001b[0m \u001b[32m58.5/58.5 kB\u001b[0m \u001b[31m8.5 MB/s\u001b[0m eta \u001b[36m0:00:00\u001b[0m\n",
            "\u001b[?25hCollecting pyannote.database>=5.0.1 (from pyannote-audio<4.0,>=3.1->medkit-lib[optional])\n",
            "  Downloading pyannote.database-5.0.1-py3-none-any.whl (48 kB)\n",
            "\u001b[2K     \u001b[90m━━━━━━━━━━━━━━━━━━━━━━━━━━━━━━━━━━━━━━━━\u001b[0m \u001b[32m48.1/48.1 kB\u001b[0m \u001b[31m6.9 MB/s\u001b[0m eta \u001b[36m0:00:00\u001b[0m\n",
            "\u001b[?25hCollecting pyannote.metrics>=3.2 (from pyannote-audio<4.0,>=3.1->medkit-lib[optional])\n",
            "  Downloading pyannote.metrics-3.2.1-py3-none-any.whl (51 kB)\n",
            "\u001b[2K     \u001b[90m━━━━━━━━━━━━━━━━━━━━━━━━━━━━━━━━━━━━━━━━\u001b[0m \u001b[32m51.4/51.4 kB\u001b[0m \u001b[31m7.5 MB/s\u001b[0m eta \u001b[36m0:00:00\u001b[0m\n",
            "\u001b[?25hCollecting pyannote.pipeline>=3.0.1 (from pyannote-audio<4.0,>=3.1->medkit-lib[optional])\n",
            "  Downloading pyannote.pipeline-3.0.1-py3-none-any.whl (31 kB)\n",
            "Collecting pytorch-metric-learning>=2.1.0 (from pyannote-audio<4.0,>=3.1->medkit-lib[optional])\n",
            "  Downloading pytorch_metric_learning-2.4.1-py3-none-any.whl (118 kB)\n",
            "\u001b[2K     \u001b[90m━━━━━━━━━━━━━━━━━━━━━━━━━━━━━━━━━━━━━━━━\u001b[0m \u001b[32m118.6/118.6 kB\u001b[0m \u001b[31m15.6 MB/s\u001b[0m eta \u001b[36m0:00:00\u001b[0m\n",
            "\u001b[?25hRequirement already satisfied: rich>=12.0.0 in /usr/local/lib/python3.10/dist-packages (from pyannote-audio<4.0,>=3.1->medkit-lib[optional]) (13.7.0)\n",
            "Collecting semver>=3.0.0 (from pyannote-audio<4.0,>=3.1->medkit-lib[optional])\n",
            "  Downloading semver-3.0.2-py3-none-any.whl (17 kB)\n",
            "Collecting tensorboardX>=2.6 (from pyannote-audio<4.0,>=3.1->medkit-lib[optional])\n",
            "  Downloading tensorboardX-2.6.2.2-py2.py3-none-any.whl (101 kB)\n",
            "\u001b[2K     \u001b[90m━━━━━━━━━━━━━━━━━━━━━━━━━━━━━━━━━━━━━━━━\u001b[0m \u001b[32m101.7/101.7 kB\u001b[0m \u001b[31m13.4 MB/s\u001b[0m eta \u001b[36m0:00:00\u001b[0m\n",
            "\u001b[?25hCollecting torch-audiomentations>=0.11.0 (from pyannote-audio<4.0,>=3.1->medkit-lib[optional])\n",
            "  Downloading torch_audiomentations-0.11.0-py3-none-any.whl (47 kB)\n",
            "\u001b[2K     \u001b[90m━━━━━━━━━━━━━━━━━━━━━━━━━━━━━━━━━━━━━━━━\u001b[0m \u001b[32m47.9/47.9 kB\u001b[0m \u001b[31m6.1 MB/s\u001b[0m eta \u001b[36m0:00:00\u001b[0m\n",
            "\u001b[?25hCollecting torchmetrics>=0.11.0 (from pyannote-audio<4.0,>=3.1->medkit-lib[optional])\n",
            "  Downloading torchmetrics-1.2.1-py3-none-any.whl (806 kB)\n",
            "\u001b[2K     \u001b[90m━━━━━━━━━━━━━━━━━━━━━━━━━━━━━━━━━━━━━━━━\u001b[0m \u001b[32m806.1/806.1 kB\u001b[0m \u001b[31m65.1 MB/s\u001b[0m eta \u001b[36m0:00:00\u001b[0m\n",
            "\u001b[?25hCollecting Cython<3.0,>=0.25 (from PyRuSH<2.0,>=1.0->medkit-lib[optional])\n",
            "  Downloading Cython-0.29.37-cp310-cp310-manylinux_2_17_x86_64.manylinux2014_x86_64.manylinux_2_24_x86_64.whl (1.9 MB)\n",
            "\u001b[2K     \u001b[90m━━━━━━━━━━━━━━━━━━━━━━━━━━━━━━━━━━━━━━━━\u001b[0m \u001b[32m1.9/1.9 MB\u001b[0m \u001b[31m99.2 MB/s\u001b[0m eta \u001b[36m0:00:00\u001b[0m\n",
            "\u001b[?25hRequirement already satisfied: setuptools in /usr/local/lib/python3.10/dist-packages (from PyRuSH<2.0,>=1.0->medkit-lib[optional]) (67.7.2)\n",
            "Collecting PyFastNER>=1.0.8 (from PyRuSH<2.0,>=1.0->medkit-lib[optional])\n",
            "  Downloading PyFastNER-1.0.10-py3-none-any.whl (22 kB)\n",
            "Collecting quicksectx>=0.3.5 (from PyRuSH<2.0,>=1.0->medkit-lib[optional])\n",
            "  Downloading quicksectx-0.3.8-cp310-cp310-manylinux_2_17_x86_64.manylinux2014_x86_64.whl (407 kB)\n",
            "\u001b[2K     \u001b[90m━━━━━━━━━━━━━━━━━━━━━━━━━━━━━━━━━━━━━━━━\u001b[0m \u001b[32m407.7/407.7 kB\u001b[0m \u001b[31m46.3 MB/s\u001b[0m eta \u001b[36m0:00:00\u001b[0m\n",
            "\u001b[?25hRequirement already satisfied: chardet in /usr/local/lib/python3.10/dist-packages (from pysrt<2.0.0,>=1.1.2->medkit-lib[optional]) (5.2.0)\n",
            "Collecting leveldb>=0.193 (from quickumls<2.0,>=1.4->medkit-lib[optional])\n",
            "  Downloading leveldb-0.201.tar.gz (236 kB)\n",
            "\u001b[2K     \u001b[90m━━━━━━━━━━━━━━━━━━━━━━━━━━━━━━━━━━━━━━━━\u001b[0m \u001b[32m236.5/236.5 kB\u001b[0m \u001b[31m31.2 MB/s\u001b[0m eta \u001b[36m0:00:00\u001b[0m\n",
            "\u001b[?25h  Preparing metadata (setup.py) ... \u001b[?25l\u001b[?25hdone\n",
            "Requirement already satisfied: nltk>=3.3 in /usr/local/lib/python3.10/dist-packages (from quickumls<2.0,>=1.4->medkit-lib[optional]) (3.8.1)\n",
            "Collecting quickumls-simstring>=1.1.5r1 (from quickumls<2.0,>=1.4->medkit-lib[optional])\n",
            "  Downloading quickumls_simstring-1.1.5r1.tar.gz (68 kB)\n",
            "\u001b[2K     \u001b[90m━━━━━━━━━━━━━━━━━━━━━━━━━━━━━━━━━━━━━━━━\u001b[0m \u001b[32m68.5/68.5 kB\u001b[0m \u001b[31m10.2 MB/s\u001b[0m eta \u001b[36m0:00:00\u001b[0m\n",
            "\u001b[?25h  Preparing metadata (setup.py) ... \u001b[?25l\u001b[?25hdone\n",
            "Requirement already satisfied: six in /usr/local/lib/python3.10/dist-packages (from quickumls<2.0,>=1.4->medkit-lib[optional]) (1.16.0)\n",
            "Requirement already satisfied: numba>=0.53 in /usr/local/lib/python3.10/dist-packages (from resampy<0.5,>=0.4->medkit-lib[optional]) (0.58.1)\n",
            "Requirement already satisfied: scikit-learn>=0.21.3 in /usr/local/lib/python3.10/dist-packages (from seqeval<2.0.0,>=1.2.2->medkit-lib[optional]) (1.2.2)\n",
            "Requirement already satisfied: cffi>=1.0 in /usr/local/lib/python3.10/dist-packages (from soundfile->medkit-lib[optional]) (1.16.0)\n",
            "Requirement already satisfied: spacy-legacy<3.1.0,>=3.0.11 in /usr/local/lib/python3.10/dist-packages (from spacy<4.0,>=3.4->medkit-lib[optional]) (3.0.12)\n",
            "Requirement already satisfied: spacy-loggers<2.0.0,>=1.0.0 in /usr/local/lib/python3.10/dist-packages (from spacy<4.0,>=3.4->medkit-lib[optional]) (1.0.5)\n",
            "Requirement already satisfied: murmurhash<1.1.0,>=0.28.0 in /usr/local/lib/python3.10/dist-packages (from spacy<4.0,>=3.4->medkit-lib[optional]) (1.0.10)\n",
            "Requirement already satisfied: cymem<2.1.0,>=2.0.2 in /usr/local/lib/python3.10/dist-packages (from spacy<4.0,>=3.4->medkit-lib[optional]) (2.0.8)\n",
            "Requirement already satisfied: preshed<3.1.0,>=3.0.2 in /usr/local/lib/python3.10/dist-packages (from spacy<4.0,>=3.4->medkit-lib[optional]) (3.0.9)\n",
            "Requirement already satisfied: thinc<8.2.0,>=8.1.8 in /usr/local/lib/python3.10/dist-packages (from spacy<4.0,>=3.4->medkit-lib[optional]) (8.1.12)\n",
            "Requirement already satisfied: wasabi<1.2.0,>=0.9.1 in /usr/local/lib/python3.10/dist-packages (from spacy<4.0,>=3.4->medkit-lib[optional]) (1.1.2)\n",
            "Requirement already satisfied: srsly<3.0.0,>=2.4.3 in /usr/local/lib/python3.10/dist-packages (from spacy<4.0,>=3.4->medkit-lib[optional]) (2.4.8)\n",
            "Requirement already satisfied: catalogue<2.1.0,>=2.0.6 in /usr/local/lib/python3.10/dist-packages (from spacy<4.0,>=3.4->medkit-lib[optional]) (2.0.10)\n",
            "Requirement already satisfied: typer<0.10.0,>=0.3.0 in /usr/local/lib/python3.10/dist-packages (from spacy<4.0,>=3.4->medkit-lib[optional]) (0.9.0)\n",
            "Requirement already satisfied: pathy>=0.10.0 in /usr/local/lib/python3.10/dist-packages (from spacy<4.0,>=3.4->medkit-lib[optional]) (0.10.3)\n",
            "Requirement already satisfied: pydantic!=1.8,!=1.8.1,<3.0.0,>=1.7.4 in /usr/local/lib/python3.10/dist-packages (from spacy<4.0,>=3.4->medkit-lib[optional]) (1.10.13)\n",
            "Requirement already satisfied: jinja2 in /usr/local/lib/python3.10/dist-packages (from spacy<4.0,>=3.4->medkit-lib[optional]) (3.1.2)\n",
            "Requirement already satisfied: langcodes<4.0.0,>=3.2.0 in /usr/local/lib/python3.10/dist-packages (from spacy<4.0,>=3.4->medkit-lib[optional]) (3.3.0)\n",
            "Requirement already satisfied: charset-normalizer<4,>=2 in /usr/local/lib/python3.10/dist-packages (from requests->medkit-lib[optional]) (3.3.2)\n",
            "Requirement already satisfied: idna<4,>=2.5 in /usr/local/lib/python3.10/dist-packages (from requests->medkit-lib[optional]) (3.6)\n",
            "Requirement already satisfied: urllib3<3,>=1.21.1 in /usr/local/lib/python3.10/dist-packages (from requests->medkit-lib[optional]) (2.0.7)\n",
            "Requirement already satisfied: certifi>=2017.4.17 in /usr/local/lib/python3.10/dist-packages (from requests->medkit-lib[optional]) (2023.11.17)\n",
            "Collecting hyperpyyaml (from speechbrain<0.6,>=0.5->medkit-lib[optional])\n",
            "  Downloading HyperPyYAML-1.2.2-py3-none-any.whl (16 kB)\n",
            "Requirement already satisfied: joblib in /usr/local/lib/python3.10/dist-packages (from speechbrain<0.6,>=0.5->medkit-lib[optional]) (1.3.2)\n",
            "Requirement already satisfied: scipy in /usr/local/lib/python3.10/dist-packages (from speechbrain<0.6,>=0.5->medkit-lib[optional]) (1.11.4)\n",
            "Requirement already satisfied: filelock in /usr/local/lib/python3.10/dist-packages (from torch<3.0.0,>=2.1.1->medkit-lib[optional]) (3.13.1)\n",
            "Requirement already satisfied: sympy in /usr/local/lib/python3.10/dist-packages (from torch<3.0.0,>=2.1.1->medkit-lib[optional]) (1.12)\n",
            "Requirement already satisfied: networkx in /usr/local/lib/python3.10/dist-packages (from torch<3.0.0,>=2.1.1->medkit-lib[optional]) (3.2.1)\n",
            "Requirement already satisfied: fsspec in /usr/local/lib/python3.10/dist-packages (from torch<3.0.0,>=2.1.1->medkit-lib[optional]) (2023.6.0)\n",
            "Collecting nvidia-cuda-nvrtc-cu12==12.1.105 (from torch<3.0.0,>=2.1.1->medkit-lib[optional])\n",
            "  Downloading nvidia_cuda_nvrtc_cu12-12.1.105-py3-none-manylinux1_x86_64.whl (23.7 MB)\n",
            "\u001b[2K     \u001b[90m━━━━━━━━━━━━━━━━━━━━━━━━━━━━━━━━━━━━━━━━\u001b[0m \u001b[32m23.7/23.7 MB\u001b[0m \u001b[31m46.9 MB/s\u001b[0m eta \u001b[36m0:00:00\u001b[0m\n",
            "\u001b[?25hCollecting nvidia-cuda-runtime-cu12==12.1.105 (from torch<3.0.0,>=2.1.1->medkit-lib[optional])\n",
            "  Downloading nvidia_cuda_runtime_cu12-12.1.105-py3-none-manylinux1_x86_64.whl (823 kB)\n",
            "\u001b[2K     \u001b[90m━━━━━━━━━━━━━━━━━━━━━━━━━━━━━━━━━━━━━━━━\u001b[0m \u001b[32m823.6/823.6 kB\u001b[0m \u001b[31m55.7 MB/s\u001b[0m eta \u001b[36m0:00:00\u001b[0m\n",
            "\u001b[?25hCollecting nvidia-cuda-cupti-cu12==12.1.105 (from torch<3.0.0,>=2.1.1->medkit-lib[optional])\n",
            "  Downloading nvidia_cuda_cupti_cu12-12.1.105-py3-none-manylinux1_x86_64.whl (14.1 MB)\n",
            "\u001b[2K     \u001b[90m━━━━━━━━━━━━━━━━━━━━━━━━━━━━━━━━━━━━━━━━\u001b[0m \u001b[32m14.1/14.1 MB\u001b[0m \u001b[31m59.5 MB/s\u001b[0m eta \u001b[36m0:00:00\u001b[0m\n",
            "\u001b[?25hCollecting nvidia-cudnn-cu12==8.9.2.26 (from torch<3.0.0,>=2.1.1->medkit-lib[optional])\n",
            "  Downloading nvidia_cudnn_cu12-8.9.2.26-py3-none-manylinux1_x86_64.whl (731.7 MB)\n",
            "\u001b[2K     \u001b[90m━━━━━━━━━━━━━━━━━━━━━━━━━━━━━━━━━━━━━━━━\u001b[0m \u001b[32m731.7/731.7 MB\u001b[0m \u001b[31m1.2 MB/s\u001b[0m eta \u001b[36m0:00:00\u001b[0m\n",
            "\u001b[?25hCollecting nvidia-cublas-cu12==12.1.3.1 (from torch<3.0.0,>=2.1.1->medkit-lib[optional])\n",
            "  Downloading nvidia_cublas_cu12-12.1.3.1-py3-none-manylinux1_x86_64.whl (410.6 MB)\n",
            "\u001b[2K     \u001b[90m━━━━━━━━━━━━━━━━━━━━━━━━━━━━━━━━━━━━━━━━\u001b[0m \u001b[32m410.6/410.6 MB\u001b[0m \u001b[31m2.7 MB/s\u001b[0m eta \u001b[36m0:00:00\u001b[0m\n",
            "\u001b[?25hCollecting nvidia-cufft-cu12==11.0.2.54 (from torch<3.0.0,>=2.1.1->medkit-lib[optional])\n",
            "  Downloading nvidia_cufft_cu12-11.0.2.54-py3-none-manylinux1_x86_64.whl (121.6 MB)\n",
            "\u001b[2K     \u001b[90m━━━━━━━━━━━━━━━━━━━━━━━━━━━━━━━━━━━━━━━━\u001b[0m \u001b[32m121.6/121.6 MB\u001b[0m \u001b[31m8.3 MB/s\u001b[0m eta \u001b[36m0:00:00\u001b[0m\n",
            "\u001b[?25hCollecting nvidia-curand-cu12==10.3.2.106 (from torch<3.0.0,>=2.1.1->medkit-lib[optional])\n",
            "  Downloading nvidia_curand_cu12-10.3.2.106-py3-none-manylinux1_x86_64.whl (56.5 MB)\n",
            "\u001b[2K     \u001b[90m━━━━━━━━━━━━━━━━━━━━━━━━━━━━━━━━━━━━━━━━\u001b[0m \u001b[32m56.5/56.5 MB\u001b[0m \u001b[31m10.7 MB/s\u001b[0m eta \u001b[36m0:00:00\u001b[0m\n",
            "\u001b[?25hCollecting nvidia-cusolver-cu12==11.4.5.107 (from torch<3.0.0,>=2.1.1->medkit-lib[optional])\n",
            "  Downloading nvidia_cusolver_cu12-11.4.5.107-py3-none-manylinux1_x86_64.whl (124.2 MB)\n",
            "\u001b[2K     \u001b[90m━━━━━━━━━━━━━━━━━━━━━━━━━━━━━━━━━━━━━━━━\u001b[0m \u001b[32m124.2/124.2 MB\u001b[0m \u001b[31m8.1 MB/s\u001b[0m eta \u001b[36m0:00:00\u001b[0m\n",
            "\u001b[?25hCollecting nvidia-cusparse-cu12==12.1.0.106 (from torch<3.0.0,>=2.1.1->medkit-lib[optional])\n",
            "  Downloading nvidia_cusparse_cu12-12.1.0.106-py3-none-manylinux1_x86_64.whl (196.0 MB)\n",
            "\u001b[2K     \u001b[90m━━━━━━━━━━━━━━━━━━━━━━━━━━━━━━━━━━━━━━━━\u001b[0m \u001b[32m196.0/196.0 MB\u001b[0m \u001b[31m6.8 MB/s\u001b[0m eta \u001b[36m0:00:00\u001b[0m\n",
            "\u001b[?25hCollecting nvidia-nccl-cu12==2.18.1 (from torch<3.0.0,>=2.1.1->medkit-lib[optional])\n",
            "  Downloading nvidia_nccl_cu12-2.18.1-py3-none-manylinux1_x86_64.whl (209.8 MB)\n",
            "\u001b[2K     \u001b[90m━━━━━━━━━━━━━━━━━━━━━━━━━━━━━━━━━━━━━━━━\u001b[0m \u001b[32m209.8/209.8 MB\u001b[0m \u001b[31m2.7 MB/s\u001b[0m eta \u001b[36m0:00:00\u001b[0m\n",
            "\u001b[?25hCollecting nvidia-nvtx-cu12==12.1.105 (from torch<3.0.0,>=2.1.1->medkit-lib[optional])\n",
            "  Downloading nvidia_nvtx_cu12-12.1.105-py3-none-manylinux1_x86_64.whl (99 kB)\n",
            "\u001b[2K     \u001b[90m━━━━━━━━━━━━━━━━━━━━━━━━━━━━━━━━━━━━━━━━\u001b[0m \u001b[32m99.1/99.1 kB\u001b[0m \u001b[31m15.0 MB/s\u001b[0m eta \u001b[36m0:00:00\u001b[0m\n",
            "\u001b[?25hRequirement already satisfied: triton==2.1.0 in /usr/local/lib/python3.10/dist-packages (from torch<3.0.0,>=2.1.1->medkit-lib[optional]) (2.1.0)\n",
            "Collecting nvidia-nvjitlink-cu12 (from nvidia-cusolver-cu12==11.4.5.107->torch<3.0.0,>=2.1.1->medkit-lib[optional])\n",
            "  Downloading nvidia_nvjitlink_cu12-12.3.101-py3-none-manylinux1_x86_64.whl (20.5 MB)\n",
            "\u001b[2K     \u001b[90m━━━━━━━━━━━━━━━━━━━━━━━━━━━━━━━━━━━━━━━━\u001b[0m \u001b[32m20.5/20.5 MB\u001b[0m \u001b[31m80.9 MB/s\u001b[0m eta \u001b[36m0:00:00\u001b[0m\n",
            "\u001b[?25hRequirement already satisfied: pyyaml>=5.1 in /usr/local/lib/python3.10/dist-packages (from transformers<5.0,>=4.21->medkit-lib[optional]) (6.0.1)\n",
            "Requirement already satisfied: regex!=2019.12.17 in /usr/local/lib/python3.10/dist-packages (from transformers<5.0,>=4.21->medkit-lib[optional]) (2023.6.3)\n",
            "Requirement already satisfied: tokenizers<0.19,>=0.14 in /usr/local/lib/python3.10/dist-packages (from transformers<5.0,>=4.21->medkit-lib[optional]) (0.15.0)\n",
            "Requirement already satisfied: safetensors>=0.3.1 in /usr/local/lib/python3.10/dist-packages (from transformers<5.0,>=4.21->medkit-lib[optional]) (0.4.1)\n",
            "Requirement already satisfied: sortedcontainers<3.0,>=2.0 in /usr/local/lib/python3.10/dist-packages (from intervaltree->medkit-lib[optional]) (2.4.0)\n",
            "Requirement already satisfied: click in /usr/local/lib/python3.10/dist-packages (from sacremoses->medkit-lib[optional]) (8.1.7)\n",
            "Requirement already satisfied: pycparser in /usr/local/lib/python3.10/dist-packages (from cffi>=1.0->soundfile->medkit-lib[optional]) (2.21)\n",
            "Collecting lightning-utilities<2.0,>=0.8.0 (from lightning>=2.0.1->pyannote-audio<4.0,>=3.1->medkit-lib[optional])\n",
            "  Downloading lightning_utilities-0.10.0-py3-none-any.whl (24 kB)\n",
            "Collecting pytorch-lightning (from lightning>=2.0.1->pyannote-audio<4.0,>=3.1->medkit-lib[optional])\n",
            "  Downloading pytorch_lightning-2.1.3-py3-none-any.whl (777 kB)\n",
            "\u001b[2K     \u001b[90m━━━━━━━━━━━━━━━━━━━━━━━━━━━━━━━━━━━━━━━━\u001b[0m \u001b[32m777.7/777.7 kB\u001b[0m \u001b[31m68.7 MB/s\u001b[0m eta \u001b[36m0:00:00\u001b[0m\n",
            "\u001b[?25hRequirement already satisfied: llvmlite<0.42,>=0.41.0dev0 in /usr/local/lib/python3.10/dist-packages (from numba>=0.53->resampy<0.5,>=0.4->medkit-lib[optional]) (0.41.1)\n",
            "Collecting antlr4-python3-runtime==4.9.* (from omegaconf<3.0,>=2.1->pyannote-audio<4.0,>=3.1->medkit-lib[optional])\n",
            "  Downloading antlr4-python3-runtime-4.9.3.tar.gz (117 kB)\n",
            "\u001b[2K     \u001b[90m━━━━━━━━━━━━━━━━━━━━━━━━━━━━━━━━━━━━━━━━\u001b[0m \u001b[32m117.0/117.0 kB\u001b[0m \u001b[31m17.1 MB/s\u001b[0m eta \u001b[36m0:00:00\u001b[0m\n",
            "\u001b[?25h  Preparing metadata (setup.py) ... \u001b[?25l\u001b[?25hdone\n",
            "Collecting docopt>=0.6.2 (from pyannote.metrics>=3.2->pyannote-audio<4.0,>=3.1->medkit-lib[optional])\n",
            "  Downloading docopt-0.6.2.tar.gz (25 kB)\n",
            "  Preparing metadata (setup.py) ... \u001b[?25l\u001b[?25hdone\n",
            "Requirement already satisfied: tabulate>=0.7.7 in /usr/local/lib/python3.10/dist-packages (from pyannote.metrics>=3.2->pyannote-audio<4.0,>=3.1->medkit-lib[optional]) (0.9.0)\n",
            "Requirement already satisfied: matplotlib>=2.0.0 in /usr/local/lib/python3.10/dist-packages (from pyannote.metrics>=3.2->pyannote-audio<4.0,>=3.1->medkit-lib[optional]) (3.7.1)\n",
            "Collecting optuna>=3.1 (from pyannote.pipeline>=3.0.1->pyannote-audio<4.0,>=3.1->medkit-lib[optional])\n",
            "  Downloading optuna-3.5.0-py3-none-any.whl (413 kB)\n",
            "\u001b[2K     \u001b[90m━━━━━━━━━━━━━━━━━━━━━━━━━━━━━━━━━━━━━━━━\u001b[0m \u001b[32m413.4/413.4 kB\u001b[0m \u001b[31m44.1 MB/s\u001b[0m eta \u001b[36m0:00:00\u001b[0m\n",
            "\u001b[?25hRequirement already satisfied: markdown-it-py>=2.2.0 in /usr/local/lib/python3.10/dist-packages (from rich>=12.0.0->pyannote-audio<4.0,>=3.1->medkit-lib[optional]) (3.0.0)\n",
            "Requirement already satisfied: pygments<3.0.0,>=2.13.0 in /usr/local/lib/python3.10/dist-packages (from rich>=12.0.0->pyannote-audio<4.0,>=3.1->medkit-lib[optional]) (2.16.1)\n",
            "Requirement already satisfied: threadpoolctl>=2.0.0 in /usr/local/lib/python3.10/dist-packages (from scikit-learn>=0.21.3->seqeval<2.0.0,>=1.2.2->medkit-lib[optional]) (3.2.0)\n",
            "Requirement already satisfied: mpmath>=0.19 in /usr/local/lib/python3.10/dist-packages (from sympy->torch<3.0.0,>=2.1.1->medkit-lib[optional]) (1.3.0)\n",
            "Requirement already satisfied: protobuf>=3.20 in /usr/local/lib/python3.10/dist-packages (from tensorboardX>=2.6->pyannote-audio<4.0,>=3.1->medkit-lib[optional]) (3.20.3)\n",
            "Requirement already satisfied: blis<0.8.0,>=0.7.8 in /usr/local/lib/python3.10/dist-packages (from thinc<8.2.0,>=8.1.8->spacy<4.0,>=3.4->medkit-lib[optional]) (0.7.11)\n",
            "Requirement already satisfied: confection<1.0.0,>=0.0.1 in /usr/local/lib/python3.10/dist-packages (from thinc<8.2.0,>=8.1.8->spacy<4.0,>=3.4->medkit-lib[optional]) (0.1.4)\n",
            "Collecting julius<0.3,>=0.2.3 (from torch-audiomentations>=0.11.0->pyannote-audio<4.0,>=3.1->medkit-lib[optional])\n",
            "  Downloading julius-0.2.7.tar.gz (59 kB)\n",
            "\u001b[2K     \u001b[90m━━━━━━━━━━━━━━━━━━━━━━━━━━━━━━━━━━━━━━━━\u001b[0m \u001b[32m59.6/59.6 kB\u001b[0m \u001b[31m9.0 MB/s\u001b[0m eta \u001b[36m0:00:00\u001b[0m\n",
            "\u001b[?25h  Preparing metadata (setup.py) ... \u001b[?25l\u001b[?25hdone\n",
            "Requirement already satisfied: librosa>=0.6.0 in /usr/local/lib/python3.10/dist-packages (from torch-audiomentations>=0.11.0->pyannote-audio<4.0,>=3.1->medkit-lib[optional]) (0.10.1)\n",
            "Collecting torch-pitch-shift>=1.2.2 (from torch-audiomentations>=0.11.0->pyannote-audio<4.0,>=3.1->medkit-lib[optional])\n",
            "  Downloading torch_pitch_shift-1.2.4-py3-none-any.whl (4.9 kB)\n",
            "Collecting ruamel.yaml>=0.17.28 (from hyperpyyaml->speechbrain<0.6,>=0.5->medkit-lib[optional])\n",
            "  Downloading ruamel.yaml-0.18.5-py3-none-any.whl (116 kB)\n",
            "\u001b[2K     \u001b[90m━━━━━━━━━━━━━━━━━━━━━━━━━━━━━━━━━━━━━━━━\u001b[0m \u001b[32m116.4/116.4 kB\u001b[0m \u001b[31m15.7 MB/s\u001b[0m eta \u001b[36m0:00:00\u001b[0m\n",
            "\u001b[?25hRequirement already satisfied: MarkupSafe>=2.0 in /usr/local/lib/python3.10/dist-packages (from jinja2->spacy<4.0,>=3.4->medkit-lib[optional]) (2.1.3)\n",
            "Requirement already satisfied: aiohttp!=4.0.0a0,!=4.0.0a1 in /usr/local/lib/python3.10/dist-packages (from fsspec->torch<3.0.0,>=2.1.1->medkit-lib[optional]) (3.9.1)\n",
            "Requirement already satisfied: audioread>=2.1.9 in /usr/local/lib/python3.10/dist-packages (from librosa>=0.6.0->torch-audiomentations>=0.11.0->pyannote-audio<4.0,>=3.1->medkit-lib[optional]) (3.0.1)\n",
            "Requirement already satisfied: decorator>=4.3.0 in /usr/local/lib/python3.10/dist-packages (from librosa>=0.6.0->torch-audiomentations>=0.11.0->pyannote-audio<4.0,>=3.1->medkit-lib[optional]) (4.4.2)\n",
            "Requirement already satisfied: pooch>=1.0 in /usr/local/lib/python3.10/dist-packages (from librosa>=0.6.0->torch-audiomentations>=0.11.0->pyannote-audio<4.0,>=3.1->medkit-lib[optional]) (1.8.0)\n",
            "Requirement already satisfied: soxr>=0.3.2 in /usr/local/lib/python3.10/dist-packages (from librosa>=0.6.0->torch-audiomentations>=0.11.0->pyannote-audio<4.0,>=3.1->medkit-lib[optional]) (0.3.7)\n",
            "Requirement already satisfied: lazy-loader>=0.1 in /usr/local/lib/python3.10/dist-packages (from librosa>=0.6.0->torch-audiomentations>=0.11.0->pyannote-audio<4.0,>=3.1->medkit-lib[optional]) (0.3)\n",
            "Requirement already satisfied: msgpack>=1.0 in /usr/local/lib/python3.10/dist-packages (from librosa>=0.6.0->torch-audiomentations>=0.11.0->pyannote-audio<4.0,>=3.1->medkit-lib[optional]) (1.0.7)\n",
            "Requirement already satisfied: mdurl~=0.1 in /usr/local/lib/python3.10/dist-packages (from markdown-it-py>=2.2.0->rich>=12.0.0->pyannote-audio<4.0,>=3.1->medkit-lib[optional]) (0.1.2)\n",
            "Requirement already satisfied: contourpy>=1.0.1 in /usr/local/lib/python3.10/dist-packages (from matplotlib>=2.0.0->pyannote.metrics>=3.2->pyannote-audio<4.0,>=3.1->medkit-lib[optional]) (1.2.0)\n",
            "Requirement already satisfied: cycler>=0.10 in /usr/local/lib/python3.10/dist-packages (from matplotlib>=2.0.0->pyannote.metrics>=3.2->pyannote-audio<4.0,>=3.1->medkit-lib[optional]) (0.12.1)\n",
            "Requirement already satisfied: fonttools>=4.22.0 in /usr/local/lib/python3.10/dist-packages (from matplotlib>=2.0.0->pyannote.metrics>=3.2->pyannote-audio<4.0,>=3.1->medkit-lib[optional]) (4.47.0)\n",
            "Requirement already satisfied: kiwisolver>=1.0.1 in /usr/local/lib/python3.10/dist-packages (from matplotlib>=2.0.0->pyannote.metrics>=3.2->pyannote-audio<4.0,>=3.1->medkit-lib[optional]) (1.4.5)\n",
            "Requirement already satisfied: pillow>=6.2.0 in /usr/local/lib/python3.10/dist-packages (from matplotlib>=2.0.0->pyannote.metrics>=3.2->pyannote-audio<4.0,>=3.1->medkit-lib[optional]) (9.4.0)\n",
            "Requirement already satisfied: pyparsing>=2.3.1 in /usr/local/lib/python3.10/dist-packages (from matplotlib>=2.0.0->pyannote.metrics>=3.2->pyannote-audio<4.0,>=3.1->medkit-lib[optional]) (3.1.1)\n",
            "Collecting alembic>=1.5.0 (from optuna>=3.1->pyannote.pipeline>=3.0.1->pyannote-audio<4.0,>=3.1->medkit-lib[optional])\n",
            "  Downloading alembic-1.13.1-py3-none-any.whl (233 kB)\n",
            "\u001b[2K     \u001b[90m━━━━━━━━━━━━━━━━━━━━━━━━━━━━━━━━━━━━━━━━\u001b[0m \u001b[32m233.4/233.4 kB\u001b[0m \u001b[31m29.5 MB/s\u001b[0m eta \u001b[36m0:00:00\u001b[0m\n",
            "\u001b[?25hCollecting colorlog (from optuna>=3.1->pyannote.pipeline>=3.0.1->pyannote-audio<4.0,>=3.1->medkit-lib[optional])\n",
            "  Downloading colorlog-6.8.0-py3-none-any.whl (11 kB)\n",
            "Requirement already satisfied: sqlalchemy>=1.3.0 in /usr/local/lib/python3.10/dist-packages (from optuna>=3.1->pyannote.pipeline>=3.0.1->pyannote-audio<4.0,>=3.1->medkit-lib[optional]) (2.0.24)\n",
            "Collecting ruamel.yaml.clib>=0.2.7 (from ruamel.yaml>=0.17.28->hyperpyyaml->speechbrain<0.6,>=0.5->medkit-lib[optional])\n",
            "  Downloading ruamel.yaml.clib-0.2.8-cp310-cp310-manylinux_2_17_x86_64.manylinux2014_x86_64.manylinux_2_24_x86_64.whl (526 kB)\n",
            "\u001b[2K     \u001b[90m━━━━━━━━━━━━━━━━━━━━━━━━━━━━━━━━━━━━━━━━\u001b[0m \u001b[32m526.7/526.7 kB\u001b[0m \u001b[31m53.4 MB/s\u001b[0m eta \u001b[36m0:00:00\u001b[0m\n",
            "\u001b[?25hCollecting primePy>=1.3 (from torch-pitch-shift>=1.2.2->torch-audiomentations>=0.11.0->pyannote-audio<4.0,>=3.1->medkit-lib[optional])\n",
            "  Downloading primePy-1.3-py3-none-any.whl (4.0 kB)\n",
            "Collecting colorama<0.5.0,>=0.4.3 (from typer<0.10.0,>=0.3.0->spacy<4.0,>=3.4->medkit-lib[optional])\n",
            "  Downloading colorama-0.4.6-py2.py3-none-any.whl (25 kB)\n",
            "Collecting shellingham<2.0.0,>=1.3.0 (from typer<0.10.0,>=0.3.0->spacy<4.0,>=3.4->medkit-lib[optional])\n",
            "  Downloading shellingham-1.5.4-py2.py3-none-any.whl (9.8 kB)\n",
            "Requirement already satisfied: attrs>=17.3.0 in /usr/local/lib/python3.10/dist-packages (from aiohttp!=4.0.0a0,!=4.0.0a1->fsspec->torch<3.0.0,>=2.1.1->medkit-lib[optional]) (23.2.0)\n",
            "Requirement already satisfied: multidict<7.0,>=4.5 in /usr/local/lib/python3.10/dist-packages (from aiohttp!=4.0.0a0,!=4.0.0a1->fsspec->torch<3.0.0,>=2.1.1->medkit-lib[optional]) (6.0.4)\n",
            "Requirement already satisfied: yarl<2.0,>=1.0 in /usr/local/lib/python3.10/dist-packages (from aiohttp!=4.0.0a0,!=4.0.0a1->fsspec->torch<3.0.0,>=2.1.1->medkit-lib[optional]) (1.9.4)\n",
            "Requirement already satisfied: frozenlist>=1.1.1 in /usr/local/lib/python3.10/dist-packages (from aiohttp!=4.0.0a0,!=4.0.0a1->fsspec->torch<3.0.0,>=2.1.1->medkit-lib[optional]) (1.4.1)\n",
            "Requirement already satisfied: aiosignal>=1.1.2 in /usr/local/lib/python3.10/dist-packages (from aiohttp!=4.0.0a0,!=4.0.0a1->fsspec->torch<3.0.0,>=2.1.1->medkit-lib[optional]) (1.3.1)\n",
            "Requirement already satisfied: async-timeout<5.0,>=4.0 in /usr/local/lib/python3.10/dist-packages (from aiohttp!=4.0.0a0,!=4.0.0a1->fsspec->torch<3.0.0,>=2.1.1->medkit-lib[optional]) (4.0.3)\n",
            "Collecting Mako (from alembic>=1.5.0->optuna>=3.1->pyannote.pipeline>=3.0.1->pyannote-audio<4.0,>=3.1->medkit-lib[optional])\n",
            "  Downloading Mako-1.3.0-py3-none-any.whl (78 kB)\n",
            "\u001b[2K     \u001b[90m━━━━━━━━━━━━━━━━━━━━━━━━━━━━━━━━━━━━━━━━\u001b[0m \u001b[32m78.6/78.6 kB\u001b[0m \u001b[31m12.2 MB/s\u001b[0m eta \u001b[36m0:00:00\u001b[0m\n",
            "\u001b[?25hRequirement already satisfied: platformdirs>=2.5.0 in /usr/local/lib/python3.10/dist-packages (from pooch>=1.0->librosa>=0.6.0->torch-audiomentations>=0.11.0->pyannote-audio<4.0,>=3.1->medkit-lib[optional]) (4.1.0)\n",
            "Requirement already satisfied: greenlet!=0.4.17 in /usr/local/lib/python3.10/dist-packages (from sqlalchemy>=1.3.0->optuna>=3.1->pyannote.pipeline>=3.0.1->pyannote-audio<4.0,>=3.1->medkit-lib[optional]) (3.0.3)\n",
            "Building wheels for collected packages: feather-format, flashtext, pysrt, seqeval, unqlite, webrtcvad, intervaltree, leveldb, antlr4-python3-runtime, quickumls-simstring, docopt, julius\n",
            "  Building wheel for feather-format (setup.py) ... \u001b[?25l\u001b[?25hdone\n",
            "  Created wheel for feather-format: filename=feather_format-0.4.1-py3-none-any.whl size=2435 sha256=95b242cd67499c98d80cd999a399e9e1c6ea64da360386d179632c256fbf5aa5\n",
            "  Stored in directory: /root/.cache/pip/wheels/a6/ff/5d/4f10de26fe5ddef243c97f13c6cf579d7353d659e41a05c3a6\n",
            "  Building wheel for flashtext (setup.py) ... \u001b[?25l\u001b[?25hdone\n",
            "  Created wheel for flashtext: filename=flashtext-2.7-py2.py3-none-any.whl size=9296 sha256=6afd5ffc20169c372a8a64f9097900d495b37308888ad3c16b417fd33833b557\n",
            "  Stored in directory: /root/.cache/pip/wheels/bc/be/39/c37ad168eb2ff644c9685f52554440372129450f0b8ed203dd\n",
            "  Building wheel for pysrt (setup.py) ... \u001b[?25l\u001b[?25hdone\n",
            "  Created wheel for pysrt: filename=pysrt-1.1.2-py3-none-any.whl size=13442 sha256=32099c48a5bd2ac4a1756bf29183b512b71539fa7309cca437900b6d9051378e\n",
            "  Stored in directory: /root/.cache/pip/wheels/30/7f/e8/55de9a9b07302d9e7fe47c27910e3bea0c48536153e74bd7e6\n",
            "  Building wheel for seqeval (setup.py) ... \u001b[?25l\u001b[?25hdone\n",
            "  Created wheel for seqeval: filename=seqeval-1.2.2-py3-none-any.whl size=16162 sha256=41655c457b7384697b6ebb929deba16505d5dbfaa7ca0f0b3ce7d699cd33691a\n",
            "  Stored in directory: /root/.cache/pip/wheels/1a/67/4a/ad4082dd7dfc30f2abfe4d80a2ed5926a506eb8a972b4767fa\n",
            "  Building wheel for unqlite (setup.py) ... \u001b[?25l\u001b[?25hdone\n",
            "  Created wheel for unqlite: filename=unqlite-0.9.6-cp310-cp310-linux_x86_64.whl size=1622760 sha256=1828779722b8fd670900ca4442841a85bc61790bea7fe4d8e519238471878f29\n",
            "  Stored in directory: /root/.cache/pip/wheels/81/f4/a1/7e97f75c3102460c515a52f33cd7d5d61a93a57408fd0efad8\n",
            "  Building wheel for webrtcvad (setup.py) ... \u001b[?25l\u001b[?25hdone\n",
            "  Created wheel for webrtcvad: filename=webrtcvad-2.0.10-cp310-cp310-linux_x86_64.whl size=73471 sha256=f7b372f4bdc439edfb4e5cf5718f9bc3d2125670dacd795d54febf388ebaacaa\n",
            "  Stored in directory: /root/.cache/pip/wheels/2a/2b/84/ac7bacfe8c68a87c1ee3dd3c66818a54c71599abf308e8eb35\n",
            "  Building wheel for intervaltree (setup.py) ... \u001b[?25l\u001b[?25hdone\n",
            "  Created wheel for intervaltree: filename=intervaltree-3.1.0-py2.py3-none-any.whl size=26095 sha256=b1ce5024a68900b3ebe150b5a5b729f8ec3c78bbf0c01904414e3d0e68c3a658\n",
            "  Stored in directory: /root/.cache/pip/wheels/fa/80/8c/43488a924a046b733b64de3fac99252674c892a4c3801c0a61\n",
            "  Building wheel for leveldb (setup.py) ... \u001b[?25l\u001b[?25hdone\n",
            "  Created wheel for leveldb: filename=leveldb-0.201-cp310-cp310-linux_x86_64.whl size=2047658 sha256=aabee822ee38b72e6fd37cefb5400a0a1dabac489a0dff3361eb7f1550823cbc\n",
            "  Stored in directory: /root/.cache/pip/wheels/3f/33/ed/bdb94ad943d262986bccd401f1f690f34d98ea2723f8585e47\n",
            "  Building wheel for antlr4-python3-runtime (setup.py) ... \u001b[?25l\u001b[?25hdone\n",
            "  Created wheel for antlr4-python3-runtime: filename=antlr4_python3_runtime-4.9.3-py3-none-any.whl size=144554 sha256=3e96ec448480415c2576b9c7fc5d11466f3fa37fad7a31e8596eb64956d93f0d\n",
            "  Stored in directory: /root/.cache/pip/wheels/12/93/dd/1f6a127edc45659556564c5730f6d4e300888f4bca2d4c5a88\n",
            "  Building wheel for quickumls-simstring (setup.py) ... \u001b[?25l\u001b[?25hdone\n",
            "  Created wheel for quickumls-simstring: filename=quickumls_simstring-1.1.5.post1-cp310-cp310-linux_x86_64.whl size=1270328 sha256=96c3ea470846c26279379f20d0dc02968624720b78f58f640d747de5baccd8aa\n",
            "  Stored in directory: /root/.cache/pip/wheels/c4/75/11/06d111b81643d21244e885f48ff9f5146e3cdcda09da333b3b\n",
            "  Building wheel for docopt (setup.py) ... \u001b[?25l\u001b[?25hdone\n",
            "  Created wheel for docopt: filename=docopt-0.6.2-py2.py3-none-any.whl size=13706 sha256=80ccea2e450e50eb934d6d706ba86241a2cfd93933911ba16e24e85498ff0ef4\n",
            "  Stored in directory: /root/.cache/pip/wheels/fc/ab/d4/5da2067ac95b36618c629a5f93f809425700506f72c9732fac\n",
            "  Building wheel for julius (setup.py) ... \u001b[?25l\u001b[?25hdone\n",
            "  Created wheel for julius: filename=julius-0.2.7-py3-none-any.whl size=21870 sha256=441eff58d5d4dc127c2384fa448b6c5b9682474c0b8d5bdf47c8ea94491267d2\n",
            "  Stored in directory: /root/.cache/pip/wheels/b9/b2/05/f883527ffcb7f2ead5438a2c23439aa0c881eaa9a4c80256f4\n",
            "Successfully built feather-format flashtext pysrt seqeval unqlite webrtcvad intervaltree leveldb antlr4-python3-runtime quickumls-simstring docopt julius\n",
            "Installing collected packages: webrtcvad, sentencepiece, quickumls-simstring, pysimstring, primePy, leveldb, flashtext, duptextfinder, docopt, antlr4-python3-runtime, Unidecode, typing-extensions, tensorboardX, spellwise, shellingham, semver, sacremoses, ruamel.yaml.clib, pysrt, pyaml, omegaconf, nvidia-nvtx-cu12, nvidia-nvjitlink-cu12, nvidia-nccl-cu12, nvidia-curand-cu12, nvidia-cufft-cu12, nvidia-cuda-runtime-cu12, nvidia-cuda-nvrtc-cu12, nvidia-cuda-cupti-cu12, nvidia-cublas-cu12, Mako, intervaltree, einops, Cython, colorlog, colorama, anyascii, unqlite, ruamel.yaml, resampy, quicksectx, pyannote.core, nvidia-cusparse-cu12, nvidia-cudnn-cu12, lightning-utilities, iamsystem, feather-format, seqeval, PyFastNER, nvidia-cusolver-cu12, medkit-lib, hyperpyyaml, alembic, torch, pyannote.database, optuna, torchmetrics, torchaudio, pytorch-metric-learning, pyannote.pipeline, pyannote.metrics, julius, asteroid-filterbanks, torch-pitch-shift, speechbrain, quickumls, pytorch-lightning, PyRuSH, torch-audiomentations, lightning, pyannote-audio\n",
            "  Attempting uninstall: typing-extensions\n",
            "    Found existing installation: typing_extensions 4.5.0\n",
            "    Uninstalling typing_extensions-4.5.0:\n",
            "      Successfully uninstalled typing_extensions-4.5.0\n",
            "  Attempting uninstall: Cython\n",
            "    Found existing installation: Cython 3.0.7\n",
            "    Uninstalling Cython-3.0.7:\n",
            "      Successfully uninstalled Cython-3.0.7\n",
            "  Attempting uninstall: torch\n",
            "    Found existing installation: torch 2.1.0+cu121\n",
            "    Uninstalling torch-2.1.0+cu121:\n",
            "      Successfully uninstalled torch-2.1.0+cu121\n",
            "  Attempting uninstall: torchaudio\n",
            "    Found existing installation: torchaudio 2.1.0+cu121\n",
            "    Uninstalling torchaudio-2.1.0+cu121:\n",
            "      Successfully uninstalled torchaudio-2.1.0+cu121\n",
            "\u001b[31mERROR: pip's dependency resolver does not currently take into account all the packages that are installed. This behaviour is the source of the following dependency conflicts.\n",
            "torchdata 0.7.0 requires torch==2.1.0, but you have torch 2.1.2 which is incompatible.\n",
            "torchtext 0.16.0 requires torch==2.1.0, but you have torch 2.1.2 which is incompatible.\n",
            "torchvision 0.16.0+cu121 requires torch==2.1.0, but you have torch 2.1.2 which is incompatible.\u001b[0m\u001b[31m\n",
            "\u001b[0mSuccessfully installed Cython-0.29.37 Mako-1.3.0 PyFastNER-1.0.10 PyRuSH-1.0.8 Unidecode-1.3.7 alembic-1.13.1 antlr4-python3-runtime-4.9.3 anyascii-0.3.2 asteroid-filterbanks-0.4.0 colorama-0.4.6 colorlog-6.8.0 docopt-0.6.2 duptextfinder-0.3.0 einops-0.7.0 feather-format-0.4.1 flashtext-2.7 hyperpyyaml-1.2.2 iamsystem-0.6.0 intervaltree-3.1.0 julius-0.2.7 leveldb-0.201 lightning-2.1.3 lightning-utilities-0.10.0 medkit-lib-0.12.0 nvidia-cublas-cu12-12.1.3.1 nvidia-cuda-cupti-cu12-12.1.105 nvidia-cuda-nvrtc-cu12-12.1.105 nvidia-cuda-runtime-cu12-12.1.105 nvidia-cudnn-cu12-8.9.2.26 nvidia-cufft-cu12-11.0.2.54 nvidia-curand-cu12-10.3.2.106 nvidia-cusolver-cu12-11.4.5.107 nvidia-cusparse-cu12-12.1.0.106 nvidia-nccl-cu12-2.18.1 nvidia-nvjitlink-cu12-12.3.101 nvidia-nvtx-cu12-12.1.105 omegaconf-2.3.0 optuna-3.5.0 primePy-1.3 pyaml-23.12.0 pyannote-audio-3.1.1 pyannote.core-5.0.0 pyannote.database-5.0.1 pyannote.metrics-3.2.1 pyannote.pipeline-3.0.1 pysimstring-1.2.1 pysrt-1.1.2 pytorch-lightning-2.1.3 pytorch-metric-learning-2.4.1 quicksectx-0.3.8 quickumls-1.4.2 quickumls-simstring-1.1.5.post1 resampy-0.4.2 ruamel.yaml-0.18.5 ruamel.yaml.clib-0.2.8 sacremoses-0.1.1 semver-3.0.2 sentencepiece-0.1.99 seqeval-1.2.2 shellingham-1.5.4 speechbrain-0.5.16 spellwise-0.8.1 tensorboardX-2.6.2.2 torch-2.1.2 torch-audiomentations-0.11.0 torch-pitch-shift-1.2.4 torchaudio-2.1.2 torchmetrics-1.2.1 typing-extensions-4.4.0 unqlite-0.9.6 webrtcvad-2.0.10\n"
          ]
        },
        {
          "output_type": "display_data",
          "data": {
            "application/vnd.colab-display-data+json": {
              "pip_warning": {
                "packages": [
                  "pydevd_plugins"
                ]
              }
            }
          },
          "metadata": {}
        }
      ],
      "source": [
        "!pip3 install medkit-lib[optional]"
      ]
    },
    {
      "cell_type": "markdown",
      "id": "3450a755-ac69-4d07-9524-2644ac07fcc8",
      "metadata": {
        "id": "3450a755-ac69-4d07-9524-2644ac07fcc8"
      },
      "source": [
        "## Downloading a corpus of documents"
      ]
    },
    {
      "cell_type": "code",
      "execution_count": null,
      "id": "d963b8cc-9fdd-4f30-8104-b390b208ec56",
      "metadata": {
        "colab": {
          "base_uri": "https://localhost:8080/"
        },
        "id": "d963b8cc-9fdd-4f30-8104-b390b208ec56",
        "outputId": "0f33f459-3c47-49b0-ea64-7d31b7e85806"
      },
      "outputs": [
        {
          "output_type": "stream",
          "name": "stdout",
          "text": [
            "--2024-01-09 00:12:30--  https://github.com/neurazlab/mtsamplesFR/raw/master/data/mtsamples.csv\n",
            "Resolving github.com (github.com)... 20.205.243.166\n",
            "Connecting to github.com (github.com)|20.205.243.166|:443... connected.\n",
            "HTTP request sent, awaiting response... 302 Found\n",
            "Location: https://raw.githubusercontent.com/neurazlab/mtsamplesFR/master/data/mtsamples.csv [following]\n",
            "--2024-01-09 00:12:30--  https://raw.githubusercontent.com/neurazlab/mtsamplesFR/master/data/mtsamples.csv\n",
            "Resolving raw.githubusercontent.com (raw.githubusercontent.com)... 185.199.108.133, 185.199.109.133, 185.199.110.133, ...\n",
            "Connecting to raw.githubusercontent.com (raw.githubusercontent.com)|185.199.108.133|:443... connected.\n",
            "HTTP request sent, awaiting response... 200 OK\n",
            "Length: 17007236 (16M) [text/plain]\n",
            "Saving to: ‘01_data/mtsamples.csv’\n",
            "\n",
            "01_data/mtsamples.c 100%[===================>]  16.22M  --.-KB/s    in 0.04s   \n",
            "\n",
            "2024-01-09 00:12:32 (400 MB/s) - ‘01_data/mtsamples.csv’ saved [17007236/17007236]\n",
            "\n"
          ]
        }
      ],
      "source": [
        "!mkdir 01_data\n",
        "!wget https://github.com/neurazlab/mtsamplesFR/raw/master/data/mtsamples.csv -O 01_data/mtsamples.csv\n",
        "!wget https://raw.githubusercontent.com/BastienRance/Teaching/main/Products.txt -O 01_data/Products.txt\n",
        "!wget https://raw.githubusercontent.com/BastienRance/Teaching/main/hp_synonyms.txt -O 01_data/hp_synonyms.txt\n",
        "!wget https://raw.githubusercontent.com/BastienRance/Teaching/main/hp_terms.txt -O 01_data/hp_terms.txt"
      ]
    },
    {
      "cell_type": "markdown",
      "id": "7097fa61-e7a4-4e76-b295-fdc6f82e31e7",
      "metadata": {
        "id": "7097fa61-e7a4-4e76-b295-fdc6f82e31e7"
      },
      "source": [
        "## Reading the documents\n",
        "And printing the first document"
      ]
    },
    {
      "cell_type": "code",
      "execution_count": null,
      "id": "c0e1e263-4ca1-4cf7-8db3-d21d4c3e2151",
      "metadata": {
        "id": "c0e1e263-4ca1-4cf7-8db3-d21d4c3e2151"
      },
      "outputs": [],
      "source": [
        "import pandas as pd\n",
        "\n",
        "docs = pd.read_csv('01_data/mtsamples.csv')"
      ]
    },
    {
      "cell_type": "markdown",
      "id": "8d74a307-4ca5-4738-9417-594370a029c1",
      "metadata": {
        "id": "8d74a307-4ca5-4738-9417-594370a029c1"
      },
      "source": [
        "The *iloc* function, allows to select the first row of the data frame"
      ]
    },
    {
      "cell_type": "code",
      "execution_count": null,
      "id": "54d67f4c-47ac-4232-aabc-44dcf93abe71",
      "metadata": {
        "colab": {
          "base_uri": "https://localhost:8080/"
        },
        "id": "54d67f4c-47ac-4232-aabc-44dcf93abe71",
        "outputId": "80b5757f-d14e-4ad6-f87d-9431279c9dd1"
      },
      "outputs": [
        {
          "output_type": "stream",
          "name": "stdout",
          "text": [
            "SUBJECTIVE:,  This 23-year-old white female presents with complaint of allergies.  She used to have allergies when she lived in Seattle but she thinks they are worse here.  In the past, she has tried Claritin, and Zyrtec.  Both worked for short time but then seemed to lose effectiveness.  She has used Allegra also.  She used that last summer and she began using it again two weeks ago.  It does not appear to be working very well.  She has used over-the-counter sprays but no prescription nasal sprays.  She does have asthma but doest not require daily medication for this and does not think it is flaring up.,MEDICATIONS: , Her only medication currently is Ortho Tri-Cyclen and the Allegra.,ALLERGIES: , She has no known medicine allergies.,OBJECTIVE:,Vitals:  Weight was 130 pounds and blood pressure 124/78.,HEENT:  Her throat was mildly erythematous without exudate.  Nasal mucosa was erythematous and swollen.  Only clear drainage was seen.  TMs were clear.,Neck:  Supple without adenopathy.,Lungs:  Clear.,ASSESSMENT:,  Allergic rhinitis.,PLAN:,1.  She will try Zyrtec instead of Allegra again.  Another option will be to use loratadine.  She does not think she has prescription coverage so that might be cheaper.,2.  Samples of Nasonex two sprays in each nostril given for three weeks.  A prescription was written as well.\n"
          ]
        }
      ],
      "source": [
        "print(docs.iloc[0]['transcription'])"
      ]
    },
    {
      "cell_type": "markdown",
      "id": "a2096ef1-a414-479c-b81e-1fb7cf52ed0e",
      "metadata": {
        "id": "a2096ef1-a414-479c-b81e-1fb7cf52ed0e"
      },
      "source": [
        "Visualisation de l'objet document :"
      ]
    },
    {
      "cell_type": "code",
      "execution_count": null,
      "id": "1e074044-0413-47d2-9b01-83580ac35dcb",
      "metadata": {
        "colab": {
          "base_uri": "https://localhost:8080/"
        },
        "id": "1e074044-0413-47d2-9b01-83580ac35dcb",
        "outputId": "ae4d1b96-26f1-4648-d5a4-d62845cd688d"
      },
      "outputs": [
        {
          "output_type": "execute_result",
          "data": {
            "text/plain": [
              "Unnamed: 0                                                           0\n",
              "description           A 23-year-old white female presents with comp...\n",
              "medical_specialty                                 Allergy / Immunology\n",
              "sample_name                                         Allergic Rhinitis \n",
              "transcription        SUBJECTIVE:,  This 23-year-old white female pr...\n",
              "keywords             allergy / immunology, allergic rhinitis, aller...\n",
              "Name: 0, dtype: object"
            ]
          },
          "metadata": {},
          "execution_count": 8
        }
      ],
      "source": [
        "docs.iloc[0]"
      ]
    },
    {
      "cell_type": "markdown",
      "id": "c2627963-067a-4e8f-9ab7-6ace50747741",
      "metadata": {
        "id": "c2627963-067a-4e8f-9ab7-6ace50747741"
      },
      "source": [
        "## Creating your first medkit document"
      ]
    },
    {
      "cell_type": "code",
      "execution_count": null,
      "id": "574fd34e-a8e6-4dd0-8db9-02a0e9a6711f",
      "metadata": {
        "colab": {
          "base_uri": "https://localhost:8080/"
        },
        "id": "574fd34e-a8e6-4dd0-8db9-02a0e9a6711f",
        "outputId": "a1f9e7fe-9962-40ad-f33b-5ed1d95449c8"
      },
      "outputs": [
        {
          "output_type": "stream",
          "name": "stdout",
          "text": [
            "SUBJECTIVE:,  This 23-year-old white female presents with complaint of allergies.  She used to have allergies when she lived in Seattle but she thinks they are worse here.  In the past, she has tried Claritin, and Zyrtec.  Both worked for short time but then seemed to lose effectiveness.  She has used Allegra also.  She used that last summer and she began using it again two weeks ago.  It does not appear to be working very well.  She has used over-the-counter sprays but no prescription nasal sprays.  She does have asthma but doest not require daily medication for this and does not think it is flaring up.,MEDICATIONS: , Her only medication currently is Ortho Tri-Cyclen and the Allegra.,ALLERGIES: , She has no known medicine allergies.,OBJECTIVE:,Vitals:  Weight was 130 pounds and blood pressure 124/78.,HEENT:  Her throat was mildly erythematous without exudate.  Nasal mucosa was erythematous and swollen.  Only clear drainage was seen.  TMs were clear.,Neck:  Supple without adenopathy.,Lungs:  Clear.,ASSESSMENT:,  Allergic rhinitis.,PLAN:,1.  She will try Zyrtec instead of Allegra again.  Another option will be to use loratadine.  She does not think she has prescription coverage so that might be cheaper.,2.  Samples of Nasonex two sprays in each nostril given for three weeks.  A prescription was written as well.\n"
          ]
        }
      ],
      "source": [
        "from medkit.core.text import TextDocument\n",
        "\n",
        "doc = TextDocument(text=docs.iloc[0]['transcription'])\n",
        "print(doc.text)"
      ]
    },
    {
      "cell_type": "markdown",
      "id": "46e721cd-83e0-4b9c-aeb5-eef798b305d8",
      "metadata": {
        "id": "46e721cd-83e0-4b9c-aeb5-eef798b305d8"
      },
      "source": [
        "### Using regular expressions to extract vitals\n",
        "Let's first extract vitals (weight, blood pressure, size....) using regular expression."
      ]
    },
    {
      "cell_type": "code",
      "execution_count": null,
      "id": "54f50ed1-c4f2-4660-aa23-48a0dfc6a9e9",
      "metadata": {
        "id": "54f50ed1-c4f2-4660-aa23-48a0dfc6a9e9"
      },
      "outputs": [],
      "source": [
        "from medkit.text.ner import RegexpMatcher, RegexpMatcherRule\n",
        "\n",
        "regexp_rules = [\n",
        "    RegexpMatcherRule(regexp=r\"[0-9]+([.,][0-9]+)?\\s(pounds|kg)\", label=\"weight\"),\n",
        "    RegexpMatcherRule(regexp=r\"[0-9]+\", label=\"number\"), # change this rule to detect blood pressure (the form is usually 120/80\n",
        "    RegexpMatcherRule(regexp=r\"(IMC|BMI)( )?(:|=)( )?[0-9]{2}\", label=\"BMI\")\n",
        "    # Add a rule capturing BMI values\n",
        "    #\n",
        "]\n",
        "regexp_matcher = RegexpMatcher(rules=regexp_rules)"
      ]
    },
    {
      "cell_type": "markdown",
      "id": "6ad5455d-826d-4cfc-8016-88b7f79b35f7",
      "metadata": {
        "id": "6ad5455d-826d-4cfc-8016-88b7f79b35f7"
      },
      "source": [
        "The code above creates a matcher. The matcher itself does nothing. To use the matcher, it has to run on the document"
      ]
    },
    {
      "cell_type": "code",
      "execution_count": null,
      "id": "2c22327c-bbab-44b5-be3c-d5615e3b142a",
      "metadata": {
        "id": "2c22327c-bbab-44b5-be3c-d5615e3b142a"
      },
      "outputs": [],
      "source": [
        "entities = regexp_matcher.run([doc.raw_segment])"
      ]
    },
    {
      "cell_type": "markdown",
      "id": "07b5f7f2-ef19-43a3-a2eb-bed5de869142",
      "metadata": {
        "id": "07b5f7f2-ef19-43a3-a2eb-bed5de869142"
      },
      "source": [
        "Let's visualize, the entities detected by the regular expressions:"
      ]
    },
    {
      "cell_type": "code",
      "execution_count": null,
      "id": "a123ee34-6418-438b-8d0b-b4ebed0f6650",
      "metadata": {
        "id": "a123ee34-6418-438b-8d0b-b4ebed0f6650"
      },
      "outputs": [],
      "source": [
        "entities = regexp_matcher.run([doc.raw_segment])"
      ]
    },
    {
      "cell_type": "code",
      "execution_count": null,
      "id": "342975f2-8334-4917-b52f-08163008bbd0",
      "metadata": {
        "colab": {
          "base_uri": "https://localhost:8080/"
        },
        "id": "342975f2-8334-4917-b52f-08163008bbd0",
        "outputId": "7d21ed2a-aa28-4a12-face-86bc8efed7db"
      },
      "outputs": [
        {
          "output_type": "stream",
          "name": "stdout",
          "text": [
            "text='130 pounds', spans=[Span(start=775, end=785)], label=weight\n",
            "text='23', spans=[Span(start=19, end=21)], label=number\n",
            "text='130', spans=[Span(start=775, end=778)], label=number\n",
            "text='124', spans=[Span(start=805, end=808)], label=number\n",
            "text='78', spans=[Span(start=809, end=811)], label=number\n",
            "text='1', spans=[Span(start=1053, end=1054)], label=number\n",
            "text='2', spans=[Span(start=1222, end=1223)], label=number\n"
          ]
        }
      ],
      "source": [
        "for entity in entities:\n",
        "    print(f\"text={entity.text!r}, spans={entity.spans}, label={entity.label}\")"
      ]
    },
    {
      "cell_type": "markdown",
      "id": "45d61de3-c469-4991-88c8-53632ac4b106",
      "metadata": {
        "id": "45d61de3-c469-4991-88c8-53632ac4b106"
      },
      "source": [
        "Technical action to create document annotations using the detected entities (mandatory for visualization, but not important to understand)."
      ]
    },
    {
      "cell_type": "code",
      "execution_count": null,
      "id": "9a933f60-20d5-4ecc-b7aa-1f9aa162b996",
      "metadata": {
        "id": "9a933f60-20d5-4ecc-b7aa-1f9aa162b996"
      },
      "outputs": [],
      "source": [
        "for entity in entities:\n",
        "    doc.anns.add(entity)"
      ]
    },
    {
      "cell_type": "code",
      "execution_count": null,
      "id": "1b5277d1-0f40-41ce-b8d4-490366cac1ca",
      "metadata": {
        "colab": {
          "base_uri": "https://localhost:8080/",
          "height": 262
        },
        "id": "1b5277d1-0f40-41ce-b8d4-490366cac1ca",
        "outputId": "c932704d-f5f8-404f-be84-29e5678fdb9e"
      },
      "outputs": [
        {
          "output_type": "display_data",
          "data": {
            "text/plain": [
              "<IPython.core.display.HTML object>"
            ],
            "text/html": [
              "<span class=\"tex2jax_ignore\"><div class=\"entities\" style=\"line-height: 2.5; direction: ltr\">SUBJECTIVE:,  This \n",
              "<mark class=\"entity\" style=\"background: #ff6961; padding: 0.45em 0.6em; margin: 0 0.25em; line-height: 1; border-radius: 0.35em;\">\n",
              "    23\n",
              "    <span style=\"font-size: 0.8em; font-weight: bold; line-height: 1; border-radius: 0.35em; vertical-align: middle; margin-left: 0.5rem\">number</span>\n",
              "</mark>\n",
              "-year-old white female presents with complaint of allergies.  She used to have allergies when she lived in Seattle but she thinks they are worse here.  In the past, she has tried Claritin, and Zyrtec.  Both worked for short time but then seemed to lose effectiveness.  She has used Allegra also.  She used that last summer and she began using it again two weeks ago.  It does not appear to be working very well.  She has used over-the-counter sprays but no prescription nasal sprays.  She does have asthma but doest not require daily medication for this and does not think it is flaring up.,MEDICATIONS: , Her only medication currently is Ortho Tri-Cyclen and the Allegra.,ALLERGIES: , She has no known medicine allergies.,OBJECTIVE:,Vitals:  Weight was \n",
              "<mark class=\"entity\" style=\"background: #ff6961; padding: 0.45em 0.6em; margin: 0 0.25em; line-height: 1; border-radius: 0.35em;\">\n",
              "    130\n",
              "    <span style=\"font-size: 0.8em; font-weight: bold; line-height: 1; border-radius: 0.35em; vertical-align: middle; margin-left: 0.5rem\">number</span>\n",
              "</mark>\n",
              "\n",
              "<mark class=\"entity\" style=\"background: #85C1E9; padding: 0.45em 0.6em; margin: 0 0.25em; line-height: 1; border-radius: 0.35em;\">\n",
              "    130 pounds\n",
              "    <span style=\"font-size: 0.8em; font-weight: bold; line-height: 1; border-radius: 0.35em; vertical-align: middle; margin-left: 0.5rem\">weight</span>\n",
              "</mark>\n",
              " and blood pressure \n",
              "<mark class=\"entity\" style=\"background: #ff6961; padding: 0.45em 0.6em; margin: 0 0.25em; line-height: 1; border-radius: 0.35em;\">\n",
              "    124\n",
              "    <span style=\"font-size: 0.8em; font-weight: bold; line-height: 1; border-radius: 0.35em; vertical-align: middle; margin-left: 0.5rem\">number</span>\n",
              "</mark>\n",
              "/\n",
              "<mark class=\"entity\" style=\"background: #ff6961; padding: 0.45em 0.6em; margin: 0 0.25em; line-height: 1; border-radius: 0.35em;\">\n",
              "    78\n",
              "    <span style=\"font-size: 0.8em; font-weight: bold; line-height: 1; border-radius: 0.35em; vertical-align: middle; margin-left: 0.5rem\">number</span>\n",
              "</mark>\n",
              ".,HEENT:  Her throat was mildly erythematous without exudate.  Nasal mucosa was erythematous and swollen.  Only clear drainage was seen.  TMs were clear.,Neck:  Supple without adenopathy.,Lungs:  Clear.,ASSESSMENT:,  Allergic rhinitis.,PLAN:,\n",
              "<mark class=\"entity\" style=\"background: #ff6961; padding: 0.45em 0.6em; margin: 0 0.25em; line-height: 1; border-radius: 0.35em;\">\n",
              "    1\n",
              "    <span style=\"font-size: 0.8em; font-weight: bold; line-height: 1; border-radius: 0.35em; vertical-align: middle; margin-left: 0.5rem\">number</span>\n",
              "</mark>\n",
              ".  She will try Zyrtec instead of Allegra again.  Another option will be to use loratadine.  She does not think she has prescription coverage so that might be cheaper.,\n",
              "<mark class=\"entity\" style=\"background: #ff6961; padding: 0.45em 0.6em; margin: 0 0.25em; line-height: 1; border-radius: 0.35em;\">\n",
              "    2\n",
              "    <span style=\"font-size: 0.8em; font-weight: bold; line-height: 1; border-radius: 0.35em; vertical-align: middle; margin-left: 0.5rem\">number</span>\n",
              "</mark>\n",
              ".  Samples of Nasonex two sprays in each nostril given for three weeks.  A prescription was written as well.</div></span>"
            ]
          },
          "metadata": {}
        }
      ],
      "source": [
        "from spacy import displacy\n",
        "from medkit.text.spacy.displacy_utils import medkit_doc_to_displacy\n",
        "\n",
        "colors = {'weight': \"#85C1E9\", \"number\": \"#ff6961\"}\n",
        "options = {\"ents\": ['weight', 'number'], \"colors\": colors}\n",
        "\n",
        "displacy_data = medkit_doc_to_displacy(doc)\n",
        "displacy.render(displacy_data, manual=True, jupyter=True, style=\"ent\", options=options)"
      ]
    },
    {
      "cell_type": "markdown",
      "id": "9664aac3-edac-4f99-b296-02da21182a48",
      "metadata": {
        "id": "9664aac3-edac-4f99-b296-02da21182a48"
      },
      "source": [
        "#### Exercice :\n",
        "\n",
        "Modify the code above to capture IMC, blood pressure\n",
        "and the age of the patients"
      ]
    },
    {
      "cell_type": "markdown",
      "id": "4b5b69e5-76bb-4623-9ed0-48cd7cfedec1",
      "metadata": {
        "id": "4b5b69e5-76bb-4623-9ed0-48cd7cfedec1"
      },
      "source": [
        "# Extracting drugs using a dictionary"
      ]
    },
    {
      "cell_type": "markdown",
      "id": "a944a371-74b9-4052-ac69-65448d7137a3",
      "metadata": {
        "id": "a944a371-74b9-4052-ac69-65448d7137a3"
      },
      "source": [
        "We will rely on a list of drugs provided by the US FDA to build a dictionnary (https://www.fda.gov/drugs/drug-approvals-and-databases/drugsfda-data-files)"
      ]
    },
    {
      "cell_type": "markdown",
      "id": "ef6ede06-048e-4eec-ad8e-3e85a6a4ae46",
      "metadata": {
        "id": "ef6ede06-048e-4eec-ad8e-3e85a6a4ae46"
      },
      "source": [
        "### Step 1 - constructing a dictionary of drug names\n",
        "Read the Products file, and identify the columns of interest"
      ]
    },
    {
      "cell_type": "code",
      "execution_count": null,
      "id": "51fb99fb-c15e-440b-9f11-7378ac2a3d1c",
      "metadata": {
        "colab": {
          "base_uri": "https://localhost:8080/"
        },
        "id": "51fb99fb-c15e-440b-9f11-7378ac2a3d1c",
        "outputId": "b7bf02ea-0b4d-49ec-e2ac-b312fdc6bb8f"
      },
      "outputs": [
        {
          "output_type": "execute_result",
          "data": {
            "text/plain": [
              "ApplNo                                             4\n",
              "ProductNo                                          4\n",
              "Form                       SOLUTION/DROPS;OPHTHALMIC\n",
              "Strength                                          1%\n",
              "ReferenceDrug                                      0\n",
              "DrugName                                   PAREDRINE\n",
              "ActiveIngredient     HYDROXYAMPHETAMINE HYDROBROMIDE\n",
              "ReferenceStandard                                0.0\n",
              "Name: 0, dtype: object"
            ]
          },
          "metadata": {},
          "execution_count": 19
        }
      ],
      "source": [
        "import pandas as pd\n",
        "\n",
        "drugs = pd.read_csv(\"01_data/Products.txt\", sep=\"\\t\", on_bad_lines='skip')\n",
        "drugs.iloc[0]"
      ]
    },
    {
      "cell_type": "code",
      "execution_count": null,
      "id": "a0806759-b7dc-497b-9762-e90152ea7896",
      "metadata": {
        "colab": {
          "base_uri": "https://localhost:8080/"
        },
        "id": "a0806759-b7dc-497b-9762-e90152ea7896",
        "outputId": "68c7d164-acfc-4ca8-8455-dd695084b685"
      },
      "outputs": [
        {
          "output_type": "execute_result",
          "data": {
            "text/plain": [
              "34683"
            ]
          },
          "metadata": {},
          "execution_count": 21
        }
      ],
      "source": [
        "# Print the size of the dataset, here 46k brand names\n",
        "len(drugs)"
      ]
    },
    {
      "cell_type": "markdown",
      "id": "c1633503-7cbb-4ff5-bec1-b546f63733c2",
      "metadata": {
        "id": "c1633503-7cbb-4ff5-bec1-b546f63733c2"
      },
      "source": [
        "### Step 2 - Build the dictionary using the IAMsystem matcher"
      ]
    },
    {
      "cell_type": "code",
      "execution_count": null,
      "id": "f70dd48a-26a2-46ff-911f-642cfd2fe782",
      "metadata": {
        "colab": {
          "base_uri": "https://localhost:8080/"
        },
        "id": "f70dd48a-26a2-46ff-911f-642cfd2fe782",
        "outputId": "b29c4f3b-f2f0-40a0-d3ec-174e50e89f9a"
      },
      "outputs": [
        {
          "output_type": "execute_result",
          "data": {
            "text/plain": [
              "Index(['ApplNo', 'ProductNo', 'Form', 'Strength', 'ReferenceDrug', 'DrugName',\n",
              "       'ActiveIngredient', 'ReferenceStandard'],\n",
              "      dtype='object')"
            ]
          },
          "metadata": {},
          "execution_count": 20
        }
      ],
      "source": [
        "drugs.keys()"
      ]
    },
    {
      "cell_type": "code",
      "execution_count": null,
      "id": "1d9db3b2-6fdd-43e2-806e-b861f1e47d93",
      "metadata": {
        "id": "1d9db3b2-6fdd-43e2-806e-b861f1e47d93"
      },
      "outputs": [],
      "source": [
        "from iamsystem import Matcher\n",
        "from iamsystem import ESpellWiseAlgo\n",
        "\n",
        "from medkit.text.ner import RegexpMatcher, RegexpMatcherRule\n",
        "from medkit.text.ner.iamsystem_matcher import IAMSystemMatcher\n",
        "from medkit.text.ner.iamsystem_matcher import MedkitKeyword\n",
        "\n",
        "keywords_list=[]\n",
        "# Creation of the list of terms to be searched\n",
        "for i in range(0, len(drugs)):\n",
        "    keywords_list.append(MedkitKeyword(label=drugs.at[i, 'DrugName'], kb_id=drugs.at[i, 'ApplNo'], kb_name=\"FDA\", ent_label='drug'))\n",
        "    #keywords_list.append(MedkitKeyword(label=drugs.at[i, 'ActiveIngredient'], kb_id=drugs.at[i, 'ApplNo'], kb_name=\"FDA\", ent_label='drug'))\n",
        "\n",
        "matcher = Matcher.build(\n",
        "    keywords=keywords_list,\n",
        "    spellwise=[dict(measure=ESpellWiseAlgo.LEVENSHTEIN,max_distance=1,min_nb_char=10,)],\n",
        "    stopwords=[\"and\"],\n",
        "    w=2,\n",
        ")"
      ]
    },
    {
      "cell_type": "code",
      "execution_count": null,
      "id": "9bc7c4bb-cf16-4830-ac9e-9ca7ed606c1b",
      "metadata": {
        "id": "9bc7c4bb-cf16-4830-ac9e-9ca7ed606c1b"
      },
      "outputs": [],
      "source": [
        "iam_matcher = IAMSystemMatcher(matcher = matcher, attrs_to_copy = [\"is_negated\", \"family\"])"
      ]
    },
    {
      "cell_type": "code",
      "execution_count": null,
      "id": "e23f0bb0-0e47-4fed-bb5c-9e75bfb29a9a",
      "metadata": {
        "colab": {
          "base_uri": "https://localhost:8080/"
        },
        "id": "e23f0bb0-0e47-4fed-bb5c-9e75bfb29a9a",
        "outputId": "9470470a-f24c-45eb-cf77-f8e45579a751"
      },
      "outputs": [
        {
          "output_type": "stream",
          "name": "stdout",
          "text": [
            "text='Claritin', spans=[Span(start=200, end=208)], label=drug\n",
            "text='Zyrtec', spans=[Span(start=214, end=220)], label=drug\n",
            "text='Allegra', spans=[Span(start=303, end=310)], label=drug\n",
            "text='Ortho Tri Cyclen', spans=[Span(start=660, end=665), ModifiedSpan(length=1, replaced_spans=[]), Span(start=666, end=669), ModifiedSpan(length=1, replaced_spans=[]), Span(start=670, end=676)], label=drug\n",
            "text='Allegra', spans=[Span(start=685, end=692)], label=drug\n",
            "text='Zyrtec', spans=[Span(start=1070, end=1076)], label=drug\n",
            "text='Allegra', spans=[Span(start=1088, end=1095)], label=drug\n",
            "text='loratadine', spans=[Span(start=1134, end=1144)], label=drug\n",
            "text='Nasonex', spans=[Span(start=1237, end=1244)], label=drug\n"
          ]
        }
      ],
      "source": [
        "entities = iam_matcher.run([doc.raw_segment])\n",
        "\n",
        "for entity in entities:\n",
        "    print(f\"text={entity.text!r}, spans={entity.spans}, label={entity.label}\")"
      ]
    },
    {
      "cell_type": "code",
      "execution_count": null,
      "id": "6d3e38b6-9d58-4bbc-a5bd-3d42d4379402",
      "metadata": {
        "id": "6d3e38b6-9d58-4bbc-a5bd-3d42d4379402"
      },
      "outputs": [],
      "source": [
        "for entity in entities:\n",
        "    doc.anns.add(entity)"
      ]
    },
    {
      "cell_type": "code",
      "execution_count": null,
      "id": "7155c5ca-20ed-4b27-af49-79f8068f1b1c",
      "metadata": {
        "colab": {
          "base_uri": "https://localhost:8080/",
          "height": 262
        },
        "id": "7155c5ca-20ed-4b27-af49-79f8068f1b1c",
        "outputId": "4a93707d-2e2e-4522-dc9a-0d947a603091"
      },
      "outputs": [
        {
          "output_type": "display_data",
          "data": {
            "text/plain": [
              "<IPython.core.display.HTML object>"
            ],
            "text/html": [
              "<span class=\"tex2jax_ignore\"><div class=\"entities\" style=\"line-height: 2.5; direction: ltr\">SUBJECTIVE:,  This \n",
              "<mark class=\"entity\" style=\"background: #ff6961; padding: 0.45em 0.6em; margin: 0 0.25em; line-height: 1; border-radius: 0.35em;\">\n",
              "    23\n",
              "    <span style=\"font-size: 0.8em; font-weight: bold; line-height: 1; border-radius: 0.35em; vertical-align: middle; margin-left: 0.5rem\">number</span>\n",
              "</mark>\n",
              "-year-old white female presents with complaint of allergies.  She used to have allergies when she lived in Seattle but she thinks they are worse here.  In the past, she has tried \n",
              "<mark class=\"entity\" style=\"background: #ff9900; padding: 0.45em 0.6em; margin: 0 0.25em; line-height: 1; border-radius: 0.35em;\">\n",
              "    Claritin\n",
              "    <span style=\"font-size: 0.8em; font-weight: bold; line-height: 1; border-radius: 0.35em; vertical-align: middle; margin-left: 0.5rem\">drug</span>\n",
              "</mark>\n",
              ", and \n",
              "<mark class=\"entity\" style=\"background: #ff9900; padding: 0.45em 0.6em; margin: 0 0.25em; line-height: 1; border-radius: 0.35em;\">\n",
              "    Zyrtec\n",
              "    <span style=\"font-size: 0.8em; font-weight: bold; line-height: 1; border-radius: 0.35em; vertical-align: middle; margin-left: 0.5rem\">drug</span>\n",
              "</mark>\n",
              ".  Both worked for short time but then seemed to lose effectiveness.  She has used \n",
              "<mark class=\"entity\" style=\"background: #ff9900; padding: 0.45em 0.6em; margin: 0 0.25em; line-height: 1; border-radius: 0.35em;\">\n",
              "    Allegra\n",
              "    <span style=\"font-size: 0.8em; font-weight: bold; line-height: 1; border-radius: 0.35em; vertical-align: middle; margin-left: 0.5rem\">drug</span>\n",
              "</mark>\n",
              " also.  She used that last summer and she began using it again two weeks ago.  It does not appear to be working very well.  She has used over-the-counter sprays but no prescription nasal sprays.  She does have asthma but doest not require daily medication for this and does not think it is flaring up.,MEDICATIONS: , Her only medication currently is \n",
              "<mark class=\"entity\" style=\"background: #ff9900; padding: 0.45em 0.6em; margin: 0 0.25em; line-height: 1; border-radius: 0.35em;\">\n",
              "    Ortho Tri-Cyclen\n",
              "    <span style=\"font-size: 0.8em; font-weight: bold; line-height: 1; border-radius: 0.35em; vertical-align: middle; margin-left: 0.5rem\">drug</span>\n",
              "</mark>\n",
              " and the \n",
              "<mark class=\"entity\" style=\"background: #ff9900; padding: 0.45em 0.6em; margin: 0 0.25em; line-height: 1; border-radius: 0.35em;\">\n",
              "    Allegra\n",
              "    <span style=\"font-size: 0.8em; font-weight: bold; line-height: 1; border-radius: 0.35em; vertical-align: middle; margin-left: 0.5rem\">drug</span>\n",
              "</mark>\n",
              ".,ALLERGIES: , She has no known medicine allergies.,OBJECTIVE:,Vitals:  Weight was \n",
              "<mark class=\"entity\" style=\"background: #ff6961; padding: 0.45em 0.6em; margin: 0 0.25em; line-height: 1; border-radius: 0.35em;\">\n",
              "    130\n",
              "    <span style=\"font-size: 0.8em; font-weight: bold; line-height: 1; border-radius: 0.35em; vertical-align: middle; margin-left: 0.5rem\">number</span>\n",
              "</mark>\n",
              "\n",
              "<mark class=\"entity\" style=\"background: #85C1E9; padding: 0.45em 0.6em; margin: 0 0.25em; line-height: 1; border-radius: 0.35em;\">\n",
              "    130 pounds\n",
              "    <span style=\"font-size: 0.8em; font-weight: bold; line-height: 1; border-radius: 0.35em; vertical-align: middle; margin-left: 0.5rem\">weight</span>\n",
              "</mark>\n",
              " and blood pressure \n",
              "<mark class=\"entity\" style=\"background: #ff6961; padding: 0.45em 0.6em; margin: 0 0.25em; line-height: 1; border-radius: 0.35em;\">\n",
              "    124\n",
              "    <span style=\"font-size: 0.8em; font-weight: bold; line-height: 1; border-radius: 0.35em; vertical-align: middle; margin-left: 0.5rem\">number</span>\n",
              "</mark>\n",
              "/\n",
              "<mark class=\"entity\" style=\"background: #ff6961; padding: 0.45em 0.6em; margin: 0 0.25em; line-height: 1; border-radius: 0.35em;\">\n",
              "    78\n",
              "    <span style=\"font-size: 0.8em; font-weight: bold; line-height: 1; border-radius: 0.35em; vertical-align: middle; margin-left: 0.5rem\">number</span>\n",
              "</mark>\n",
              ".,HEENT:  Her throat was mildly erythematous without exudate.  Nasal mucosa was erythematous and swollen.  Only clear drainage was seen.  TMs were clear.,Neck:  Supple without adenopathy.,Lungs:  Clear.,ASSESSMENT:,  Allergic rhinitis.,PLAN:,\n",
              "<mark class=\"entity\" style=\"background: #ff6961; padding: 0.45em 0.6em; margin: 0 0.25em; line-height: 1; border-radius: 0.35em;\">\n",
              "    1\n",
              "    <span style=\"font-size: 0.8em; font-weight: bold; line-height: 1; border-radius: 0.35em; vertical-align: middle; margin-left: 0.5rem\">number</span>\n",
              "</mark>\n",
              ".  She will try \n",
              "<mark class=\"entity\" style=\"background: #ff9900; padding: 0.45em 0.6em; margin: 0 0.25em; line-height: 1; border-radius: 0.35em;\">\n",
              "    Zyrtec\n",
              "    <span style=\"font-size: 0.8em; font-weight: bold; line-height: 1; border-radius: 0.35em; vertical-align: middle; margin-left: 0.5rem\">drug</span>\n",
              "</mark>\n",
              " instead of \n",
              "<mark class=\"entity\" style=\"background: #ff9900; padding: 0.45em 0.6em; margin: 0 0.25em; line-height: 1; border-radius: 0.35em;\">\n",
              "    Allegra\n",
              "    <span style=\"font-size: 0.8em; font-weight: bold; line-height: 1; border-radius: 0.35em; vertical-align: middle; margin-left: 0.5rem\">drug</span>\n",
              "</mark>\n",
              " again.  Another option will be to use \n",
              "<mark class=\"entity\" style=\"background: #ff9900; padding: 0.45em 0.6em; margin: 0 0.25em; line-height: 1; border-radius: 0.35em;\">\n",
              "    loratadine\n",
              "    <span style=\"font-size: 0.8em; font-weight: bold; line-height: 1; border-radius: 0.35em; vertical-align: middle; margin-left: 0.5rem\">drug</span>\n",
              "</mark>\n",
              ".  She does not think she has prescription coverage so that might be cheaper.,\n",
              "<mark class=\"entity\" style=\"background: #ff6961; padding: 0.45em 0.6em; margin: 0 0.25em; line-height: 1; border-radius: 0.35em;\">\n",
              "    2\n",
              "    <span style=\"font-size: 0.8em; font-weight: bold; line-height: 1; border-radius: 0.35em; vertical-align: middle; margin-left: 0.5rem\">number</span>\n",
              "</mark>\n",
              ".  Samples of \n",
              "<mark class=\"entity\" style=\"background: #ff9900; padding: 0.45em 0.6em; margin: 0 0.25em; line-height: 1; border-radius: 0.35em;\">\n",
              "    Nasonex\n",
              "    <span style=\"font-size: 0.8em; font-weight: bold; line-height: 1; border-radius: 0.35em; vertical-align: middle; margin-left: 0.5rem\">drug</span>\n",
              "</mark>\n",
              " two sprays in each nostril given for three weeks.  A prescription was written as well.</div></span>"
            ]
          },
          "metadata": {}
        }
      ],
      "source": [
        "from spacy import displacy\n",
        "from medkit.text.spacy.displacy_utils import medkit_doc_to_displacy\n",
        "\n",
        "colors = {'weight': \"#85C1E9\", \"number\": \"#ff6961\", \"drug\":\"#ff9900\"}\n",
        "options = {\"ents\": ['weight', 'number','drug'], \"colors\": colors}\n",
        "\n",
        "displacy_data = medkit_doc_to_displacy(doc)\n",
        "displacy.render(displacy_data, manual=True, jupyter=True, style=\"ent\", options=options)"
      ]
    },
    {
      "cell_type": "markdown",
      "id": "ff2936a1-fb2c-467d-a174-101817a6d816",
      "metadata": {
        "id": "ff2936a1-fb2c-467d-a174-101817a6d816"
      },
      "source": [
        "#### Exercice:\n",
        "\n",
        "Complete the code above to capture not only brand names but also ingredients (i.e. molecule names)"
      ]
    },
    {
      "cell_type": "markdown",
      "id": "31fb2d14-489c-4888-b82c-62496a4fff41",
      "metadata": {
        "id": "31fb2d14-489c-4888-b82c-62496a4fff41"
      },
      "source": [
        "## Extracting phenotypes using dictionaries"
      ]
    },
    {
      "cell_type": "markdown",
      "id": "bfe067a7-9428-4346-b6ac-23b05ac70c72",
      "metadata": {
        "id": "bfe067a7-9428-4346-b6ac-23b05ac70c72"
      },
      "source": [
        "We will rely on phenotypes provided by the Human Phenotype Ontology (download from https://hpo.jax.org/app/data/ontology)"
      ]
    },
    {
      "cell_type": "code",
      "execution_count": null,
      "id": "d719409e-c691-449a-ab08-e7479cf4d5d1",
      "metadata": {
        "colab": {
          "base_uri": "https://localhost:8080/"
        },
        "id": "d719409e-c691-449a-ab08-e7479cf4d5d1",
        "outputId": "cf3cb8c0-63ee-4cd6-ff8e-3fafd33ce9dd"
      },
      "outputs": [
        {
          "output_type": "stream",
          "name": "stdout",
          "text": [
            "Term    1-2 finger syndactyly,\n",
            "Name: 0, dtype: object\n",
            "Term    1-Methylhistidinuria\n",
            "Name: 0, dtype: object\n"
          ]
        }
      ],
      "source": [
        "import pandas as pd\n",
        "\n",
        "pheno_terms = pd.read_csv(\"01_data/hp_terms.txt\", sep=\"\\t\",on_bad_lines='skip', )\n",
        "print(pheno_terms.iloc[0])\n",
        "pheno_syn_terms = pd.read_csv(\"01_data/hp_synonyms.txt\", sep=\"\\t\",on_bad_lines='skip', )\n",
        "print(pheno_syn_terms.iloc[0])"
      ]
    },
    {
      "cell_type": "markdown",
      "id": "18c5eeab-250e-4054-b384-26efb5c79a02",
      "metadata": {
        "id": "18c5eeab-250e-4054-b384-26efb5c79a02"
      },
      "source": [
        "The next steps takes about 30 seconds"
      ]
    },
    {
      "cell_type": "code",
      "execution_count": null,
      "id": "ffa79f6a-87de-46ba-82bb-ea480ea84bad",
      "metadata": {
        "id": "ffa79f6a-87de-46ba-82bb-ea480ea84bad"
      },
      "outputs": [],
      "source": [
        "pheno_keywords_list=[]\n",
        "max_index = 0\n",
        "# Creation of the list of terms to be searched\n",
        "for i in range(0, len(pheno_terms)):\n",
        "    pheno_keywords_list.append(MedkitKeyword(label=pheno_terms.at[i, 'Term'], kb_id=i, kb_name=\"HPO\", ent_label='pheno'))\n",
        "    max_index = i\n",
        "\n",
        "pheno_matcher = Matcher.build(\n",
        "    keywords=pheno_keywords_list,\n",
        "    spellwise=[dict(measure=ESpellWiseAlgo.LEVENSHTEIN,max_distance=1,min_nb_char=10,)],\n",
        "    stopwords=[\"and\"],\n",
        "    w=2,\n",
        ")"
      ]
    },
    {
      "cell_type": "code",
      "execution_count": null,
      "id": "922e97a6-517c-4c72-822a-2ba06a6750a5",
      "metadata": {
        "id": "922e97a6-517c-4c72-822a-2ba06a6750a5"
      },
      "outputs": [],
      "source": [
        "iam_matcher_pheno = IAMSystemMatcher(matcher = pheno_matcher, attrs_to_copy = [\"is_negated\", \"family\"])"
      ]
    },
    {
      "cell_type": "code",
      "execution_count": null,
      "id": "a5ca55ac-023e-417a-8b85-9bcab6a3040c",
      "metadata": {
        "colab": {
          "base_uri": "https://localhost:8080/"
        },
        "id": "a5ca55ac-023e-417a-8b85-9bcab6a3040c",
        "outputId": "a7196dfb-18e4-4f9a-ac16-9051cb46bcb7"
      },
      "outputs": [
        {
          "output_type": "stream",
          "name": "stdout",
          "text": [
            "text='asthma', spans=[Span(start=520, end=526)], label=pheno\n",
            "text='Allergic rhinitis', spans=[Span(start=1028, end=1036), ModifiedSpan(length=1, replaced_spans=[]), Span(start=1037, end=1045)], label=pheno\n",
            "text='2', spans=[Span(start=1222, end=1223)], label=pheno\n"
          ]
        }
      ],
      "source": [
        "entities = iam_matcher_pheno.run([doc.raw_segment])\n",
        "for entity in entities:\n",
        "    print(f\"text={entity.text!r}, spans={entity.spans}, label={entity.label}\")"
      ]
    },
    {
      "cell_type": "code",
      "execution_count": null,
      "id": "a1bbbef7-0540-4bdf-a1d6-4dc39f37340f",
      "metadata": {
        "id": "a1bbbef7-0540-4bdf-a1d6-4dc39f37340f"
      },
      "outputs": [],
      "source": [
        "for entity in entities:\n",
        "    doc.anns.add(entity)"
      ]
    },
    {
      "cell_type": "code",
      "execution_count": null,
      "id": "aea8979c-0dff-40cd-8285-d145e7e45e58",
      "metadata": {
        "colab": {
          "base_uri": "https://localhost:8080/",
          "height": 262
        },
        "id": "aea8979c-0dff-40cd-8285-d145e7e45e58",
        "outputId": "555ce701-18e5-4205-e7ed-d7fdec4989b8"
      },
      "outputs": [
        {
          "output_type": "display_data",
          "data": {
            "text/plain": [
              "<IPython.core.display.HTML object>"
            ],
            "text/html": [
              "<span class=\"tex2jax_ignore\"><div class=\"entities\" style=\"line-height: 2.5; direction: ltr\">SUBJECTIVE:,  This \n",
              "<mark class=\"entity\" style=\"background: #ff6961; padding: 0.45em 0.6em; margin: 0 0.25em; line-height: 1; border-radius: 0.35em;\">\n",
              "    23\n",
              "    <span style=\"font-size: 0.8em; font-weight: bold; line-height: 1; border-radius: 0.35em; vertical-align: middle; margin-left: 0.5rem\">number</span>\n",
              "</mark>\n",
              "-year-old white female presents with complaint of allergies.  She used to have allergies when she lived in Seattle but she thinks they are worse here.  In the past, she has tried \n",
              "<mark class=\"entity\" style=\"background: #ff9900; padding: 0.45em 0.6em; margin: 0 0.25em; line-height: 1; border-radius: 0.35em;\">\n",
              "    Claritin\n",
              "    <span style=\"font-size: 0.8em; font-weight: bold; line-height: 1; border-radius: 0.35em; vertical-align: middle; margin-left: 0.5rem\">drug</span>\n",
              "</mark>\n",
              ", and \n",
              "<mark class=\"entity\" style=\"background: #ff9900; padding: 0.45em 0.6em; margin: 0 0.25em; line-height: 1; border-radius: 0.35em;\">\n",
              "    Zyrtec\n",
              "    <span style=\"font-size: 0.8em; font-weight: bold; line-height: 1; border-radius: 0.35em; vertical-align: middle; margin-left: 0.5rem\">drug</span>\n",
              "</mark>\n",
              ".  Both worked for short time but then seemed to lose effectiveness.  She has used \n",
              "<mark class=\"entity\" style=\"background: #ff9900; padding: 0.45em 0.6em; margin: 0 0.25em; line-height: 1; border-radius: 0.35em;\">\n",
              "    Allegra\n",
              "    <span style=\"font-size: 0.8em; font-weight: bold; line-height: 1; border-radius: 0.35em; vertical-align: middle; margin-left: 0.5rem\">drug</span>\n",
              "</mark>\n",
              " also.  She used that last summer and she began using it again two weeks ago.  It does not appear to be working very well.  She has used over-the-counter sprays but no prescription nasal sprays.  She does have \n",
              "<mark class=\"entity\" style=\"background: #10ad10; padding: 0.45em 0.6em; margin: 0 0.25em; line-height: 1; border-radius: 0.35em;\">\n",
              "    asthma\n",
              "    <span style=\"font-size: 0.8em; font-weight: bold; line-height: 1; border-radius: 0.35em; vertical-align: middle; margin-left: 0.5rem\">pheno</span>\n",
              "</mark>\n",
              " but doest not require daily medication for this and does not think it is flaring up.,MEDICATIONS: , Her only medication currently is \n",
              "<mark class=\"entity\" style=\"background: #ff9900; padding: 0.45em 0.6em; margin: 0 0.25em; line-height: 1; border-radius: 0.35em;\">\n",
              "    Ortho Tri-Cyclen\n",
              "    <span style=\"font-size: 0.8em; font-weight: bold; line-height: 1; border-radius: 0.35em; vertical-align: middle; margin-left: 0.5rem\">drug</span>\n",
              "</mark>\n",
              " and the \n",
              "<mark class=\"entity\" style=\"background: #ff9900; padding: 0.45em 0.6em; margin: 0 0.25em; line-height: 1; border-radius: 0.35em;\">\n",
              "    Allegra\n",
              "    <span style=\"font-size: 0.8em; font-weight: bold; line-height: 1; border-radius: 0.35em; vertical-align: middle; margin-left: 0.5rem\">drug</span>\n",
              "</mark>\n",
              ".,ALLERGIES: , She has no known medicine allergies.,OBJECTIVE:,Vitals:  Weight was \n",
              "<mark class=\"entity\" style=\"background: #ff6961; padding: 0.45em 0.6em; margin: 0 0.25em; line-height: 1; border-radius: 0.35em;\">\n",
              "    130\n",
              "    <span style=\"font-size: 0.8em; font-weight: bold; line-height: 1; border-radius: 0.35em; vertical-align: middle; margin-left: 0.5rem\">number</span>\n",
              "</mark>\n",
              "\n",
              "<mark class=\"entity\" style=\"background: #85C1E9; padding: 0.45em 0.6em; margin: 0 0.25em; line-height: 1; border-radius: 0.35em;\">\n",
              "    130 pounds\n",
              "    <span style=\"font-size: 0.8em; font-weight: bold; line-height: 1; border-radius: 0.35em; vertical-align: middle; margin-left: 0.5rem\">weight</span>\n",
              "</mark>\n",
              " and blood pressure \n",
              "<mark class=\"entity\" style=\"background: #ff6961; padding: 0.45em 0.6em; margin: 0 0.25em; line-height: 1; border-radius: 0.35em;\">\n",
              "    124\n",
              "    <span style=\"font-size: 0.8em; font-weight: bold; line-height: 1; border-radius: 0.35em; vertical-align: middle; margin-left: 0.5rem\">number</span>\n",
              "</mark>\n",
              "/\n",
              "<mark class=\"entity\" style=\"background: #ff6961; padding: 0.45em 0.6em; margin: 0 0.25em; line-height: 1; border-radius: 0.35em;\">\n",
              "    78\n",
              "    <span style=\"font-size: 0.8em; font-weight: bold; line-height: 1; border-radius: 0.35em; vertical-align: middle; margin-left: 0.5rem\">number</span>\n",
              "</mark>\n",
              ".,HEENT:  Her throat was mildly erythematous without exudate.  Nasal mucosa was erythematous and swollen.  Only clear drainage was seen.  TMs were clear.,Neck:  Supple without adenopathy.,Lungs:  Clear.,ASSESSMENT:,  \n",
              "<mark class=\"entity\" style=\"background: #10ad10; padding: 0.45em 0.6em; margin: 0 0.25em; line-height: 1; border-radius: 0.35em;\">\n",
              "    Allergic rhinitis\n",
              "    <span style=\"font-size: 0.8em; font-weight: bold; line-height: 1; border-radius: 0.35em; vertical-align: middle; margin-left: 0.5rem\">pheno</span>\n",
              "</mark>\n",
              ".,PLAN:,\n",
              "<mark class=\"entity\" style=\"background: #ff6961; padding: 0.45em 0.6em; margin: 0 0.25em; line-height: 1; border-radius: 0.35em;\">\n",
              "    1\n",
              "    <span style=\"font-size: 0.8em; font-weight: bold; line-height: 1; border-radius: 0.35em; vertical-align: middle; margin-left: 0.5rem\">number</span>\n",
              "</mark>\n",
              ".  She will try \n",
              "<mark class=\"entity\" style=\"background: #ff9900; padding: 0.45em 0.6em; margin: 0 0.25em; line-height: 1; border-radius: 0.35em;\">\n",
              "    Zyrtec\n",
              "    <span style=\"font-size: 0.8em; font-weight: bold; line-height: 1; border-radius: 0.35em; vertical-align: middle; margin-left: 0.5rem\">drug</span>\n",
              "</mark>\n",
              " instead of \n",
              "<mark class=\"entity\" style=\"background: #ff9900; padding: 0.45em 0.6em; margin: 0 0.25em; line-height: 1; border-radius: 0.35em;\">\n",
              "    Allegra\n",
              "    <span style=\"font-size: 0.8em; font-weight: bold; line-height: 1; border-radius: 0.35em; vertical-align: middle; margin-left: 0.5rem\">drug</span>\n",
              "</mark>\n",
              " again.  Another option will be to use \n",
              "<mark class=\"entity\" style=\"background: #ff9900; padding: 0.45em 0.6em; margin: 0 0.25em; line-height: 1; border-radius: 0.35em;\">\n",
              "    loratadine\n",
              "    <span style=\"font-size: 0.8em; font-weight: bold; line-height: 1; border-radius: 0.35em; vertical-align: middle; margin-left: 0.5rem\">drug</span>\n",
              "</mark>\n",
              ".  She does not think she has prescription coverage so that might be cheaper.,\n",
              "<mark class=\"entity\" style=\"background: #ff6961; padding: 0.45em 0.6em; margin: 0 0.25em; line-height: 1; border-radius: 0.35em;\">\n",
              "    2\n",
              "    <span style=\"font-size: 0.8em; font-weight: bold; line-height: 1; border-radius: 0.35em; vertical-align: middle; margin-left: 0.5rem\">number</span>\n",
              "</mark>\n",
              "\n",
              "<mark class=\"entity\" style=\"background: #10ad10; padding: 0.45em 0.6em; margin: 0 0.25em; line-height: 1; border-radius: 0.35em;\">\n",
              "    2\n",
              "    <span style=\"font-size: 0.8em; font-weight: bold; line-height: 1; border-radius: 0.35em; vertical-align: middle; margin-left: 0.5rem\">pheno</span>\n",
              "</mark>\n",
              ".  Samples of \n",
              "<mark class=\"entity\" style=\"background: #ff9900; padding: 0.45em 0.6em; margin: 0 0.25em; line-height: 1; border-radius: 0.35em;\">\n",
              "    Nasonex\n",
              "    <span style=\"font-size: 0.8em; font-weight: bold; line-height: 1; border-radius: 0.35em; vertical-align: middle; margin-left: 0.5rem\">drug</span>\n",
              "</mark>\n",
              " two sprays in each nostril given for three weeks.  A prescription was written as well.</div></span>"
            ]
          },
          "metadata": {}
        }
      ],
      "source": [
        "from spacy import displacy\n",
        "from medkit.text.spacy.displacy_utils import medkit_doc_to_displacy\n",
        "\n",
        "colors = {'weight': \"#85C1E9\", \"number\": \"#ff6961\", \"drug\":\"#ff9900\", \"pheno\" : \"#10ad10\"}\n",
        "options = {\"ents\": ['weight', 'number','drug', 'pheno'], \"colors\": colors}\n",
        "\n",
        "displacy_data = medkit_doc_to_displacy(doc)\n",
        "displacy.render(displacy_data, manual=True, jupyter=True, style=\"ent\", options=options)"
      ]
    },
    {
      "cell_type": "markdown",
      "id": "f0a3f8e6-a742-428e-87ea-a0199f31fcbe",
      "metadata": {
        "id": "f0a3f8e6-a742-428e-87ea-a0199f31fcbe"
      },
      "source": [
        "#### Exercice :\n",
        "\n",
        "Modify the code above to also capture synonymes of phenotypes."
      ]
    },
    {
      "cell_type": "markdown",
      "id": "930e06de-c548-4ec0-b560-26557a59a2b3",
      "metadata": {
        "id": "930e06de-c548-4ec0-b560-26557a59a2b3"
      },
      "source": [
        "## Extracting entities using neural networks (transformers)"
      ]
    },
    {
      "cell_type": "markdown",
      "id": "bfebbcdb-e13f-4a92-a942-8622000f8e90",
      "metadata": {
        "id": "bfebbcdb-e13f-4a92-a942-8622000f8e90"
      },
      "source": [
        "We will be using a model from the Huggingface repository (https://huggingface.co/d4data/biomedical-ner-all)"
      ]
    },
    {
      "cell_type": "code",
      "execution_count": null,
      "id": "02d89386-aeca-4d09-8711-a010c6a2a32b",
      "metadata": {
        "colab": {
          "base_uri": "https://localhost:8080/",
          "height": 316,
          "referenced_widgets": [
            "2b02e757f0ac4a0b8f9033bcf8a8dec1",
            "df4e3d23055f4336bf56cb1d6d3270af",
            "80a541310c814fb6aa9d6de53509f314",
            "463b28fbedd942e0bd9a8a63506f5d7a",
            "330a6b711e044a018a783b357fe3fd8b",
            "44854ffe799a41b3a6f975db1d557b8b",
            "39ba4390587b4080aa16c0a693916671",
            "1596dec5bb7b4317b2d232e753c693fa",
            "2d76faa8bb7544d8806bab8c819928a2",
            "2697bd264ddd4d7a984c8c89ccb593cd",
            "74572c8ccbe34f659327df1c0386698b",
            "405cc249894a4c09bc1b86da8837344b",
            "6306130279d94e63af2a8c1365568242",
            "0b18eb7075e44b358d73c0c6a58843ad",
            "4eec402bcfb74004a68565745f98acba",
            "fb3273496c8345c5b12515d4a6bb028a",
            "18989cb6edf34256b97ec615254e8bdd",
            "692fddbdab7b47beb93126fbdc713be3",
            "549a8ff832ec44f9b6dee5d6894fd945",
            "65fd4c3720ac458a9b802f1b96ee22bf",
            "f8104962727840158a3d3921b901ad36",
            "28e059e93da94062baa8604002c02390",
            "3eabc82cceb1482986a1f43ec74dcbde",
            "431147fa9d6946c68d91f0c5ab984a60",
            "b954cc9ea6d144d7811af432d4bba340",
            "3455e202cbf2497089c123e187cd8194",
            "fe3f5449664649a5ad30d8f8807e82d1",
            "1cf7e03ece354cbca9fcee69b4f3c6bb",
            "ae21134cc99a4c16aff5073f8d23feb9",
            "24b8222b10504850a72f5a2c69015819",
            "f627b4140bf448eea96a1d47fd26311a",
            "1a16597bd83549949a9aa4081b64545b",
            "5dc16c3f975145e0ad11f8ba4d487815",
            "e3c064710e6d49679dc816655c0f0ec4",
            "f1542ffb5de14835bff753c084ecbef7",
            "36925c8971a34fcb81edf0e5bb60fc8e",
            "65fd0ab9853d469c9f3d0b83981623c5",
            "607f809ed0014ea1a62bdb955d6e24b6",
            "ba2567aa34ba469fbf211145982e4c80",
            "9795f0e72cfc4dc9bbc01022df2a4e4e",
            "bab0726a0ba54890a2b224bf8013412f",
            "7ee8be36f10046d986255e30a2e79a69",
            "966667bb15c8435c89e90f0d0b682481",
            "e6120dc1592040928c6db76199c84bcc",
            "92b73e2398974af0acf1f775254317b2",
            "8f243c9af0094ac899eb723d72cf7abd",
            "540c200e049e4c9b9f71f97297fc69cd",
            "9855acf96f0743d393a98eeb180e7330",
            "38a6dca70e854c7cac49680b06610979",
            "b30e87e8e36c4293aa25839afe68ed92",
            "cae203023e024fd0b8b4bc7794933420",
            "c0c485ebc4594f63ae1950caf4502f8f",
            "b4fb4628f8964e47b9610ca528a154be",
            "ce8f40fa824b4cdaa95e6f9386b20185",
            "010ae29372604de1be646930ea242404",
            "0caf68f3249047af85c9b770ff519c91",
            "bb13348293994745859629dbee819b60",
            "a9ebb956584d459a9cda6d58a0cba7d4",
            "89cade19f63143b4b851b5336a636ea4",
            "5b562ba9b5924145bdaf259705d1c422",
            "106597270e20463e8e439dafa27d574e",
            "65a7adba431c4c2083adf39ca2e3a12a",
            "cc259b6ed18849a18fc4ec32b761f791",
            "1f7ce93fd4a14bdfba10329200b64367",
            "7b9643f8388e410db5b7f1b71332c747",
            "badee212aa5347eba2f254345da25110"
          ]
        },
        "id": "02d89386-aeca-4d09-8711-a010c6a2a32b",
        "outputId": "f1d5c715-ef52-4cee-fe26-2bcf0d57475e"
      },
      "outputs": [
        {
          "output_type": "stream",
          "name": "stderr",
          "text": [
            "/usr/local/lib/python3.10/dist-packages/huggingface_hub/utils/_token.py:72: UserWarning: \n",
            "The secret `HF_TOKEN` does not exist in your Colab secrets.\n",
            "To authenticate with the Hugging Face Hub, create a token in your settings tab (https://huggingface.co/settings/tokens), set it as secret in your Google Colab and restart your session.\n",
            "You will be able to reuse this secret in all of your notebooks.\n",
            "Please note that authentication is recommended but still optional to access public models or datasets.\n",
            "  warnings.warn(\n"
          ]
        },
        {
          "output_type": "display_data",
          "data": {
            "text/plain": [
              "config.json:   0%|          | 0.00/5.00k [00:00<?, ?B/s]"
            ],
            "application/vnd.jupyter.widget-view+json": {
              "version_major": 2,
              "version_minor": 0,
              "model_id": "2b02e757f0ac4a0b8f9033bcf8a8dec1"
            }
          },
          "metadata": {}
        },
        {
          "output_type": "display_data",
          "data": {
            "text/plain": [
              "model.safetensors:   0%|          | 0.00/266M [00:00<?, ?B/s]"
            ],
            "application/vnd.jupyter.widget-view+json": {
              "version_major": 2,
              "version_minor": 0,
              "model_id": "405cc249894a4c09bc1b86da8837344b"
            }
          },
          "metadata": {}
        },
        {
          "output_type": "display_data",
          "data": {
            "text/plain": [
              "tokenizer_config.json:   0%|          | 0.00/373 [00:00<?, ?B/s]"
            ],
            "application/vnd.jupyter.widget-view+json": {
              "version_major": 2,
              "version_minor": 0,
              "model_id": "3eabc82cceb1482986a1f43ec74dcbde"
            }
          },
          "metadata": {}
        },
        {
          "output_type": "display_data",
          "data": {
            "text/plain": [
              "vocab.txt:   0%|          | 0.00/232k [00:00<?, ?B/s]"
            ],
            "application/vnd.jupyter.widget-view+json": {
              "version_major": 2,
              "version_minor": 0,
              "model_id": "e3c064710e6d49679dc816655c0f0ec4"
            }
          },
          "metadata": {}
        },
        {
          "output_type": "display_data",
          "data": {
            "text/plain": [
              "tokenizer.json:   0%|          | 0.00/711k [00:00<?, ?B/s]"
            ],
            "application/vnd.jupyter.widget-view+json": {
              "version_major": 2,
              "version_minor": 0,
              "model_id": "92b73e2398974af0acf1f775254317b2"
            }
          },
          "metadata": {}
        },
        {
          "output_type": "display_data",
          "data": {
            "text/plain": [
              "special_tokens_map.json:   0%|          | 0.00/125 [00:00<?, ?B/s]"
            ],
            "application/vnd.jupyter.widget-view+json": {
              "version_major": 2,
              "version_minor": 0,
              "model_id": "0caf68f3249047af85c9b770ff519c91"
            }
          },
          "metadata": {}
        }
      ],
      "source": [
        "from medkit.text.ner.hf_entity_matcher import HFEntityMatcher\n",
        "\n",
        "matcher = HFEntityMatcher(model=\"d4data/biomedical-ner-all\")\n",
        "# https://huggingface.co/d4data/biomedical-ner-all"
      ]
    },
    {
      "cell_type": "code",
      "execution_count": null,
      "id": "9bed1704-0c04-4507-af60-28de1d4425f0",
      "metadata": {
        "colab": {
          "base_uri": "https://localhost:8080/"
        },
        "id": "9bed1704-0c04-4507-af60-28de1d4425f0",
        "outputId": "2fca8270-92e7-440d-8b41-23f591984de7"
      },
      "outputs": [
        {
          "output_type": "stream",
          "name": "stdout",
          "text": [
            "text='23-year-old', spans=[Span(start=19, end=30)], label=Age\n",
            "text='white', spans=[Span(start=31, end=36)], label=Personal_background\n",
            "text='female', spans=[Span(start=37, end=43)], label=Sex\n",
            "text='presents', spans=[Span(start=44, end=52)], label=Clinical_event\n",
            "text='allergies', spans=[Span(start=100, end=109)], label=Disease_disorder\n",
            "text='Seattle', spans=[Span(start=128, end=135)], label=Nonbiological_location\n",
            "text='summer', spans=[Span(start=337, end=343)], label=Duration\n",
            "text='two', spans=[Span(start=373, end=376)], label=Duration\n",
            "text='over', spans=[Span(start=447, end=451)], label=Detailed_description\n",
            "text='counter', spans=[Span(start=456, end=463)], label=Detailed_description\n",
            "text='asthma', spans=[Span(start=520, end=526)], label=History\n",
            "text='medication', spans=[Span(start=555, end=565)], label=Medication\n",
            "text='Ortho Tri-Cyclen', spans=[Span(start=660, end=676)], label=Medication\n",
            "text='Vitals', spans=[Span(start=755, end=761)], label=Diagnostic_procedure\n",
            "text='Weight', spans=[Span(start=764, end=770)], label=Diagnostic_procedure\n",
            "text='130 pounds', spans=[Span(start=775, end=785)], label=Lab_value\n",
            "text='blood pressure', spans=[Span(start=790, end=804)], label=Diagnostic_procedure\n",
            "text='124', spans=[Span(start=805, end=808)], label=Lab_value\n",
            "text='throat', spans=[Span(start=825, end=831)], label=Biological_structure\n",
            "text='erythematous', spans=[Span(start=843, end=855)], label=Sign_symptom\n",
            "text='Nasal mucosa', spans=[Span(start=874, end=886)], label=Biological_structure\n",
            "text='erythematous', spans=[Span(start=891, end=903)], label=Sign_symptom\n",
            "text='TMs', spans=[Span(start=949, end=952)], label=Diagnostic_procedure\n",
            "text='Neck', spans=[Span(start=965, end=969)], label=Biological_structure\n",
            "text='Nasonex', spans=[Span(start=1237, end=1244)], label=Medication\n",
            "text='each nostril', spans=[Span(start=1259, end=1271)], label=Biological_structure\n"
          ]
        }
      ],
      "source": [
        "# detect entities in the raw segment\n",
        "detected_entities = matcher.run([doc.raw_segment])\n",
        "for entity in detected_entities:\n",
        "    print(f\"text={entity.text!r}, spans={entity.spans}, label={entity.label}\")"
      ]
    },
    {
      "cell_type": "markdown",
      "id": "dda07b5d-61af-48d0-af2f-215cbce764ca",
      "metadata": {
        "id": "dda07b5d-61af-48d0-af2f-215cbce764ca"
      },
      "source": [
        "Let's visualize only the Sign and symptomes"
      ]
    },
    {
      "cell_type": "code",
      "execution_count": null,
      "id": "0167fcec-2daf-465b-a901-aeedce7862a1",
      "metadata": {
        "id": "0167fcec-2daf-465b-a901-aeedce7862a1"
      },
      "outputs": [],
      "source": [
        "wanted_labels = ['Sign_symptom', 'Biological_structure', 'Sex', 'History', 'Disease_disorder']\n",
        "for entity in detected_entities:\n",
        "    if entity.label in wanted_labels:\n",
        "        doc.anns.add(entity)"
      ]
    },
    {
      "cell_type": "code",
      "execution_count": null,
      "id": "141856f7-95c0-4bfc-92e3-6a7528177e21",
      "metadata": {
        "colab": {
          "base_uri": "https://localhost:8080/",
          "height": 297
        },
        "id": "141856f7-95c0-4bfc-92e3-6a7528177e21",
        "outputId": "5632cd25-9ec1-4f19-de17-d42b3a549e1c"
      },
      "outputs": [
        {
          "output_type": "display_data",
          "data": {
            "text/plain": [
              "<IPython.core.display.HTML object>"
            ],
            "text/html": [
              "<span class=\"tex2jax_ignore\"><div class=\"entities\" style=\"line-height: 2.5; direction: ltr\">SUBJECTIVE:,  This \n",
              "<mark class=\"entity\" style=\"background: #ff6961; padding: 0.45em 0.6em; margin: 0 0.25em; line-height: 1; border-radius: 0.35em;\">\n",
              "    23\n",
              "    <span style=\"font-size: 0.8em; font-weight: bold; line-height: 1; border-radius: 0.35em; vertical-align: middle; margin-left: 0.5rem\">number</span>\n",
              "</mark>\n",
              "-year-old white female presents with complaint of allergies.  She used to have allergies when she lived in Seattle but she thinks they are worse here.  In the past, she has tried \n",
              "<mark class=\"entity\" style=\"background: #ff9900; padding: 0.45em 0.6em; margin: 0 0.25em; line-height: 1; border-radius: 0.35em;\">\n",
              "    Claritin\n",
              "    <span style=\"font-size: 0.8em; font-weight: bold; line-height: 1; border-radius: 0.35em; vertical-align: middle; margin-left: 0.5rem\">drug</span>\n",
              "</mark>\n",
              ", and \n",
              "<mark class=\"entity\" style=\"background: #ff9900; padding: 0.45em 0.6em; margin: 0 0.25em; line-height: 1; border-radius: 0.35em;\">\n",
              "    Zyrtec\n",
              "    <span style=\"font-size: 0.8em; font-weight: bold; line-height: 1; border-radius: 0.35em; vertical-align: middle; margin-left: 0.5rem\">drug</span>\n",
              "</mark>\n",
              ".  Both worked for short time but then seemed to lose effectiveness.  She has used \n",
              "<mark class=\"entity\" style=\"background: #ff9900; padding: 0.45em 0.6em; margin: 0 0.25em; line-height: 1; border-radius: 0.35em;\">\n",
              "    Allegra\n",
              "    <span style=\"font-size: 0.8em; font-weight: bold; line-height: 1; border-radius: 0.35em; vertical-align: middle; margin-left: 0.5rem\">drug</span>\n",
              "</mark>\n",
              " also.  She used that last summer and she began using it again two weeks ago.  It does not appear to be working very well.  She has used over-the-counter sprays but no prescription nasal sprays.  She does have \n",
              "<mark class=\"entity\" style=\"background: #10ad10; padding: 0.45em 0.6em; margin: 0 0.25em; line-height: 1; border-radius: 0.35em;\">\n",
              "    asthma\n",
              "    <span style=\"font-size: 0.8em; font-weight: bold; line-height: 1; border-radius: 0.35em; vertical-align: middle; margin-left: 0.5rem\">pheno</span>\n",
              "</mark>\n",
              "asthma but doest not require daily medication for this and does not think it is flaring up.,MEDICATIONS: , Her only medication currently is \n",
              "<mark class=\"entity\" style=\"background: #ff9900; padding: 0.45em 0.6em; margin: 0 0.25em; line-height: 1; border-radius: 0.35em;\">\n",
              "    Ortho Tri-Cyclen\n",
              "    <span style=\"font-size: 0.8em; font-weight: bold; line-height: 1; border-radius: 0.35em; vertical-align: middle; margin-left: 0.5rem\">drug</span>\n",
              "</mark>\n",
              " and the \n",
              "<mark class=\"entity\" style=\"background: #ff9900; padding: 0.45em 0.6em; margin: 0 0.25em; line-height: 1; border-radius: 0.35em;\">\n",
              "    Allegra\n",
              "    <span style=\"font-size: 0.8em; font-weight: bold; line-height: 1; border-radius: 0.35em; vertical-align: middle; margin-left: 0.5rem\">drug</span>\n",
              "</mark>\n",
              ".,ALLERGIES: , She has no known medicine allergies.,OBJECTIVE:,Vitals:  Weight was \n",
              "<mark class=\"entity\" style=\"background: #ff6961; padding: 0.45em 0.6em; margin: 0 0.25em; line-height: 1; border-radius: 0.35em;\">\n",
              "    130\n",
              "    <span style=\"font-size: 0.8em; font-weight: bold; line-height: 1; border-radius: 0.35em; vertical-align: middle; margin-left: 0.5rem\">number</span>\n",
              "</mark>\n",
              "\n",
              "<mark class=\"entity\" style=\"background: #85C1E9; padding: 0.45em 0.6em; margin: 0 0.25em; line-height: 1; border-radius: 0.35em;\">\n",
              "    130 pounds\n",
              "    <span style=\"font-size: 0.8em; font-weight: bold; line-height: 1; border-radius: 0.35em; vertical-align: middle; margin-left: 0.5rem\">weight</span>\n",
              "</mark>\n",
              " and blood pressure \n",
              "<mark class=\"entity\" style=\"background: #ff6961; padding: 0.45em 0.6em; margin: 0 0.25em; line-height: 1; border-radius: 0.35em;\">\n",
              "    124\n",
              "    <span style=\"font-size: 0.8em; font-weight: bold; line-height: 1; border-radius: 0.35em; vertical-align: middle; margin-left: 0.5rem\">number</span>\n",
              "</mark>\n",
              "/\n",
              "<mark class=\"entity\" style=\"background: #ff6961; padding: 0.45em 0.6em; margin: 0 0.25em; line-height: 1; border-radius: 0.35em;\">\n",
              "    78\n",
              "    <span style=\"font-size: 0.8em; font-weight: bold; line-height: 1; border-radius: 0.35em; vertical-align: middle; margin-left: 0.5rem\">number</span>\n",
              "</mark>\n",
              ".,HEENT:  Her \n",
              "<mark class=\"entity\" style=\"background: #dcdcdc; padding: 0.45em 0.6em; margin: 0 0.25em; line-height: 1; border-radius: 0.35em;\">\n",
              "    throat\n",
              "    <span style=\"font-size: 0.8em; font-weight: bold; line-height: 1; border-radius: 0.35em; vertical-align: middle; margin-left: 0.5rem\">Biological_structure</span>\n",
              "</mark>\n",
              " was mildly \n",
              "<mark class=\"entity\" style=\"background: #0281fa; padding: 0.45em 0.6em; margin: 0 0.25em; line-height: 1; border-radius: 0.35em;\">\n",
              "    erythematous\n",
              "    <span style=\"font-size: 0.8em; font-weight: bold; line-height: 1; border-radius: 0.35em; vertical-align: middle; margin-left: 0.5rem\">Sign_symptom</span>\n",
              "</mark>\n",
              " without exudate.  \n",
              "<mark class=\"entity\" style=\"background: #dcdcdc; padding: 0.45em 0.6em; margin: 0 0.25em; line-height: 1; border-radius: 0.35em;\">\n",
              "    Nasal mucosa\n",
              "    <span style=\"font-size: 0.8em; font-weight: bold; line-height: 1; border-radius: 0.35em; vertical-align: middle; margin-left: 0.5rem\">Biological_structure</span>\n",
              "</mark>\n",
              " was \n",
              "<mark class=\"entity\" style=\"background: #0281fa; padding: 0.45em 0.6em; margin: 0 0.25em; line-height: 1; border-radius: 0.35em;\">\n",
              "    erythematous\n",
              "    <span style=\"font-size: 0.8em; font-weight: bold; line-height: 1; border-radius: 0.35em; vertical-align: middle; margin-left: 0.5rem\">Sign_symptom</span>\n",
              "</mark>\n",
              " and swollen.  Only clear drainage was seen.  TMs were clear.,\n",
              "<mark class=\"entity\" style=\"background: #dcdcdc; padding: 0.45em 0.6em; margin: 0 0.25em; line-height: 1; border-radius: 0.35em;\">\n",
              "    Neck\n",
              "    <span style=\"font-size: 0.8em; font-weight: bold; line-height: 1; border-radius: 0.35em; vertical-align: middle; margin-left: 0.5rem\">Biological_structure</span>\n",
              "</mark>\n",
              ":  Supple without adenopathy.,Lungs:  Clear.,ASSESSMENT:,  \n",
              "<mark class=\"entity\" style=\"background: #10ad10; padding: 0.45em 0.6em; margin: 0 0.25em; line-height: 1; border-radius: 0.35em;\">\n",
              "    Allergic rhinitis\n",
              "    <span style=\"font-size: 0.8em; font-weight: bold; line-height: 1; border-radius: 0.35em; vertical-align: middle; margin-left: 0.5rem\">pheno</span>\n",
              "</mark>\n",
              ".,PLAN:,\n",
              "<mark class=\"entity\" style=\"background: #ff6961; padding: 0.45em 0.6em; margin: 0 0.25em; line-height: 1; border-radius: 0.35em;\">\n",
              "    1\n",
              "    <span style=\"font-size: 0.8em; font-weight: bold; line-height: 1; border-radius: 0.35em; vertical-align: middle; margin-left: 0.5rem\">number</span>\n",
              "</mark>\n",
              ".  She will try \n",
              "<mark class=\"entity\" style=\"background: #ff9900; padding: 0.45em 0.6em; margin: 0 0.25em; line-height: 1; border-radius: 0.35em;\">\n",
              "    Zyrtec\n",
              "    <span style=\"font-size: 0.8em; font-weight: bold; line-height: 1; border-radius: 0.35em; vertical-align: middle; margin-left: 0.5rem\">drug</span>\n",
              "</mark>\n",
              " instead of \n",
              "<mark class=\"entity\" style=\"background: #ff9900; padding: 0.45em 0.6em; margin: 0 0.25em; line-height: 1; border-radius: 0.35em;\">\n",
              "    Allegra\n",
              "    <span style=\"font-size: 0.8em; font-weight: bold; line-height: 1; border-radius: 0.35em; vertical-align: middle; margin-left: 0.5rem\">drug</span>\n",
              "</mark>\n",
              " again.  Another option will be to use \n",
              "<mark class=\"entity\" style=\"background: #ff9900; padding: 0.45em 0.6em; margin: 0 0.25em; line-height: 1; border-radius: 0.35em;\">\n",
              "    loratadine\n",
              "    <span style=\"font-size: 0.8em; font-weight: bold; line-height: 1; border-radius: 0.35em; vertical-align: middle; margin-left: 0.5rem\">drug</span>\n",
              "</mark>\n",
              ".  She does not think she has prescription coverage so that might be cheaper.,\n",
              "<mark class=\"entity\" style=\"background: #ff6961; padding: 0.45em 0.6em; margin: 0 0.25em; line-height: 1; border-radius: 0.35em;\">\n",
              "    2\n",
              "    <span style=\"font-size: 0.8em; font-weight: bold; line-height: 1; border-radius: 0.35em; vertical-align: middle; margin-left: 0.5rem\">number</span>\n",
              "</mark>\n",
              "\n",
              "<mark class=\"entity\" style=\"background: #10ad10; padding: 0.45em 0.6em; margin: 0 0.25em; line-height: 1; border-radius: 0.35em;\">\n",
              "    2\n",
              "    <span style=\"font-size: 0.8em; font-weight: bold; line-height: 1; border-radius: 0.35em; vertical-align: middle; margin-left: 0.5rem\">pheno</span>\n",
              "</mark>\n",
              ".  Samples of \n",
              "<mark class=\"entity\" style=\"background: #ff9900; padding: 0.45em 0.6em; margin: 0 0.25em; line-height: 1; border-radius: 0.35em;\">\n",
              "    Nasonex\n",
              "    <span style=\"font-size: 0.8em; font-weight: bold; line-height: 1; border-radius: 0.35em; vertical-align: middle; margin-left: 0.5rem\">drug</span>\n",
              "</mark>\n",
              " two sprays in \n",
              "<mark class=\"entity\" style=\"background: #dcdcdc; padding: 0.45em 0.6em; margin: 0 0.25em; line-height: 1; border-radius: 0.35em;\">\n",
              "    each nostril\n",
              "    <span style=\"font-size: 0.8em; font-weight: bold; line-height: 1; border-radius: 0.35em; vertical-align: middle; margin-left: 0.5rem\">Biological_structure</span>\n",
              "</mark>\n",
              " given for three weeks.  A prescription was written as well.</div></span>"
            ]
          },
          "metadata": {}
        }
      ],
      "source": [
        "from spacy import displacy\n",
        "from medkit.text.spacy.displacy_utils import medkit_doc_to_displacy\n",
        "\n",
        "colors = {'weight': \"#85C1E9\", \"number\": \"#ff6961\", \"drug\":\"#ff9900\",\n",
        "          \"pheno\" : \"#10ad10\", \"Sign_symptom\" : \"#0281fa\",\n",
        "         \"Biological_structure\" : \"#dcdcdc\"}\n",
        "options = {\"ents\": ['weight', 'number','drug', 'pheno','Sign_symptom','Biological_structure'], \"colors\": colors}\n",
        "\n",
        "displacy_data = medkit_doc_to_displacy(doc)\n",
        "displacy.render(displacy_data, manual=True, jupyter=True, style=\"ent\", options=options)"
      ]
    },
    {
      "cell_type": "markdown",
      "id": "cf98f7a0-0a95-48d3-b073-a4236c417ac4",
      "metadata": {
        "id": "cf98f7a0-0a95-48d3-b073-a4236c417ac4"
      },
      "source": [
        "#### Exercice :\n",
        "\n",
        "Add the entities of the class Sex, History and Disease_disorder as annotations to the document, and print them."
      ]
    },
    {
      "cell_type": "markdown",
      "id": "eb4136aa-6885-4fb8-b8b4-94cacd158ee8",
      "metadata": {
        "id": "eb4136aa-6885-4fb8-b8b4-94cacd158ee8"
      },
      "source": [
        "# Annotation all the documents"
      ]
    },
    {
      "cell_type": "markdown",
      "id": "b6a1e2e3-e595-4aad-9eb9-935e5a8515ef",
      "metadata": {
        "id": "b6a1e2e3-e595-4aad-9eb9-935e5a8515ef"
      },
      "source": [
        "**Task 1**: identify the most frequent drugs"
      ]
    },
    {
      "cell_type": "code",
      "execution_count": null,
      "id": "1a24ef29-4270-4475-bb4d-043d7bb00c18",
      "metadata": {
        "id": "1a24ef29-4270-4475-bb4d-043d7bb00c18"
      },
      "outputs": [],
      "source": [
        "import pandas as pd\n",
        "docs = pd.read_csv('01_data/mtsamples.csv')"
      ]
    },
    {
      "cell_type": "code",
      "execution_count": null,
      "id": "9c7e7b7f-97dc-4d46-a2ec-1f3c63a88f05",
      "metadata": {
        "id": "9c7e7b7f-97dc-4d46-a2ec-1f3c63a88f05"
      },
      "outputs": [],
      "source": [
        "annotated_documents = []\n",
        "#for i in range(0,len(docs)):\n",
        "for i in range(0,10):\n",
        "    doc = TextDocument(text=str(docs.iloc[i]['transcription']))\n",
        "    annotated_documents.append(doc)\n",
        "    entities = iam_matcher.run([doc.raw_segment])\n",
        "    for entity in entities:\n",
        "        doc.anns.add(entity)"
      ]
    },
    {
      "cell_type": "markdown",
      "id": "250e743a-8a10-4091-b229-4241f89fabdd",
      "metadata": {
        "id": "250e743a-8a10-4091-b229-4241f89fabdd"
      },
      "source": [
        "# Plotting all weights"
      ]
    },
    {
      "cell_type": "markdown",
      "id": "15b51e7f-666b-42e3-bb6c-5bc9098547cf",
      "metadata": {
        "id": "15b51e7f-666b-42e3-bb6c-5bc9098547cf"
      },
      "source": [
        "**Task2:** Extract all weight from the corpus"
      ]
    },
    {
      "cell_type": "code",
      "execution_count": null,
      "id": "aca5acdd-3f1f-4963-967c-74fde080ad04",
      "metadata": {
        "id": "aca5acdd-3f1f-4963-967c-74fde080ad04"
      },
      "outputs": [],
      "source": [
        "import pandas as pd\n",
        "import unicodedata\n",
        "import unidecode\n",
        "\n",
        "from medkit.text.ner import RegexpMatcher, RegexpMatcherRule\n",
        "from medkit.core.text import TextDocument\n",
        "from medkit.core.text import Segment, Span\n",
        "# from medkit.text.preprocessing import Normalizer, NormalizerRule\n",
        "from medkit.text.preprocessing import CharReplacer\n",
        "from medkit.text.preprocessing import (\n",
        "    CharReplacer,\n",
        "    LIGATURE_RULES,\n",
        "    SIGN_RULES,\n",
        "    SPACE_RULES,\n",
        "    DOT_RULES,\n",
        "    FRACTION_RULES,\n",
        "    QUOTATION_RULES,\n",
        ")\n",
        "\n",
        "characters_to_normalize = \"\"\"''', 'é', 'â', '\\xa0', 'à', 'è', 'ô', 'ê', 'À', 'µ', '➢', '–', '°', 'Œ', '�', '½', 'œ', 'ç', '…', 'Ï', '¼', 'ï', '²', 'É', '•', 'ë', 'û', '¾', 'ù', ':black_small_square:', 'î', '—', '«', '»', '®', '¿', 'Ô', '≥', '¤', '³', 'Í', 'Î', 'å', 'ð', 'ñ', 'ò', '÷', 'ø', 'Ó', 'Å', '‡', 'Š', '■', '⇨', ''', 'β', '\\u2002', 'ü', '„', 'ì', 'Û', 'Ç', '¹', 'ž', 'ú', '□', '●', '´', '¶', 'ö', 'Þ', 'Ò', 'Æ', 'Ë', '¡', 'õ', 'ä', 'Ù', 'Ã', '¨', 'š', 'Ú', '✓', '←', 'Ê', 'α', '§', '©', '·', '¸', '×', 'Ø', 'Ì', '™', 'È', 'μ', '−', '◙', 'Δ', 'ª', 'Â', '→', '£', '¦', '≈', 'ó', 'æ', '❖', 'Ö', 'ˆ', '‰', 'Ž', '±', 'Ý', '‚', '›', '¬', 'ß', 'ý', 'þ', 'ÿ', 'Õ', 'Ñ', '¢', '⋄', '€', '˜', '¯', 'í', 'á', 'Ü', 'º', '†', '‹', '\\u0600', 'ࠂ', 'ࠄ', '࠘', '࠺', '࠼', 'ࡌ', 'ࡎ', 'ࡘ', '\\u086c', '\\u086e', '\\u0874', '\\u08c8', 'ࣔ', 'ࣖ', 'ࣺ', 'ं', 'ऐ', 'ऒ', 'द', 'न', 'प', 'ऴ', 'श', 'स', 'ऺ', '॒', '॔', 'ॶ', 'ॸ', 'ॺ', 'জ', 'ল', '\\ueaee', '\\uead5', '\\uead1', '싌', 'ꮶ', 'ꮢ', '鎶', '膫', '沓', '뚓', '屡', '퇪', '\\uea5c', '呜', 'ᘎ', '써', '䥳', '洀', 'ፈ', '猄', 'ᘉ', '㸀', 'Ī', 'ᘔ', '㔀', '脈', '䩃', '\\u085c', '憁', '\\u1c4a', '̨', 'ᘀ', '쉨', '띱', 'ࡕ', '封', '䩡', '䡭', 'Ѐ', '䡮', '\\u0875', 'ȣ', '樃', 'ࠆ', 'ᘁ', '̝', 'ᘐ', 'ᡊ', 'ᘗ', '⨾', '䌁', '尀', 'ᘓ', '⁊', '㥉', '㥊', '㨀', '㨊', '㨌', '㨔', '㨖', '㨪', '㨬', '㨮', '㨸', '㨺', '㩪', '㩬', '㩴', '㩶', '㪦', '㪨', '㫄', '㬖', '㬜', '㭆', '㭈', '㭊', '㭎', '㭐', '㭚', '㭾', '㮔', '㮴', '㮶', '㮸', '㮺', '㮼', '㯀', '㯂', '㯆', '㯈', '㯌', '㯎', '㯪', '㯮', '겾', '짞', '뻞', '뺤', '뺜', '뺍', '뺅', '群', '獷', 'ᘆ', 'ᡨ', '䘕', 'ཨ', '理', '̏', '唀', 'Ĉ', 'ᘊ', '䌀', '䉨', '츁', 'ᙊ', '愀', 'ᔜ', '票', '瀉', '㕨', '騜', '伀', '͊', '儀', '덨', '렐', '˅', 'ᔁ', '뽨', '罹', 'ᔔ', 'ᔀ', 'ɍ', '\"', '\"', 'Ä', 'ƒ', 'ã', 'Ÿ', '¥', '彟', 'ഠ', '\\u200d', '䕒', '乁', '䵉', '呁', '佉', '⁎', '䕍', '䥄', '䅃', '䕌', '\\u0d0d', '桃', '晥', '搠', '\\u2065', '敓', '癲', '捩', '\\u0d65', '倠', '\\u2e72', '䨠', '慥', '\\u2d6e', '癙', '獥', '䘠', '䝁', '乏', '吠', '泩', '烩', '潨', '敮', '㨠', '〠', '‱', '㘵', '㈳', 'റ', '摁', '潪', '湩', '獴', '牐', '\\u202e', '敊', '湡', '䰭', '捵', '䐠', '䕉', '䱈', '\\ue954', '\\ue96c', '桰', '湯', '\\u3130', '㔠', '‶', '㤰', '㌠', '′', '㌱', '牄', '浅', '慭', '畮', '汥', '䜠', '䕕', '佒', 'ൔ', 'ㄠ', 'ല', '䄠', '慮', '丠', '噏', '剁', 'ു', '䌠', '牨', '獩', '潴', '䅆', '卉', '൙', '㈠', 'ര', '\\u2073', '敤', 'Á', '\\xad', 'ࢲ', '࣪', '࣬', '࣭', '࣮', 'ऀ', 'ऍ', 'ऎ', 'ग', 'ङ', 'ड', 'ण', 'थ', 'ू', 'ॉ', '॓', 'ॗ', 'फ़', 'ॠ', '२', '३', '७', 'ॱ', 'ॳ', 'ॼ', 'ং', 'র', 'া', '\\u09d9', 'ਃ', 'ਆ', 'ਇ', 'ਚ', 'ਛ', 'ਤ', 'ਥ', '\\u0a31', 'ਲ', 'ਸ਼', '\\u0a37', '\\u0a4e', 'ધ', 'ુ', '\\ue7f5', '싍', 'ꮷ', 'ꏵ', '貗', '貣', '碁', 'ᘑ', 'ɨ', '湽', '瑨', '쑞', 'ᔗ', '歨'\"\"\"\n",
        "\n",
        "normalized_rules = []\n",
        "for ch in characters_to_normalize:\n",
        "    if len(ch) != len(unidecode.unidecode(ch)):\n",
        "        #normalized_rules.append(NormalizerRule(ch, unidecode.unidecode(ch)))\n",
        "        normalized_rules.append([ch, unidecode.unidecode(ch)])\n",
        "\n",
        "#normalized_rules_set = [*default_rules, *normalized_rules]\n",
        "rules = (\n",
        "    LIGATURE_RULES\n",
        "    + SIGN_RULES\n",
        "    + SPACE_RULES\n",
        "    + DOT_RULES\n",
        "    + FRACTION_RULES\n",
        "    + QUOTATION_RULES\n",
        "    + normalized_rules\n",
        ")\n",
        "\n",
        "#preprocessing_op  = Normalizer(output_label=\"clean_segment\", rules=normalized_rules_set)\n",
        "# preprocessing_op  = Normalizer(output_label=\"clean_segment\", rules=default_rules)\n",
        "preprocessing_char_op = CharReplacer(output_label=\"clean_segment\", rules=rules)\n",
        "\n",
        "regexp_rules = [\n",
        "    RegexpMatcherRule(regexp=r\"### Complete the REGEX here #######\", label=\"weight\"),\n",
        "    #RegexpMatcherRule(regexp=r\"[0-9]+\", label=\"number\"), # change this rule to detect blood pressure (the form is usually 120/80\n",
        "    # copy the model to add a rule to identify the size and the BMI\n",
        "]\n",
        "regexp_matcher = RegexpMatcher(rules=regexp_rules)\n",
        "\n",
        "annotated_documents_regex = []\n",
        "\n",
        "### Complete the code below\n",
        "\n",
        "docs = pd.read_csv('01_data/mtsamples.csv')\n",
        "\n",
        "for i in range(0,len(docs)):\n",
        "    doc = TextDocument(text=str(docs.iloc[i]['transcription']))\n",
        "    annotated_documents.append(doc)\n",
        "    normalized = preprocessing_char_op.run([doc.raw_segment])\n",
        "    entities = regexp_matcher.run(normalized)\n",
        "    for entity in entities:\n",
        "        doc.anns.add(entity)"
      ]
    },
    {
      "cell_type": "code",
      "source": [
        "weight_df = pd.DataFrame(columns=['weight'])\n",
        "for document in annotated_documents:\n",
        "    entities = document.anns.get(label=\"weight\")\n",
        "    for e in entities:\n",
        "        #print(e.text)\n",
        "        elts = e.text.split(\" \")\n",
        "        value = elts[0]\n",
        "        unit = elts[1]\n",
        "        if unit.lower()==\"pounds\":\n",
        "            value = float(value) * 0.453592\n",
        "        row = {\"weight\": value}\n",
        "        weight_df.loc[len(weight_df)] = row"
      ],
      "metadata": {
        "id": "3KRUBFKPqqls"
      },
      "id": "3KRUBFKPqqls",
      "execution_count": null,
      "outputs": []
    },
    {
      "cell_type": "code",
      "source": [
        "import seaborn as sns\n",
        "\n",
        "sns.histplot(data=weight_df, x=\"weight\")"
      ],
      "metadata": {
        "colab": {
          "base_uri": "https://localhost:8080/",
          "height": 448
        },
        "id": "oEVYEzakrDVL",
        "outputId": "9e659932-a97e-4198-a569-eccfee63524a"
      },
      "id": "oEVYEzakrDVL",
      "execution_count": null,
      "outputs": [
        {
          "output_type": "execute_result",
          "data": {
            "text/plain": [
              "<Axes: >"
            ]
          },
          "metadata": {},
          "execution_count": 47
        },
        {
          "output_type": "display_data",
          "data": {
            "text/plain": [
              "<Figure size 640x480 with 1 Axes>"
            ],
            "image/png": "[encoded data removed]"
          },
          "metadata": {}
        }
      ]
    },
    {
      "cell_type": "markdown",
      "id": "ab982be0-045b-4790-8bb0-8d1ec06b707e",
      "metadata": {
        "id": "ab982be0-045b-4790-8bb0-8d1ec06b707e"
      },
      "source": [
        "Normalize all weigth to kilograms (a pound = 0.453592 kg), store all the value in a data structure"
      ]
    },
    {
      "cell_type": "markdown",
      "id": "a264ed3d-0e45-44af-8e86-acfb7159cd0f",
      "metadata": {
        "id": "a264ed3d-0e45-44af-8e86-acfb7159cd0f"
      },
      "source": [
        "Plot the graph of all detected weights"
      ]
    }
  ],
  "metadata": {
    "kernelspec": {
      "display_name": "Python 3.10.8",
      "language": "python",
      "name": "py3.10.8"
    },
    "language_info": {
      "codemirror_mode": {
        "name": "ipython",
        "version": 3
      },
      "file_extension": ".py",
      "mimetype": "text/x-python",
      "name": "python",
      "nbconvert_exporter": "python",
      "pygments_lexer": "ipython3",
      "version": "3.10.8"
    },
    "colab": {
      "provenance": [],
      "gpuType": "T4"
    },
    "accelerator": "GPU",
    "widgets": {
      "application/vnd.jupyter.widget-state+json": {
        "2b02e757f0ac4a0b8f9033bcf8a8dec1": {
          "model_module": "@jupyter-widgets/controls",
          "model_name": "HBoxModel",
          "model_module_version": "1.5.0",
          "state": {
            "_dom_classes": [],
            "_model_module": "@jupyter-widgets/controls",
            "_model_module_version": "1.5.0",
            "_model_name": "HBoxModel",
            "_view_count": null,
            "_view_module": "@jupyter-widgets/controls",
            "_view_module_version": "1.5.0",
            "_view_name": "HBoxView",
            "box_style": "",
            "children": [
              "IPY_MODEL_df4e3d23055f4336bf56cb1d6d3270af",
              "IPY_MODEL_80a541310c814fb6aa9d6de53509f314",
              "IPY_MODEL_463b28fbedd942e0bd9a8a63506f5d7a"
            ],
            "layout": "IPY_MODEL_330a6b711e044a018a783b357fe3fd8b"
          }
        },
        "df4e3d23055f4336bf56cb1d6d3270af": {
          "model_module": "@jupyter-widgets/controls",
          "model_name": "HTMLModel",
          "model_module_version": "1.5.0",
          "state": {
            "_dom_classes": [],
            "_model_module": "@jupyter-widgets/controls",
            "_model_module_version": "1.5.0",
            "_model_name": "HTMLModel",
            "_view_count": null,
            "_view_module": "@jupyter-widgets/controls",
            "_view_module_version": "1.5.0",
            "_view_name": "HTMLView",
            "description": "",
            "description_tooltip": null,
            "layout": "IPY_MODEL_44854ffe799a41b3a6f975db1d557b8b",
            "placeholder": "​",
            "style": "IPY_MODEL_39ba4390587b4080aa16c0a693916671",
            "value": "config.json: 100%"
          }
        },
        "80a541310c814fb6aa9d6de53509f314": {
          "model_module": "@jupyter-widgets/controls",
          "model_name": "FloatProgressModel",
          "model_module_version": "1.5.0",
          "state": {
            "_dom_classes": [],
            "_model_module": "@jupyter-widgets/controls",
            "_model_module_version": "1.5.0",
            "_model_name": "FloatProgressModel",
            "_view_count": null,
            "_view_module": "@jupyter-widgets/controls",
            "_view_module_version": "1.5.0",
            "_view_name": "ProgressView",
            "bar_style": "success",
            "description": "",
            "description_tooltip": null,
            "layout": "IPY_MODEL_1596dec5bb7b4317b2d232e753c693fa",
            "max": 4995,
            "min": 0,
            "orientation": "horizontal",
            "style": "IPY_MODEL_2d76faa8bb7544d8806bab8c819928a2",
            "value": 4995
          }
        },
        "463b28fbedd942e0bd9a8a63506f5d7a": {
          "model_module": "@jupyter-widgets/controls",
          "model_name": "HTMLModel",
          "model_module_version": "1.5.0",
          "state": {
            "_dom_classes": [],
            "_model_module": "@jupyter-widgets/controls",
            "_model_module_version": "1.5.0",
            "_model_name": "HTMLModel",
            "_view_count": null,
            "_view_module": "@jupyter-widgets/controls",
            "_view_module_version": "1.5.0",
            "_view_name": "HTMLView",
            "description": "",
            "description_tooltip": null,
            "layout": "IPY_MODEL_2697bd264ddd4d7a984c8c89ccb593cd",
            "placeholder": "​",
            "style": "IPY_MODEL_74572c8ccbe34f659327df1c0386698b",
            "value": " 5.00k/5.00k [00:00&lt;00:00, 176kB/s]"
          }
        },
        "330a6b711e044a018a783b357fe3fd8b": {
          "model_module": "@jupyter-widgets/base",
          "model_name": "LayoutModel",
          "model_module_version": "1.2.0",
          "state": {
            "_model_module": "@jupyter-widgets/base",
            "_model_module_version": "1.2.0",
            "_model_name": "LayoutModel",
            "_view_count": null,
            "_view_module": "@jupyter-widgets/base",
            "_view_module_version": "1.2.0",
            "_view_name": "LayoutView",
            "align_content": null,
            "align_items": null,
            "align_self": null,
            "border": null,
            "bottom": null,
            "display": null,
            "flex": null,
            "flex_flow": null,
            "grid_area": null,
            "grid_auto_columns": null,
            "grid_auto_flow": null,
            "grid_auto_rows": null,
            "grid_column": null,
            "grid_gap": null,
            "grid_row": null,
            "grid_template_areas": null,
            "grid_template_columns": null,
            "grid_template_rows": null,
            "height": null,
            "justify_content": null,
            "justify_items": null,
            "left": null,
            "margin": null,
            "max_height": null,
            "max_width": null,
            "min_height": null,
            "min_width": null,
            "object_fit": null,
            "object_position": null,
            "order": null,
            "overflow": null,
            "overflow_x": null,
            "overflow_y": null,
            "padding": null,
            "right": null,
            "top": null,
            "visibility": null,
            "width": null
          }
        },
        "44854ffe799a41b3a6f975db1d557b8b": {
          "model_module": "@jupyter-widgets/base",
          "model_name": "LayoutModel",
          "model_module_version": "1.2.0",
          "state": {
            "_model_module": "@jupyter-widgets/base",
            "_model_module_version": "1.2.0",
            "_model_name": "LayoutModel",
            "_view_count": null,
            "_view_module": "@jupyter-widgets/base",
            "_view_module_version": "1.2.0",
            "_view_name": "LayoutView",
            "align_content": null,
            "align_items": null,
            "align_self": null,
            "border": null,
            "bottom": null,
            "display": null,
            "flex": null,
            "flex_flow": null,
            "grid_area": null,
            "grid_auto_columns": null,
            "grid_auto_flow": null,
            "grid_auto_rows": null,
            "grid_column": null,
            "grid_gap": null,
            "grid_row": null,
            "grid_template_areas": null,
            "grid_template_columns": null,
            "grid_template_rows": null,
            "height": null,
            "justify_content": null,
            "justify_items": null,
            "left": null,
            "margin": null,
            "max_height": null,
            "max_width": null,
            "min_height": null,
            "min_width": null,
            "object_fit": null,
            "object_position": null,
            "order": null,
            "overflow": null,
            "overflow_x": null,
            "overflow_y": null,
            "padding": null,
            "right": null,
            "top": null,
            "visibility": null,
            "width": null
          }
        },
        "39ba4390587b4080aa16c0a693916671": {
          "model_module": "@jupyter-widgets/controls",
          "model_name": "DescriptionStyleModel",
          "model_module_version": "1.5.0",
          "state": {
            "_model_module": "@jupyter-widgets/controls",
            "_model_module_version": "1.5.0",
            "_model_name": "DescriptionStyleModel",
            "_view_count": null,
            "_view_module": "@jupyter-widgets/base",
            "_view_module_version": "1.2.0",
            "_view_name": "StyleView",
            "description_width": ""
          }
        },
        "1596dec5bb7b4317b2d232e753c693fa": {
          "model_module": "@jupyter-widgets/base",
          "model_name": "LayoutModel",
          "model_module_version": "1.2.0",
          "state": {
            "_model_module": "@jupyter-widgets/base",
            "_model_module_version": "1.2.0",
            "_model_name": "LayoutModel",
            "_view_count": null,
            "_view_module": "@jupyter-widgets/base",
            "_view_module_version": "1.2.0",
            "_view_name": "LayoutView",
            "align_content": null,
            "align_items": null,
            "align_self": null,
            "border": null,
            "bottom": null,
            "display": null,
            "flex": null,
            "flex_flow": null,
            "grid_area": null,
            "grid_auto_columns": null,
            "grid_auto_flow": null,
            "grid_auto_rows": null,
            "grid_column": null,
            "grid_gap": null,
            "grid_row": null,
            "grid_template_areas": null,
            "grid_template_columns": null,
            "grid_template_rows": null,
            "height": null,
            "justify_content": null,
            "justify_items": null,
            "left": null,
            "margin": null,
            "max_height": null,
            "max_width": null,
            "min_height": null,
            "min_width": null,
            "object_fit": null,
            "object_position": null,
            "order": null,
            "overflow": null,
            "overflow_x": null,
            "overflow_y": null,
            "padding": null,
            "right": null,
            "top": null,
            "visibility": null,
            "width": null
          }
        },
        "2d76faa8bb7544d8806bab8c819928a2": {
          "model_module": "@jupyter-widgets/controls",
          "model_name": "ProgressStyleModel",
          "model_module_version": "1.5.0",
          "state": {
            "_model_module": "@jupyter-widgets/controls",
            "_model_module_version": "1.5.0",
            "_model_name": "ProgressStyleModel",
            "_view_count": null,
            "_view_module": "@jupyter-widgets/base",
            "_view_module_version": "1.2.0",
            "_view_name": "StyleView",
            "bar_color": null,
            "description_width": ""
          }
        },
        "2697bd264ddd4d7a984c8c89ccb593cd": {
          "model_module": "@jupyter-widgets/base",
          "model_name": "LayoutModel",
          "model_module_version": "1.2.0",
          "state": {
            "_model_module": "@jupyter-widgets/base",
            "_model_module_version": "1.2.0",
            "_model_name": "LayoutModel",
            "_view_count": null,
            "_view_module": "@jupyter-widgets/base",
            "_view_module_version": "1.2.0",
            "_view_name": "LayoutView",
            "align_content": null,
            "align_items": null,
            "align_self": null,
            "border": null,
            "bottom": null,
            "display": null,
            "flex": null,
            "flex_flow": null,
            "grid_area": null,
            "grid_auto_columns": null,
            "grid_auto_flow": null,
            "grid_auto_rows": null,
            "grid_column": null,
            "grid_gap": null,
            "grid_row": null,
            "grid_template_areas": null,
            "grid_template_columns": null,
            "grid_template_rows": null,
            "height": null,
            "justify_content": null,
            "justify_items": null,
            "left": null,
            "margin": null,
            "max_height": null,
            "max_width": null,
            "min_height": null,
            "min_width": null,
            "object_fit": null,
            "object_position": null,
            "order": null,
            "overflow": null,
            "overflow_x": null,
            "overflow_y": null,
            "padding": null,
            "right": null,
            "top": null,
            "visibility": null,
            "width": null
          }
        },
        "74572c8ccbe34f659327df1c0386698b": {
          "model_module": "@jupyter-widgets/controls",
          "model_name": "DescriptionStyleModel",
          "model_module_version": "1.5.0",
          "state": {
            "_model_module": "@jupyter-widgets/controls",
            "_model_module_version": "1.5.0",
            "_model_name": "DescriptionStyleModel",
            "_view_count": null,
            "_view_module": "@jupyter-widgets/base",
            "_view_module_version": "1.2.0",
            "_view_name": "StyleView",
            "description_width": ""
          }
        },
        "405cc249894a4c09bc1b86da8837344b": {
          "model_module": "@jupyter-widgets/controls",
          "model_name": "HBoxModel",
          "model_module_version": "1.5.0",
          "state": {
            "_dom_classes": [],
            "_model_module": "@jupyter-widgets/controls",
            "_model_module_version": "1.5.0",
            "_model_name": "HBoxModel",
            "_view_count": null,
            "_view_module": "@jupyter-widgets/controls",
            "_view_module_version": "1.5.0",
            "_view_name": "HBoxView",
            "box_style": "",
            "children": [
              "IPY_MODEL_6306130279d94e63af2a8c1365568242",
              "IPY_MODEL_0b18eb7075e44b358d73c0c6a58843ad",
              "IPY_MODEL_4eec402bcfb74004a68565745f98acba"
            ],
            "layout": "IPY_MODEL_fb3273496c8345c5b12515d4a6bb028a"
          }
        },
        "6306130279d94e63af2a8c1365568242": {
          "model_module": "@jupyter-widgets/controls",
          "model_name": "HTMLModel",
          "model_module_version": "1.5.0",
          "state": {
            "_dom_classes": [],
            "_model_module": "@jupyter-widgets/controls",
            "_model_module_version": "1.5.0",
            "_model_name": "HTMLModel",
            "_view_count": null,
            "_view_module": "@jupyter-widgets/controls",
            "_view_module_version": "1.5.0",
            "_view_name": "HTMLView",
            "description": "",
            "description_tooltip": null,
            "layout": "IPY_MODEL_18989cb6edf34256b97ec615254e8bdd",
            "placeholder": "​",
            "style": "IPY_MODEL_692fddbdab7b47beb93126fbdc713be3",
            "value": "model.safetensors: 100%"
          }
        },
        "0b18eb7075e44b358d73c0c6a58843ad": {
          "model_module": "@jupyter-widgets/controls",
          "model_name": "FloatProgressModel",
          "model_module_version": "1.5.0",
          "state": {
            "_dom_classes": [],
            "_model_module": "@jupyter-widgets/controls",
            "_model_module_version": "1.5.0",
            "_model_name": "FloatProgressModel",
            "_view_count": null,
            "_view_module": "@jupyter-widgets/controls",
            "_view_module_version": "1.5.0",
            "_view_name": "ProgressView",
            "bar_style": "success",
            "description": "",
            "description_tooltip": null,
            "layout": "IPY_MODEL_549a8ff832ec44f9b6dee5d6894fd945",
            "max": 265722260,
            "min": 0,
            "orientation": "horizontal",
            "style": "IPY_MODEL_65fd4c3720ac458a9b802f1b96ee22bf",
            "value": 265722260
          }
        },
        "4eec402bcfb74004a68565745f98acba": {
          "model_module": "@jupyter-widgets/controls",
          "model_name": "HTMLModel",
          "model_module_version": "1.5.0",
          "state": {
            "_dom_classes": [],
            "_model_module": "@jupyter-widgets/controls",
            "_model_module_version": "1.5.0",
            "_model_name": "HTMLModel",
            "_view_count": null,
            "_view_module": "@jupyter-widgets/controls",
            "_view_module_version": "1.5.0",
            "_view_name": "HTMLView",
            "description": "",
            "description_tooltip": null,
            "layout": "IPY_MODEL_f8104962727840158a3d3921b901ad36",
            "placeholder": "​",
            "style": "IPY_MODEL_28e059e93da94062baa8604002c02390",
            "value": " 266M/266M [00:05&lt;00:00, 306MB/s]"
          }
        },
        "fb3273496c8345c5b12515d4a6bb028a": {
          "model_module": "@jupyter-widgets/base",
          "model_name": "LayoutModel",
          "model_module_version": "1.2.0",
          "state": {
            "_model_module": "@jupyter-widgets/base",
            "_model_module_version": "1.2.0",
            "_model_name": "LayoutModel",
            "_view_count": null,
            "_view_module": "@jupyter-widgets/base",
            "_view_module_version": "1.2.0",
            "_view_name": "LayoutView",
            "align_content": null,
            "align_items": null,
            "align_self": null,
            "border": null,
            "bottom": null,
            "display": null,
            "flex": null,
            "flex_flow": null,
            "grid_area": null,
            "grid_auto_columns": null,
            "grid_auto_flow": null,
            "grid_auto_rows": null,
            "grid_column": null,
            "grid_gap": null,
            "grid_row": null,
            "grid_template_areas": null,
            "grid_template_columns": null,
            "grid_template_rows": null,
            "height": null,
            "justify_content": null,
            "justify_items": null,
            "left": null,
            "margin": null,
            "max_height": null,
            "max_width": null,
            "min_height": null,
            "min_width": null,
            "object_fit": null,
            "object_position": null,
            "order": null,
            "overflow": null,
            "overflow_x": null,
            "overflow_y": null,
            "padding": null,
            "right": null,
            "top": null,
            "visibility": null,
            "width": null
          }
        },
        "18989cb6edf34256b97ec615254e8bdd": {
          "model_module": "@jupyter-widgets/base",
          "model_name": "LayoutModel",
          "model_module_version": "1.2.0",
          "state": {
            "_model_module": "@jupyter-widgets/base",
            "_model_module_version": "1.2.0",
            "_model_name": "LayoutModel",
            "_view_count": null,
            "_view_module": "@jupyter-widgets/base",
            "_view_module_version": "1.2.0",
            "_view_name": "LayoutView",
            "align_content": null,
            "align_items": null,
            "align_self": null,
            "border": null,
            "bottom": null,
            "display": null,
            "flex": null,
            "flex_flow": null,
            "grid_area": null,
            "grid_auto_columns": null,
            "grid_auto_flow": null,
            "grid_auto_rows": null,
            "grid_column": null,
            "grid_gap": null,
            "grid_row": null,
            "grid_template_areas": null,
            "grid_template_columns": null,
            "grid_template_rows": null,
            "height": null,
            "justify_content": null,
            "justify_items": null,
            "left": null,
            "margin": null,
            "max_height": null,
            "max_width": null,
            "min_height": null,
            "min_width": null,
            "object_fit": null,
            "object_position": null,
            "order": null,
            "overflow": null,
            "overflow_x": null,
            "overflow_y": null,
            "padding": null,
            "right": null,
            "top": null,
            "visibility": null,
            "width": null
          }
        },
        "692fddbdab7b47beb93126fbdc713be3": {
          "model_module": "@jupyter-widgets/controls",
          "model_name": "DescriptionStyleModel",
          "model_module_version": "1.5.0",
          "state": {
            "_model_module": "@jupyter-widgets/controls",
            "_model_module_version": "1.5.0",
            "_model_name": "DescriptionStyleModel",
            "_view_count": null,
            "_view_module": "@jupyter-widgets/base",
            "_view_module_version": "1.2.0",
            "_view_name": "StyleView",
            "description_width": ""
          }
        },
        "549a8ff832ec44f9b6dee5d6894fd945": {
          "model_module": "@jupyter-widgets/base",
          "model_name": "LayoutModel",
          "model_module_version": "1.2.0",
          "state": {
            "_model_module": "@jupyter-widgets/base",
            "_model_module_version": "1.2.0",
            "_model_name": "LayoutModel",
            "_view_count": null,
            "_view_module": "@jupyter-widgets/base",
            "_view_module_version": "1.2.0",
            "_view_name": "LayoutView",
            "align_content": null,
            "align_items": null,
            "align_self": null,
            "border": null,
            "bottom": null,
            "display": null,
            "flex": null,
            "flex_flow": null,
            "grid_area": null,
            "grid_auto_columns": null,
            "grid_auto_flow": null,
            "grid_auto_rows": null,
            "grid_column": null,
            "grid_gap": null,
            "grid_row": null,
            "grid_template_areas": null,
            "grid_template_columns": null,
            "grid_template_rows": null,
            "height": null,
            "justify_content": null,
            "justify_items": null,
            "left": null,
            "margin": null,
            "max_height": null,
            "max_width": null,
            "min_height": null,
            "min_width": null,
            "object_fit": null,
            "object_position": null,
            "order": null,
            "overflow": null,
            "overflow_x": null,
            "overflow_y": null,
            "padding": null,
            "right": null,
            "top": null,
            "visibility": null,
            "width": null
          }
        },
        "65fd4c3720ac458a9b802f1b96ee22bf": {
          "model_module": "@jupyter-widgets/controls",
          "model_name": "ProgressStyleModel",
          "model_module_version": "1.5.0",
          "state": {
            "_model_module": "@jupyter-widgets/controls",
            "_model_module_version": "1.5.0",
            "_model_name": "ProgressStyleModel",
            "_view_count": null,
            "_view_module": "@jupyter-widgets/base",
            "_view_module_version": "1.2.0",
            "_view_name": "StyleView",
            "bar_color": null,
            "description_width": ""
          }
        },
        "f8104962727840158a3d3921b901ad36": {
          "model_module": "@jupyter-widgets/base",
          "model_name": "LayoutModel",
          "model_module_version": "1.2.0",
          "state": {
            "_model_module": "@jupyter-widgets/base",
            "_model_module_version": "1.2.0",
            "_model_name": "LayoutModel",
            "_view_count": null,
            "_view_module": "@jupyter-widgets/base",
            "_view_module_version": "1.2.0",
            "_view_name": "LayoutView",
            "align_content": null,
            "align_items": null,
            "align_self": null,
            "border": null,
            "bottom": null,
            "display": null,
            "flex": null,
            "flex_flow": null,
            "grid_area": null,
            "grid_auto_columns": null,
            "grid_auto_flow": null,
            "grid_auto_rows": null,
            "grid_column": null,
            "grid_gap": null,
            "grid_row": null,
            "grid_template_areas": null,
            "grid_template_columns": null,
            "grid_template_rows": null,
            "height": null,
            "justify_content": null,
            "justify_items": null,
            "left": null,
            "margin": null,
            "max_height": null,
            "max_width": null,
            "min_height": null,
            "min_width": null,
            "object_fit": null,
            "object_position": null,
            "order": null,
            "overflow": null,
            "overflow_x": null,
            "overflow_y": null,
            "padding": null,
            "right": null,
            "top": null,
            "visibility": null,
            "width": null
          }
        },
        "28e059e93da94062baa8604002c02390": {
          "model_module": "@jupyter-widgets/controls",
          "model_name": "DescriptionStyleModel",
          "model_module_version": "1.5.0",
          "state": {
            "_model_module": "@jupyter-widgets/controls",
            "_model_module_version": "1.5.0",
            "_model_name": "DescriptionStyleModel",
            "_view_count": null,
            "_view_module": "@jupyter-widgets/base",
            "_view_module_version": "1.2.0",
            "_view_name": "StyleView",
            "description_width": ""
          }
        },
        "3eabc82cceb1482986a1f43ec74dcbde": {
          "model_module": "@jupyter-widgets/controls",
          "model_name": "HBoxModel",
          "model_module_version": "1.5.0",
          "state": {
            "_dom_classes": [],
            "_model_module": "@jupyter-widgets/controls",
            "_model_module_version": "1.5.0",
            "_model_name": "HBoxModel",
            "_view_count": null,
            "_view_module": "@jupyter-widgets/controls",
            "_view_module_version": "1.5.0",
            "_view_name": "HBoxView",
            "box_style": "",
            "children": [
              "IPY_MODEL_431147fa9d6946c68d91f0c5ab984a60",
              "IPY_MODEL_b954cc9ea6d144d7811af432d4bba340",
              "IPY_MODEL_3455e202cbf2497089c123e187cd8194"
            ],
            "layout": "IPY_MODEL_fe3f5449664649a5ad30d8f8807e82d1"
          }
        },
        "431147fa9d6946c68d91f0c5ab984a60": {
          "model_module": "@jupyter-widgets/controls",
          "model_name": "HTMLModel",
          "model_module_version": "1.5.0",
          "state": {
            "_dom_classes": [],
            "_model_module": "@jupyter-widgets/controls",
            "_model_module_version": "1.5.0",
            "_model_name": "HTMLModel",
            "_view_count": null,
            "_view_module": "@jupyter-widgets/controls",
            "_view_module_version": "1.5.0",
            "_view_name": "HTMLView",
            "description": "",
            "description_tooltip": null,
            "layout": "IPY_MODEL_1cf7e03ece354cbca9fcee69b4f3c6bb",
            "placeholder": "​",
            "style": "IPY_MODEL_ae21134cc99a4c16aff5073f8d23feb9",
            "value": "tokenizer_config.json: 100%"
          }
        },
        "b954cc9ea6d144d7811af432d4bba340": {
          "model_module": "@jupyter-widgets/controls",
          "model_name": "FloatProgressModel",
          "model_module_version": "1.5.0",
          "state": {
            "_dom_classes": [],
            "_model_module": "@jupyter-widgets/controls",
            "_model_module_version": "1.5.0",
            "_model_name": "FloatProgressModel",
            "_view_count": null,
            "_view_module": "@jupyter-widgets/controls",
            "_view_module_version": "1.5.0",
            "_view_name": "ProgressView",
            "bar_style": "success",
            "description": "",
            "description_tooltip": null,
            "layout": "IPY_MODEL_24b8222b10504850a72f5a2c69015819",
            "max": 373,
            "min": 0,
            "orientation": "horizontal",
            "style": "IPY_MODEL_f627b4140bf448eea96a1d47fd26311a",
            "value": 373
          }
        },
        "3455e202cbf2497089c123e187cd8194": {
          "model_module": "@jupyter-widgets/controls",
          "model_name": "HTMLModel",
          "model_module_version": "1.5.0",
          "state": {
            "_dom_classes": [],
            "_model_module": "@jupyter-widgets/controls",
            "_model_module_version": "1.5.0",
            "_model_name": "HTMLModel",
            "_view_count": null,
            "_view_module": "@jupyter-widgets/controls",
            "_view_module_version": "1.5.0",
            "_view_name": "HTMLView",
            "description": "",
            "description_tooltip": null,
            "layout": "IPY_MODEL_1a16597bd83549949a9aa4081b64545b",
            "placeholder": "​",
            "style": "IPY_MODEL_5dc16c3f975145e0ad11f8ba4d487815",
            "value": " 373/373 [00:00&lt;00:00, 20.3kB/s]"
          }
        },
        "fe3f5449664649a5ad30d8f8807e82d1": {
          "model_module": "@jupyter-widgets/base",
          "model_name": "LayoutModel",
          "model_module_version": "1.2.0",
          "state": {
            "_model_module": "@jupyter-widgets/base",
            "_model_module_version": "1.2.0",
            "_model_name": "LayoutModel",
            "_view_count": null,
            "_view_module": "@jupyter-widgets/base",
            "_view_module_version": "1.2.0",
            "_view_name": "LayoutView",
            "align_content": null,
            "align_items": null,
            "align_self": null,
            "border": null,
            "bottom": null,
            "display": null,
            "flex": null,
            "flex_flow": null,
            "grid_area": null,
            "grid_auto_columns": null,
            "grid_auto_flow": null,
            "grid_auto_rows": null,
            "grid_column": null,
            "grid_gap": null,
            "grid_row": null,
            "grid_template_areas": null,
            "grid_template_columns": null,
            "grid_template_rows": null,
            "height": null,
            "justify_content": null,
            "justify_items": null,
            "left": null,
            "margin": null,
            "max_height": null,
            "max_width": null,
            "min_height": null,
            "min_width": null,
            "object_fit": null,
            "object_position": null,
            "order": null,
            "overflow": null,
            "overflow_x": null,
            "overflow_y": null,
            "padding": null,
            "right": null,
            "top": null,
            "visibility": null,
            "width": null
          }
        },
        "1cf7e03ece354cbca9fcee69b4f3c6bb": {
          "model_module": "@jupyter-widgets/base",
          "model_name": "LayoutModel",
          "model_module_version": "1.2.0",
          "state": {
            "_model_module": "@jupyter-widgets/base",
            "_model_module_version": "1.2.0",
            "_model_name": "LayoutModel",
            "_view_count": null,
            "_view_module": "@jupyter-widgets/base",
            "_view_module_version": "1.2.0",
            "_view_name": "LayoutView",
            "align_content": null,
            "align_items": null,
            "align_self": null,
            "border": null,
            "bottom": null,
            "display": null,
            "flex": null,
            "flex_flow": null,
            "grid_area": null,
            "grid_auto_columns": null,
            "grid_auto_flow": null,
            "grid_auto_rows": null,
            "grid_column": null,
            "grid_gap": null,
            "grid_row": null,
            "grid_template_areas": null,
            "grid_template_columns": null,
            "grid_template_rows": null,
            "height": null,
            "justify_content": null,
            "justify_items": null,
            "left": null,
            "margin": null,
            "max_height": null,
            "max_width": null,
            "min_height": null,
            "min_width": null,
            "object_fit": null,
            "object_position": null,
            "order": null,
            "overflow": null,
            "overflow_x": null,
            "overflow_y": null,
            "padding": null,
            "right": null,
            "top": null,
            "visibility": null,
            "width": null
          }
        },
        "ae21134cc99a4c16aff5073f8d23feb9": {
          "model_module": "@jupyter-widgets/controls",
          "model_name": "DescriptionStyleModel",
          "model_module_version": "1.5.0",
          "state": {
            "_model_module": "@jupyter-widgets/controls",
            "_model_module_version": "1.5.0",
            "_model_name": "DescriptionStyleModel",
            "_view_count": null,
            "_view_module": "@jupyter-widgets/base",
            "_view_module_version": "1.2.0",
            "_view_name": "StyleView",
            "description_width": ""
          }
        },
        "24b8222b10504850a72f5a2c69015819": {
          "model_module": "@jupyter-widgets/base",
          "model_name": "LayoutModel",
          "model_module_version": "1.2.0",
          "state": {
            "_model_module": "@jupyter-widgets/base",
            "_model_module_version": "1.2.0",
            "_model_name": "LayoutModel",
            "_view_count": null,
            "_view_module": "@jupyter-widgets/base",
            "_view_module_version": "1.2.0",
            "_view_name": "LayoutView",
            "align_content": null,
            "align_items": null,
            "align_self": null,
            "border": null,
            "bottom": null,
            "display": null,
            "flex": null,
            "flex_flow": null,
            "grid_area": null,
            "grid_auto_columns": null,
            "grid_auto_flow": null,
            "grid_auto_rows": null,
            "grid_column": null,
            "grid_gap": null,
            "grid_row": null,
            "grid_template_areas": null,
            "grid_template_columns": null,
            "grid_template_rows": null,
            "height": null,
            "justify_content": null,
            "justify_items": null,
            "left": null,
            "margin": null,
            "max_height": null,
            "max_width": null,
            "min_height": null,
            "min_width": null,
            "object_fit": null,
            "object_position": null,
            "order": null,
            "overflow": null,
            "overflow_x": null,
            "overflow_y": null,
            "padding": null,
            "right": null,
            "top": null,
            "visibility": null,
            "width": null
          }
        },
        "f627b4140bf448eea96a1d47fd26311a": {
          "model_module": "@jupyter-widgets/controls",
          "model_name": "ProgressStyleModel",
          "model_module_version": "1.5.0",
          "state": {
            "_model_module": "@jupyter-widgets/controls",
            "_model_module_version": "1.5.0",
            "_model_name": "ProgressStyleModel",
            "_view_count": null,
            "_view_module": "@jupyter-widgets/base",
            "_view_module_version": "1.2.0",
            "_view_name": "StyleView",
            "bar_color": null,
            "description_width": ""
          }
        },
        "1a16597bd83549949a9aa4081b64545b": {
          "model_module": "@jupyter-widgets/base",
          "model_name": "LayoutModel",
          "model_module_version": "1.2.0",
          "state": {
            "_model_module": "@jupyter-widgets/base",
            "_model_module_version": "1.2.0",
            "_model_name": "LayoutModel",
            "_view_count": null,
            "_view_module": "@jupyter-widgets/base",
            "_view_module_version": "1.2.0",
            "_view_name": "LayoutView",
            "align_content": null,
            "align_items": null,
            "align_self": null,
            "border": null,
            "bottom": null,
            "display": null,
            "flex": null,
            "flex_flow": null,
            "grid_area": null,
            "grid_auto_columns": null,
            "grid_auto_flow": null,
            "grid_auto_rows": null,
            "grid_column": null,
            "grid_gap": null,
            "grid_row": null,
            "grid_template_areas": null,
            "grid_template_columns": null,
            "grid_template_rows": null,
            "height": null,
            "justify_content": null,
            "justify_items": null,
            "left": null,
            "margin": null,
            "max_height": null,
            "max_width": null,
            "min_height": null,
            "min_width": null,
            "object_fit": null,
            "object_position": null,
            "order": null,
            "overflow": null,
            "overflow_x": null,
            "overflow_y": null,
            "padding": null,
            "right": null,
            "top": null,
            "visibility": null,
            "width": null
          }
        },
        "5dc16c3f975145e0ad11f8ba4d487815": {
          "model_module": "@jupyter-widgets/controls",
          "model_name": "DescriptionStyleModel",
          "model_module_version": "1.5.0",
          "state": {
            "_model_module": "@jupyter-widgets/controls",
            "_model_module_version": "1.5.0",
            "_model_name": "DescriptionStyleModel",
            "_view_count": null,
            "_view_module": "@jupyter-widgets/base",
            "_view_module_version": "1.2.0",
            "_view_name": "StyleView",
            "description_width": ""
          }
        },
        "e3c064710e6d49679dc816655c0f0ec4": {
          "model_module": "@jupyter-widgets/controls",
          "model_name": "HBoxModel",
          "model_module_version": "1.5.0",
          "state": {
            "_dom_classes": [],
            "_model_module": "@jupyter-widgets/controls",
            "_model_module_version": "1.5.0",
            "_model_name": "HBoxModel",
            "_view_count": null,
            "_view_module": "@jupyter-widgets/controls",
            "_view_module_version": "1.5.0",
            "_view_name": "HBoxView",
            "box_style": "",
            "children": [
              "IPY_MODEL_f1542ffb5de14835bff753c084ecbef7",
              "IPY_MODEL_36925c8971a34fcb81edf0e5bb60fc8e",
              "IPY_MODEL_65fd0ab9853d469c9f3d0b83981623c5"
            ],
            "layout": "IPY_MODEL_607f809ed0014ea1a62bdb955d6e24b6"
          }
        },
        "f1542ffb5de14835bff753c084ecbef7": {
          "model_module": "@jupyter-widgets/controls",
          "model_name": "HTMLModel",
          "model_module_version": "1.5.0",
          "state": {
            "_dom_classes": [],
            "_model_module": "@jupyter-widgets/controls",
            "_model_module_version": "1.5.0",
            "_model_name": "HTMLModel",
            "_view_count": null,
            "_view_module": "@jupyter-widgets/controls",
            "_view_module_version": "1.5.0",
            "_view_name": "HTMLView",
            "description": "",
            "description_tooltip": null,
            "layout": "IPY_MODEL_ba2567aa34ba469fbf211145982e4c80",
            "placeholder": "​",
            "style": "IPY_MODEL_9795f0e72cfc4dc9bbc01022df2a4e4e",
            "value": "vocab.txt: 100%"
          }
        },
        "36925c8971a34fcb81edf0e5bb60fc8e": {
          "model_module": "@jupyter-widgets/controls",
          "model_name": "FloatProgressModel",
          "model_module_version": "1.5.0",
          "state": {
            "_dom_classes": [],
            "_model_module": "@jupyter-widgets/controls",
            "_model_module_version": "1.5.0",
            "_model_name": "FloatProgressModel",
            "_view_count": null,
            "_view_module": "@jupyter-widgets/controls",
            "_view_module_version": "1.5.0",
            "_view_name": "ProgressView",
            "bar_style": "success",
            "description": "",
            "description_tooltip": null,
            "layout": "IPY_MODEL_bab0726a0ba54890a2b224bf8013412f",
            "max": 231508,
            "min": 0,
            "orientation": "horizontal",
            "style": "IPY_MODEL_7ee8be36f10046d986255e30a2e79a69",
            "value": 231508
          }
        },
        "65fd0ab9853d469c9f3d0b83981623c5": {
          "model_module": "@jupyter-widgets/controls",
          "model_name": "HTMLModel",
          "model_module_version": "1.5.0",
          "state": {
            "_dom_classes": [],
            "_model_module": "@jupyter-widgets/controls",
            "_model_module_version": "1.5.0",
            "_model_name": "HTMLModel",
            "_view_count": null,
            "_view_module": "@jupyter-widgets/controls",
            "_view_module_version": "1.5.0",
            "_view_name": "HTMLView",
            "description": "",
            "description_tooltip": null,
            "layout": "IPY_MODEL_966667bb15c8435c89e90f0d0b682481",
            "placeholder": "​",
            "style": "IPY_MODEL_e6120dc1592040928c6db76199c84bcc",
            "value": " 232k/232k [00:00&lt;00:00, 528kB/s]"
          }
        },
        "607f809ed0014ea1a62bdb955d6e24b6": {
          "model_module": "@jupyter-widgets/base",
          "model_name": "LayoutModel",
          "model_module_version": "1.2.0",
          "state": {
            "_model_module": "@jupyter-widgets/base",
            "_model_module_version": "1.2.0",
            "_model_name": "LayoutModel",
            "_view_count": null,
            "_view_module": "@jupyter-widgets/base",
            "_view_module_version": "1.2.0",
            "_view_name": "LayoutView",
            "align_content": null,
            "align_items": null,
            "align_self": null,
            "border": null,
            "bottom": null,
            "display": null,
            "flex": null,
            "flex_flow": null,
            "grid_area": null,
            "grid_auto_columns": null,
            "grid_auto_flow": null,
            "grid_auto_rows": null,
            "grid_column": null,
            "grid_gap": null,
            "grid_row": null,
            "grid_template_areas": null,
            "grid_template_columns": null,
            "grid_template_rows": null,
            "height": null,
            "justify_content": null,
            "justify_items": null,
            "left": null,
            "margin": null,
            "max_height": null,
            "max_width": null,
            "min_height": null,
            "min_width": null,
            "object_fit": null,
            "object_position": null,
            "order": null,
            "overflow": null,
            "overflow_x": null,
            "overflow_y": null,
            "padding": null,
            "right": null,
            "top": null,
            "visibility": null,
            "width": null
          }
        },
        "ba2567aa34ba469fbf211145982e4c80": {
          "model_module": "@jupyter-widgets/base",
          "model_name": "LayoutModel",
          "model_module_version": "1.2.0",
          "state": {
            "_model_module": "@jupyter-widgets/base",
            "_model_module_version": "1.2.0",
            "_model_name": "LayoutModel",
            "_view_count": null,
            "_view_module": "@jupyter-widgets/base",
            "_view_module_version": "1.2.0",
            "_view_name": "LayoutView",
            "align_content": null,
            "align_items": null,
            "align_self": null,
            "border": null,
            "bottom": null,
            "display": null,
            "flex": null,
            "flex_flow": null,
            "grid_area": null,
            "grid_auto_columns": null,
            "grid_auto_flow": null,
            "grid_auto_rows": null,
            "grid_column": null,
            "grid_gap": null,
            "grid_row": null,
            "grid_template_areas": null,
            "grid_template_columns": null,
            "grid_template_rows": null,
            "height": null,
            "justify_content": null,
            "justify_items": null,
            "left": null,
            "margin": null,
            "max_height": null,
            "max_width": null,
            "min_height": null,
            "min_width": null,
            "object_fit": null,
            "object_position": null,
            "order": null,
            "overflow": null,
            "overflow_x": null,
            "overflow_y": null,
            "padding": null,
            "right": null,
            "top": null,
            "visibility": null,
            "width": null
          }
        },
        "9795f0e72cfc4dc9bbc01022df2a4e4e": {
          "model_module": "@jupyter-widgets/controls",
          "model_name": "DescriptionStyleModel",
          "model_module_version": "1.5.0",
          "state": {
            "_model_module": "@jupyter-widgets/controls",
            "_model_module_version": "1.5.0",
            "_model_name": "DescriptionStyleModel",
            "_view_count": null,
            "_view_module": "@jupyter-widgets/base",
            "_view_module_version": "1.2.0",
            "_view_name": "StyleView",
            "description_width": ""
          }
        },
        "bab0726a0ba54890a2b224bf8013412f": {
          "model_module": "@jupyter-widgets/base",
          "model_name": "LayoutModel",
          "model_module_version": "1.2.0",
          "state": {
            "_model_module": "@jupyter-widgets/base",
            "_model_module_version": "1.2.0",
            "_model_name": "LayoutModel",
            "_view_count": null,
            "_view_module": "@jupyter-widgets/base",
            "_view_module_version": "1.2.0",
            "_view_name": "LayoutView",
            "align_content": null,
            "align_items": null,
            "align_self": null,
            "border": null,
            "bottom": null,
            "display": null,
            "flex": null,
            "flex_flow": null,
            "grid_area": null,
            "grid_auto_columns": null,
            "grid_auto_flow": null,
            "grid_auto_rows": null,
            "grid_column": null,
            "grid_gap": null,
            "grid_row": null,
            "grid_template_areas": null,
            "grid_template_columns": null,
            "grid_template_rows": null,
            "height": null,
            "justify_content": null,
            "justify_items": null,
            "left": null,
            "margin": null,
            "max_height": null,
            "max_width": null,
            "min_height": null,
            "min_width": null,
            "object_fit": null,
            "object_position": null,
            "order": null,
            "overflow": null,
            "overflow_x": null,
            "overflow_y": null,
            "padding": null,
            "right": null,
            "top": null,
            "visibility": null,
            "width": null
          }
        },
        "7ee8be36f10046d986255e30a2e79a69": {
          "model_module": "@jupyter-widgets/controls",
          "model_name": "ProgressStyleModel",
          "model_module_version": "1.5.0",
          "state": {
            "_model_module": "@jupyter-widgets/controls",
            "_model_module_version": "1.5.0",
            "_model_name": "ProgressStyleModel",
            "_view_count": null,
            "_view_module": "@jupyter-widgets/base",
            "_view_module_version": "1.2.0",
            "_view_name": "StyleView",
            "bar_color": null,
            "description_width": ""
          }
        },
        "966667bb15c8435c89e90f0d0b682481": {
          "model_module": "@jupyter-widgets/base",
          "model_name": "LayoutModel",
          "model_module_version": "1.2.0",
          "state": {
            "_model_module": "@jupyter-widgets/base",
            "_model_module_version": "1.2.0",
            "_model_name": "LayoutModel",
            "_view_count": null,
            "_view_module": "@jupyter-widgets/base",
            "_view_module_version": "1.2.0",
            "_view_name": "LayoutView",
            "align_content": null,
            "align_items": null,
            "align_self": null,
            "border": null,
            "bottom": null,
            "display": null,
            "flex": null,
            "flex_flow": null,
            "grid_area": null,
            "grid_auto_columns": null,
            "grid_auto_flow": null,
            "grid_auto_rows": null,
            "grid_column": null,
            "grid_gap": null,
            "grid_row": null,
            "grid_template_areas": null,
            "grid_template_columns": null,
            "grid_template_rows": null,
            "height": null,
            "justify_content": null,
            "justify_items": null,
            "left": null,
            "margin": null,
            "max_height": null,
            "max_width": null,
            "min_height": null,
            "min_width": null,
            "object_fit": null,
            "object_position": null,
            "order": null,
            "overflow": null,
            "overflow_x": null,
            "overflow_y": null,
            "padding": null,
            "right": null,
            "top": null,
            "visibility": null,
            "width": null
          }
        },
        "e6120dc1592040928c6db76199c84bcc": {
          "model_module": "@jupyter-widgets/controls",
          "model_name": "DescriptionStyleModel",
          "model_module_version": "1.5.0",
          "state": {
            "_model_module": "@jupyter-widgets/controls",
            "_model_module_version": "1.5.0",
            "_model_name": "DescriptionStyleModel",
            "_view_count": null,
            "_view_module": "@jupyter-widgets/base",
            "_view_module_version": "1.2.0",
            "_view_name": "StyleView",
            "description_width": ""
          }
        },
        "92b73e2398974af0acf1f775254317b2": {
          "model_module": "@jupyter-widgets/controls",
          "model_name": "HBoxModel",
          "model_module_version": "1.5.0",
          "state": {
            "_dom_classes": [],
            "_model_module": "@jupyter-widgets/controls",
            "_model_module_version": "1.5.0",
            "_model_name": "HBoxModel",
            "_view_count": null,
            "_view_module": "@jupyter-widgets/controls",
            "_view_module_version": "1.5.0",
            "_view_name": "HBoxView",
            "box_style": "",
            "children": [
              "IPY_MODEL_8f243c9af0094ac899eb723d72cf7abd",
              "IPY_MODEL_540c200e049e4c9b9f71f97297fc69cd",
              "IPY_MODEL_9855acf96f0743d393a98eeb180e7330"
            ],
            "layout": "IPY_MODEL_38a6dca70e854c7cac49680b06610979"
          }
        },
        "8f243c9af0094ac899eb723d72cf7abd": {
          "model_module": "@jupyter-widgets/controls",
          "model_name": "HTMLModel",
          "model_module_version": "1.5.0",
          "state": {
            "_dom_classes": [],
            "_model_module": "@jupyter-widgets/controls",
            "_model_module_version": "1.5.0",
            "_model_name": "HTMLModel",
            "_view_count": null,
            "_view_module": "@jupyter-widgets/controls",
            "_view_module_version": "1.5.0",
            "_view_name": "HTMLView",
            "description": "",
            "description_tooltip": null,
            "layout": "IPY_MODEL_b30e87e8e36c4293aa25839afe68ed92",
            "placeholder": "​",
            "style": "IPY_MODEL_cae203023e024fd0b8b4bc7794933420",
            "value": "tokenizer.json: 100%"
          }
        },
        "540c200e049e4c9b9f71f97297fc69cd": {
          "model_module": "@jupyter-widgets/controls",
          "model_name": "FloatProgressModel",
          "model_module_version": "1.5.0",
          "state": {
            "_dom_classes": [],
            "_model_module": "@jupyter-widgets/controls",
            "_model_module_version": "1.5.0",
            "_model_name": "FloatProgressModel",
            "_view_count": null,
            "_view_module": "@jupyter-widgets/controls",
            "_view_module_version": "1.5.0",
            "_view_name": "ProgressView",
            "bar_style": "success",
            "description": "",
            "description_tooltip": null,
            "layout": "IPY_MODEL_c0c485ebc4594f63ae1950caf4502f8f",
            "max": 711494,
            "min": 0,
            "orientation": "horizontal",
            "style": "IPY_MODEL_b4fb4628f8964e47b9610ca528a154be",
            "value": 711494
          }
        },
        "9855acf96f0743d393a98eeb180e7330": {
          "model_module": "@jupyter-widgets/controls",
          "model_name": "HTMLModel",
          "model_module_version": "1.5.0",
          "state": {
            "_dom_classes": [],
            "_model_module": "@jupyter-widgets/controls",
            "_model_module_version": "1.5.0",
            "_model_name": "HTMLModel",
            "_view_count": null,
            "_view_module": "@jupyter-widgets/controls",
            "_view_module_version": "1.5.0",
            "_view_name": "HTMLView",
            "description": "",
            "description_tooltip": null,
            "layout": "IPY_MODEL_ce8f40fa824b4cdaa95e6f9386b20185",
            "placeholder": "​",
            "style": "IPY_MODEL_010ae29372604de1be646930ea242404",
            "value": " 711k/711k [00:00&lt;00:00, 818kB/s]"
          }
        },
        "38a6dca70e854c7cac49680b06610979": {
          "model_module": "@jupyter-widgets/base",
          "model_name": "LayoutModel",
          "model_module_version": "1.2.0",
          "state": {
            "_model_module": "@jupyter-widgets/base",
            "_model_module_version": "1.2.0",
            "_model_name": "LayoutModel",
            "_view_count": null,
            "_view_module": "@jupyter-widgets/base",
            "_view_module_version": "1.2.0",
            "_view_name": "LayoutView",
            "align_content": null,
            "align_items": null,
            "align_self": null,
            "border": null,
            "bottom": null,
            "display": null,
            "flex": null,
            "flex_flow": null,
            "grid_area": null,
            "grid_auto_columns": null,
            "grid_auto_flow": null,
            "grid_auto_rows": null,
            "grid_column": null,
            "grid_gap": null,
            "grid_row": null,
            "grid_template_areas": null,
            "grid_template_columns": null,
            "grid_template_rows": null,
            "height": null,
            "justify_content": null,
            "justify_items": null,
            "left": null,
            "margin": null,
            "max_height": null,
            "max_width": null,
            "min_height": null,
            "min_width": null,
            "object_fit": null,
            "object_position": null,
            "order": null,
            "overflow": null,
            "overflow_x": null,
            "overflow_y": null,
            "padding": null,
            "right": null,
            "top": null,
            "visibility": null,
            "width": null
          }
        },
        "b30e87e8e36c4293aa25839afe68ed92": {
          "model_module": "@jupyter-widgets/base",
          "model_name": "LayoutModel",
          "model_module_version": "1.2.0",
          "state": {
            "_model_module": "@jupyter-widgets/base",
            "_model_module_version": "1.2.0",
            "_model_name": "LayoutModel",
            "_view_count": null,
            "_view_module": "@jupyter-widgets/base",
            "_view_module_version": "1.2.0",
            "_view_name": "LayoutView",
            "align_content": null,
            "align_items": null,
            "align_self": null,
            "border": null,
            "bottom": null,
            "display": null,
            "flex": null,
            "flex_flow": null,
            "grid_area": null,
            "grid_auto_columns": null,
            "grid_auto_flow": null,
            "grid_auto_rows": null,
            "grid_column": null,
            "grid_gap": null,
            "grid_row": null,
            "grid_template_areas": null,
            "grid_template_columns": null,
            "grid_template_rows": null,
            "height": null,
            "justify_content": null,
            "justify_items": null,
            "left": null,
            "margin": null,
            "max_height": null,
            "max_width": null,
            "min_height": null,
            "min_width": null,
            "object_fit": null,
            "object_position": null,
            "order": null,
            "overflow": null,
            "overflow_x": null,
            "overflow_y": null,
            "padding": null,
            "right": null,
            "top": null,
            "visibility": null,
            "width": null
          }
        },
        "cae203023e024fd0b8b4bc7794933420": {
          "model_module": "@jupyter-widgets/controls",
          "model_name": "DescriptionStyleModel",
          "model_module_version": "1.5.0",
          "state": {
            "_model_module": "@jupyter-widgets/controls",
            "_model_module_version": "1.5.0",
            "_model_name": "DescriptionStyleModel",
            "_view_count": null,
            "_view_module": "@jupyter-widgets/base",
            "_view_module_version": "1.2.0",
            "_view_name": "StyleView",
            "description_width": ""
          }
        },
        "c0c485ebc4594f63ae1950caf4502f8f": {
          "model_module": "@jupyter-widgets/base",
          "model_name": "LayoutModel",
          "model_module_version": "1.2.0",
          "state": {
            "_model_module": "@jupyter-widgets/base",
            "_model_module_version": "1.2.0",
            "_model_name": "LayoutModel",
            "_view_count": null,
            "_view_module": "@jupyter-widgets/base",
            "_view_module_version": "1.2.0",
            "_view_name": "LayoutView",
            "align_content": null,
            "align_items": null,
            "align_self": null,
            "border": null,
            "bottom": null,
            "display": null,
            "flex": null,
            "flex_flow": null,
            "grid_area": null,
            "grid_auto_columns": null,
            "grid_auto_flow": null,
            "grid_auto_rows": null,
            "grid_column": null,
            "grid_gap": null,
            "grid_row": null,
            "grid_template_areas": null,
            "grid_template_columns": null,
            "grid_template_rows": null,
            "height": null,
            "justify_content": null,
            "justify_items": null,
            "left": null,
            "margin": null,
            "max_height": null,
            "max_width": null,
            "min_height": null,
            "min_width": null,
            "object_fit": null,
            "object_position": null,
            "order": null,
            "overflow": null,
            "overflow_x": null,
            "overflow_y": null,
            "padding": null,
            "right": null,
            "top": null,
            "visibility": null,
            "width": null
          }
        },
        "b4fb4628f8964e47b9610ca528a154be": {
          "model_module": "@jupyter-widgets/controls",
          "model_name": "ProgressStyleModel",
          "model_module_version": "1.5.0",
          "state": {
            "_model_module": "@jupyter-widgets/controls",
            "_model_module_version": "1.5.0",
            "_model_name": "ProgressStyleModel",
            "_view_count": null,
            "_view_module": "@jupyter-widgets/base",
            "_view_module_version": "1.2.0",
            "_view_name": "StyleView",
            "bar_color": null,
            "description_width": ""
          }
        },
        "ce8f40fa824b4cdaa95e6f9386b20185": {
          "model_module": "@jupyter-widgets/base",
          "model_name": "LayoutModel",
          "model_module_version": "1.2.0",
          "state": {
            "_model_module": "@jupyter-widgets/base",
            "_model_module_version": "1.2.0",
            "_model_name": "LayoutModel",
            "_view_count": null,
            "_view_module": "@jupyter-widgets/base",
            "_view_module_version": "1.2.0",
            "_view_name": "LayoutView",
            "align_content": null,
            "align_items": null,
            "align_self": null,
            "border": null,
            "bottom": null,
            "display": null,
            "flex": null,
            "flex_flow": null,
            "grid_area": null,
            "grid_auto_columns": null,
            "grid_auto_flow": null,
            "grid_auto_rows": null,
            "grid_column": null,
            "grid_gap": null,
            "grid_row": null,
            "grid_template_areas": null,
            "grid_template_columns": null,
            "grid_template_rows": null,
            "height": null,
            "justify_content": null,
            "justify_items": null,
            "left": null,
            "margin": null,
            "max_height": null,
            "max_width": null,
            "min_height": null,
            "min_width": null,
            "object_fit": null,
            "object_position": null,
            "order": null,
            "overflow": null,
            "overflow_x": null,
            "overflow_y": null,
            "padding": null,
            "right": null,
            "top": null,
            "visibility": null,
            "width": null
          }
        },
        "010ae29372604de1be646930ea242404": {
          "model_module": "@jupyter-widgets/controls",
          "model_name": "DescriptionStyleModel",
          "model_module_version": "1.5.0",
          "state": {
            "_model_module": "@jupyter-widgets/controls",
            "_model_module_version": "1.5.0",
            "_model_name": "DescriptionStyleModel",
            "_view_count": null,
            "_view_module": "@jupyter-widgets/base",
            "_view_module_version": "1.2.0",
            "_view_name": "StyleView",
            "description_width": ""
          }
        },
        "0caf68f3249047af85c9b770ff519c91": {
          "model_module": "@jupyter-widgets/controls",
          "model_name": "HBoxModel",
          "model_module_version": "1.5.0",
          "state": {
            "_dom_classes": [],
            "_model_module": "@jupyter-widgets/controls",
            "_model_module_version": "1.5.0",
            "_model_name": "HBoxModel",
            "_view_count": null,
            "_view_module": "@jupyter-widgets/controls",
            "_view_module_version": "1.5.0",
            "_view_name": "HBoxView",
            "box_style": "",
            "children": [
              "IPY_MODEL_bb13348293994745859629dbee819b60",
              "IPY_MODEL_a9ebb956584d459a9cda6d58a0cba7d4",
              "IPY_MODEL_89cade19f63143b4b851b5336a636ea4"
            ],
            "layout": "IPY_MODEL_5b562ba9b5924145bdaf259705d1c422"
          }
        },
        "bb13348293994745859629dbee819b60": {
          "model_module": "@jupyter-widgets/controls",
          "model_name": "HTMLModel",
          "model_module_version": "1.5.0",
          "state": {
            "_dom_classes": [],
            "_model_module": "@jupyter-widgets/controls",
            "_model_module_version": "1.5.0",
            "_model_name": "HTMLModel",
            "_view_count": null,
            "_view_module": "@jupyter-widgets/controls",
            "_view_module_version": "1.5.0",
            "_view_name": "HTMLView",
            "description": "",
            "description_tooltip": null,
            "layout": "IPY_MODEL_106597270e20463e8e439dafa27d574e",
            "placeholder": "​",
            "style": "IPY_MODEL_65a7adba431c4c2083adf39ca2e3a12a",
            "value": "special_tokens_map.json: 100%"
          }
        },
        "a9ebb956584d459a9cda6d58a0cba7d4": {
          "model_module": "@jupyter-widgets/controls",
          "model_name": "FloatProgressModel",
          "model_module_version": "1.5.0",
          "state": {
            "_dom_classes": [],
            "_model_module": "@jupyter-widgets/controls",
            "_model_module_version": "1.5.0",
            "_model_name": "FloatProgressModel",
            "_view_count": null,
            "_view_module": "@jupyter-widgets/controls",
            "_view_module_version": "1.5.0",
            "_view_name": "ProgressView",
            "bar_style": "success",
            "description": "",
            "description_tooltip": null,
            "layout": "IPY_MODEL_cc259b6ed18849a18fc4ec32b761f791",
            "max": 125,
            "min": 0,
            "orientation": "horizontal",
            "style": "IPY_MODEL_1f7ce93fd4a14bdfba10329200b64367",
            "value": 125
          }
        },
        "89cade19f63143b4b851b5336a636ea4": {
          "model_module": "@jupyter-widgets/controls",
          "model_name": "HTMLModel",
          "model_module_version": "1.5.0",
          "state": {
            "_dom_classes": [],
            "_model_module": "@jupyter-widgets/controls",
            "_model_module_version": "1.5.0",
            "_model_name": "HTMLModel",
            "_view_count": null,
            "_view_module": "@jupyter-widgets/controls",
            "_view_module_version": "1.5.0",
            "_view_name": "HTMLView",
            "description": "",
            "description_tooltip": null,
            "layout": "IPY_MODEL_7b9643f8388e410db5b7f1b71332c747",
            "placeholder": "​",
            "style": "IPY_MODEL_badee212aa5347eba2f254345da25110",
            "value": " 125/125 [00:00&lt;00:00, 6.96kB/s]"
          }
        },
        "5b562ba9b5924145bdaf259705d1c422": {
          "model_module": "@jupyter-widgets/base",
          "model_name": "LayoutModel",
          "model_module_version": "1.2.0",
          "state": {
            "_model_module": "@jupyter-widgets/base",
            "_model_module_version": "1.2.0",
            "_model_name": "LayoutModel",
            "_view_count": null,
            "_view_module": "@jupyter-widgets/base",
            "_view_module_version": "1.2.0",
            "_view_name": "LayoutView",
            "align_content": null,
            "align_items": null,
            "align_self": null,
            "border": null,
            "bottom": null,
            "display": null,
            "flex": null,
            "flex_flow": null,
            "grid_area": null,
            "grid_auto_columns": null,
            "grid_auto_flow": null,
            "grid_auto_rows": null,
            "grid_column": null,
            "grid_gap": null,
            "grid_row": null,
            "grid_template_areas": null,
            "grid_template_columns": null,
            "grid_template_rows": null,
            "height": null,
            "justify_content": null,
            "justify_items": null,
            "left": null,
            "margin": null,
            "max_height": null,
            "max_width": null,
            "min_height": null,
            "min_width": null,
            "object_fit": null,
            "object_position": null,
            "order": null,
            "overflow": null,
            "overflow_x": null,
            "overflow_y": null,
            "padding": null,
            "right": null,
            "top": null,
            "visibility": null,
            "width": null
          }
        },
        "106597270e20463e8e439dafa27d574e": {
          "model_module": "@jupyter-widgets/base",
          "model_name": "LayoutModel",
          "model_module_version": "1.2.0",
          "state": {
            "_model_module": "@jupyter-widgets/base",
            "_model_module_version": "1.2.0",
            "_model_name": "LayoutModel",
            "_view_count": null,
            "_view_module": "@jupyter-widgets/base",
            "_view_module_version": "1.2.0",
            "_view_name": "LayoutView",
            "align_content": null,
            "align_items": null,
            "align_self": null,
            "border": null,
            "bottom": null,
            "display": null,
            "flex": null,
            "flex_flow": null,
            "grid_area": null,
            "grid_auto_columns": null,
            "grid_auto_flow": null,
            "grid_auto_rows": null,
            "grid_column": null,
            "grid_gap": null,
            "grid_row": null,
            "grid_template_areas": null,
            "grid_template_columns": null,
            "grid_template_rows": null,
            "height": null,
            "justify_content": null,
            "justify_items": null,
            "left": null,
            "margin": null,
            "max_height": null,
            "max_width": null,
            "min_height": null,
            "min_width": null,
            "object_fit": null,
            "object_position": null,
            "order": null,
            "overflow": null,
            "overflow_x": null,
            "overflow_y": null,
            "padding": null,
            "right": null,
            "top": null,
            "visibility": null,
            "width": null
          }
        },
        "65a7adba431c4c2083adf39ca2e3a12a": {
          "model_module": "@jupyter-widgets/controls",
          "model_name": "DescriptionStyleModel",
          "model_module_version": "1.5.0",
          "state": {
            "_model_module": "@jupyter-widgets/controls",
            "_model_module_version": "1.5.0",
            "_model_name": "DescriptionStyleModel",
            "_view_count": null,
            "_view_module": "@jupyter-widgets/base",
            "_view_module_version": "1.2.0",
            "_view_name": "StyleView",
            "description_width": ""
          }
        },
        "cc259b6ed18849a18fc4ec32b761f791": {
          "model_module": "@jupyter-widgets/base",
          "model_name": "LayoutModel",
          "model_module_version": "1.2.0",
          "state": {
            "_model_module": "@jupyter-widgets/base",
            "_model_module_version": "1.2.0",
            "_model_name": "LayoutModel",
            "_view_count": null,
            "_view_module": "@jupyter-widgets/base",
            "_view_module_version": "1.2.0",
            "_view_name": "LayoutView",
            "align_content": null,
            "align_items": null,
            "align_self": null,
            "border": null,
            "bottom": null,
            "display": null,
            "flex": null,
            "flex_flow": null,
            "grid_area": null,
            "grid_auto_columns": null,
            "grid_auto_flow": null,
            "grid_auto_rows": null,
            "grid_column": null,
            "grid_gap": null,
            "grid_row": null,
            "grid_template_areas": null,
            "grid_template_columns": null,
            "grid_template_rows": null,
            "height": null,
            "justify_content": null,
            "justify_items": null,
            "left": null,
            "margin": null,
            "max_height": null,
            "max_width": null,
            "min_height": null,
            "min_width": null,
            "object_fit": null,
            "object_position": null,
            "order": null,
            "overflow": null,
            "overflow_x": null,
            "overflow_y": null,
            "padding": null,
            "right": null,
            "top": null,
            "visibility": null,
            "width": null
          }
        },
        "1f7ce93fd4a14bdfba10329200b64367": {
          "model_module": "@jupyter-widgets/controls",
          "model_name": "ProgressStyleModel",
          "model_module_version": "1.5.0",
          "state": {
            "_model_module": "@jupyter-widgets/controls",
            "_model_module_version": "1.5.0",
            "_model_name": "ProgressStyleModel",
            "_view_count": null,
            "_view_module": "@jupyter-widgets/base",
            "_view_module_version": "1.2.0",
            "_view_name": "StyleView",
            "bar_color": null,
            "description_width": ""
          }
        },
        "7b9643f8388e410db5b7f1b71332c747": {
          "model_module": "@jupyter-widgets/base",
          "model_name": "LayoutModel",
          "model_module_version": "1.2.0",
          "state": {
            "_model_module": "@jupyter-widgets/base",
            "_model_module_version": "1.2.0",
            "_model_name": "LayoutModel",
            "_view_count": null,
            "_view_module": "@jupyter-widgets/base",
            "_view_module_version": "1.2.0",
            "_view_name": "LayoutView",
            "align_content": null,
            "align_items": null,
            "align_self": null,
            "border": null,
            "bottom": null,
            "display": null,
            "flex": null,
            "flex_flow": null,
            "grid_area": null,
            "grid_auto_columns": null,
            "grid_auto_flow": null,
            "grid_auto_rows": null,
            "grid_column": null,
            "grid_gap": null,
            "grid_row": null,
            "grid_template_areas": null,
            "grid_template_columns": null,
            "grid_template_rows": null,
            "height": null,
            "justify_content": null,
            "justify_items": null,
            "left": null,
            "margin": null,
            "max_height": null,
            "max_width": null,
            "min_height": null,
            "min_width": null,
            "object_fit": null,
            "object_position": null,
            "order": null,
            "overflow": null,
            "overflow_x": null,
            "overflow_y": null,
            "padding": null,
            "right": null,
            "top": null,
            "visibility": null,
            "width": null
          }
        },
        "badee212aa5347eba2f254345da25110": {
          "model_module": "@jupyter-widgets/controls",
          "model_name": "DescriptionStyleModel",
          "model_module_version": "1.5.0",
          "state": {
            "_model_module": "@jupyter-widgets/controls",
            "_model_module_version": "1.5.0",
            "_model_name": "DescriptionStyleModel",
            "_view_count": null,
            "_view_module": "@jupyter-widgets/base",
            "_view_module_version": "1.2.0",
            "_view_name": "StyleView",
            "description_width": ""
          }
        }
      }
    }
  },
  "nbformat": 4,
  "nbformat_minor": 5
}